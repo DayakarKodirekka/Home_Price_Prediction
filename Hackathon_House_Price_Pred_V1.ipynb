{
  "nbformat": 4,
  "nbformat_minor": 0,
  "metadata": {
    "colab": {
      "name": "Hackathon_House_Price_Pred_V1.ipynb",
      "provenance": [],
      "collapsed_sections": []
    },
    "kernelspec": {
      "name": "python3",
      "display_name": "Python 3"
    },
    "language_info": {
      "name": "python"
    }
  },
  "cells": [
    {
      "cell_type": "markdown",
      "metadata": {
        "id": "OGyD5tpt6LBd"
      },
      "source": [
        "**Loading Required Libraries**"
      ]
    },
    {
      "cell_type": "code",
      "metadata": {
        "id": "ApUgG2GS59n6"
      },
      "source": [
        "import pandas as pd \n",
        "import numpy as np\n",
        "import matplotlib.pyplot as plt\n",
        "import seaborn as sns\n",
        "pd.set_option('display.float_format', lambda x: '{:.3f}'.format(x),'display.max_columns', None) #Limiting floats output to 3 decimal points\n",
        "\n",
        "import warnings\n",
        "def ignore_warn(*args, **kwargs):\n",
        "    pass\n",
        "warnings.warn = ignore_warn #ignore annoying warning (from sklearn and seaborn)"
      ],
      "execution_count": 13,
      "outputs": []
    },
    {
      "cell_type": "markdown",
      "metadata": {
        "id": "MNQXSmDQ7mpG"
      },
      "source": [
        "**Data Ingestion**"
      ]
    },
    {
      "cell_type": "code",
      "metadata": {
        "id": "1sTs1HuK6Cm6"
      },
      "source": [
        "df = pd.read_csv('train1.csv')"
      ],
      "execution_count": 83,
      "outputs": []
    },
    {
      "cell_type": "markdown",
      "metadata": {
        "id": "ZN66GZVk61IE"
      },
      "source": [
        ""
      ]
    },
    {
      "cell_type": "code",
      "metadata": {
        "colab": {
          "base_uri": "https://localhost:8080/",
          "height": 669
        },
        "id": "cQwHfEeC6Hvn",
        "outputId": "4a6a2daa-6549-439a-c943-5446aab4386f"
      },
      "source": [
        "# pivot table for the missing values\n",
        "total = df.isnull().sum().sort_values(ascending=False)\n",
        "percentage = (df.isnull().sum()/df.isnull().count()).sort_values(ascending=False)\n",
        "missing_data = pd.concat([total, percentage], axis=1, keys=['Total', 'Percentage'])\n",
        "missing_data.head(20)"
      ],
      "execution_count": 15,
      "outputs": [
        {
          "output_type": "execute_result",
          "data": {
            "text/html": [
              "<div>\n",
              "<style scoped>\n",
              "    .dataframe tbody tr th:only-of-type {\n",
              "        vertical-align: middle;\n",
              "    }\n",
              "\n",
              "    .dataframe tbody tr th {\n",
              "        vertical-align: top;\n",
              "    }\n",
              "\n",
              "    .dataframe thead th {\n",
              "        text-align: right;\n",
              "    }\n",
              "</style>\n",
              "<table border=\"1\" class=\"dataframe\">\n",
              "  <thead>\n",
              "    <tr style=\"text-align: right;\">\n",
              "      <th></th>\n",
              "      <th>Total</th>\n",
              "      <th>Percentage</th>\n",
              "    </tr>\n",
              "  </thead>\n",
              "  <tbody>\n",
              "    <tr>\n",
              "      <th>PoolQC</th>\n",
              "      <td>1453</td>\n",
              "      <td>0.995</td>\n",
              "    </tr>\n",
              "    <tr>\n",
              "      <th>MiscFeature</th>\n",
              "      <td>1406</td>\n",
              "      <td>0.963</td>\n",
              "    </tr>\n",
              "    <tr>\n",
              "      <th>Alley</th>\n",
              "      <td>1369</td>\n",
              "      <td>0.938</td>\n",
              "    </tr>\n",
              "    <tr>\n",
              "      <th>Fence</th>\n",
              "      <td>1179</td>\n",
              "      <td>0.808</td>\n",
              "    </tr>\n",
              "    <tr>\n",
              "      <th>FireplaceQu</th>\n",
              "      <td>690</td>\n",
              "      <td>0.473</td>\n",
              "    </tr>\n",
              "    <tr>\n",
              "      <th>LotFrontage</th>\n",
              "      <td>238</td>\n",
              "      <td>0.163</td>\n",
              "    </tr>\n",
              "    <tr>\n",
              "      <th>GarageCond</th>\n",
              "      <td>81</td>\n",
              "      <td>0.055</td>\n",
              "    </tr>\n",
              "    <tr>\n",
              "      <th>GarageType</th>\n",
              "      <td>81</td>\n",
              "      <td>0.055</td>\n",
              "    </tr>\n",
              "    <tr>\n",
              "      <th>GarageYrBlt</th>\n",
              "      <td>81</td>\n",
              "      <td>0.055</td>\n",
              "    </tr>\n",
              "    <tr>\n",
              "      <th>GarageFinish</th>\n",
              "      <td>81</td>\n",
              "      <td>0.055</td>\n",
              "    </tr>\n",
              "    <tr>\n",
              "      <th>GarageQual</th>\n",
              "      <td>81</td>\n",
              "      <td>0.055</td>\n",
              "    </tr>\n",
              "    <tr>\n",
              "      <th>BsmtExposure</th>\n",
              "      <td>38</td>\n",
              "      <td>0.026</td>\n",
              "    </tr>\n",
              "    <tr>\n",
              "      <th>BsmtFinType2</th>\n",
              "      <td>38</td>\n",
              "      <td>0.026</td>\n",
              "    </tr>\n",
              "    <tr>\n",
              "      <th>BsmtFinType1</th>\n",
              "      <td>37</td>\n",
              "      <td>0.025</td>\n",
              "    </tr>\n",
              "    <tr>\n",
              "      <th>BsmtCond</th>\n",
              "      <td>37</td>\n",
              "      <td>0.025</td>\n",
              "    </tr>\n",
              "    <tr>\n",
              "      <th>BsmtQual</th>\n",
              "      <td>37</td>\n",
              "      <td>0.025</td>\n",
              "    </tr>\n",
              "    <tr>\n",
              "      <th>MasVnrArea</th>\n",
              "      <td>8</td>\n",
              "      <td>0.005</td>\n",
              "    </tr>\n",
              "    <tr>\n",
              "      <th>MasVnrType</th>\n",
              "      <td>8</td>\n",
              "      <td>0.005</td>\n",
              "    </tr>\n",
              "    <tr>\n",
              "      <th>Electrical</th>\n",
              "      <td>1</td>\n",
              "      <td>0.001</td>\n",
              "    </tr>\n",
              "    <tr>\n",
              "      <th>Utilities</th>\n",
              "      <td>0</td>\n",
              "      <td>0.000</td>\n",
              "    </tr>\n",
              "  </tbody>\n",
              "</table>\n",
              "</div>"
            ],
            "text/plain": [
              "              Total  Percentage\n",
              "PoolQC         1453       0.995\n",
              "MiscFeature    1406       0.963\n",
              "Alley          1369       0.938\n",
              "Fence          1179       0.808\n",
              "FireplaceQu     690       0.473\n",
              "LotFrontage     238       0.163\n",
              "GarageCond       81       0.055\n",
              "GarageType       81       0.055\n",
              "GarageYrBlt      81       0.055\n",
              "GarageFinish     81       0.055\n",
              "GarageQual       81       0.055\n",
              "BsmtExposure     38       0.026\n",
              "BsmtFinType2     38       0.026\n",
              "BsmtFinType1     37       0.025\n",
              "BsmtCond         37       0.025\n",
              "BsmtQual         37       0.025\n",
              "MasVnrArea        8       0.005\n",
              "MasVnrType        8       0.005\n",
              "Electrical        1       0.001\n",
              "Utilities         0       0.000"
            ]
          },
          "metadata": {},
          "execution_count": 15
        }
      ]
    },
    {
      "cell_type": "code",
      "metadata": {
        "id": "hKr5WvpH6qjj"
      },
      "source": [
        "df1 = df.drop(['PoolQC','MiscFeature','Alley','Fence','FireplaceQu','LotFrontage','GarageCond','GarageType','GarageYrBlt','GarageFinish','GarageQual','BsmtExposure','BsmtFinType2','BsmtFinType1','BsmtCond','BsmtQual','MasVnrArea','MasVnrType'], axis=1)"
      ],
      "execution_count": 84,
      "outputs": []
    },
    {
      "cell_type": "code",
      "metadata": {
        "colab": {
          "base_uri": "https://localhost:8080/",
          "height": 754
        },
        "id": "5_7Im8G-76sW",
        "outputId": "99d46569-1217-44df-83c2-6f2187462c6e"
      },
      "source": [
        "corr_matrix = df1.corr()[['SalePrice']].sort_values(by = ['SalePrice'], ascending = False).drop(['SalePrice'])\n",
        "corr_matrix.style.background_gradient(cmap = 'coolwarm').set_precision(2)\n"
      ],
      "execution_count": 85,
      "outputs": [
        {
          "output_type": "execute_result",
          "data": {
            "text/html": [
              "<style  type=\"text/css\" >\n",
              "#T_f86ba910_1246_11ec_bbae_0242ac1c0002row0_col0{\n",
              "            background-color:  #b40426;\n",
              "            color:  #f1f1f1;\n",
              "        }#T_f86ba910_1246_11ec_bbae_0242ac1c0002row1_col0{\n",
              "            background-color:  #d24b40;\n",
              "            color:  #f1f1f1;\n",
              "        }#T_f86ba910_1246_11ec_bbae_0242ac1c0002row2_col0{\n",
              "            background-color:  #e67259;\n",
              "            color:  #000000;\n",
              "        }#T_f86ba910_1246_11ec_bbae_0242ac1c0002row3_col0{\n",
              "            background-color:  #ea7b60;\n",
              "            color:  #000000;\n",
              "        }#T_f86ba910_1246_11ec_bbae_0242ac1c0002row4_col0{\n",
              "            background-color:  #ec7f63;\n",
              "            color:  #000000;\n",
              "        }#T_f86ba910_1246_11ec_bbae_0242ac1c0002row5_col0{\n",
              "            background-color:  #ee8468;\n",
              "            color:  #000000;\n",
              "        }#T_f86ba910_1246_11ec_bbae_0242ac1c0002row6_col0{\n",
              "            background-color:  #f4987a;\n",
              "            color:  #000000;\n",
              "        }#T_f86ba910_1246_11ec_bbae_0242ac1c0002row7_col0{\n",
              "            background-color:  #f6a586;\n",
              "            color:  #000000;\n",
              "        }#T_f86ba910_1246_11ec_bbae_0242ac1c0002row8_col0{\n",
              "            background-color:  #f7a98b;\n",
              "            color:  #000000;\n",
              "        }#T_f86ba910_1246_11ec_bbae_0242ac1c0002row9_col0{\n",
              "            background-color:  #f7af91;\n",
              "            color:  #000000;\n",
              "        }#T_f86ba910_1246_11ec_bbae_0242ac1c0002row10_col0{\n",
              "            background-color:  #f6bda2;\n",
              "            color:  #000000;\n",
              "        }#T_f86ba910_1246_11ec_bbae_0242ac1c0002row11_col0{\n",
              "            background-color:  #ecd3c5;\n",
              "            color:  #000000;\n",
              "        }#T_f86ba910_1246_11ec_bbae_0242ac1c0002row12_col0{\n",
              "            background-color:  #dcdddd;\n",
              "            color:  #000000;\n",
              "        }#T_f86ba910_1246_11ec_bbae_0242ac1c0002row13_col0{\n",
              "            background-color:  #dadce0;\n",
              "            color:  #000000;\n",
              "        }#T_f86ba910_1246_11ec_bbae_0242ac1c0002row14_col0{\n",
              "            background-color:  #d9dce1;\n",
              "            color:  #000000;\n",
              "        }#T_f86ba910_1246_11ec_bbae_0242ac1c0002row15_col0{\n",
              "            background-color:  #d1dae9;\n",
              "            color:  #000000;\n",
              "        }#T_f86ba910_1246_11ec_bbae_0242ac1c0002row16_col0{\n",
              "            background-color:  #cad8ef;\n",
              "            color:  #000000;\n",
              "        }#T_f86ba910_1246_11ec_bbae_0242ac1c0002row17_col0{\n",
              "            background-color:  #bed2f6;\n",
              "            color:  #000000;\n",
              "        }#T_f86ba910_1246_11ec_bbae_0242ac1c0002row18_col0{\n",
              "            background-color:  #b9d0f9;\n",
              "            color:  #000000;\n",
              "        }#T_f86ba910_1246_11ec_bbae_0242ac1c0002row19_col0{\n",
              "            background-color:  #a7c5fe;\n",
              "            color:  #000000;\n",
              "        }#T_f86ba910_1246_11ec_bbae_0242ac1c0002row20_col0{\n",
              "            background-color:  #93b5fe;\n",
              "            color:  #000000;\n",
              "        }#T_f86ba910_1246_11ec_bbae_0242ac1c0002row21_col0{\n",
              "            background-color:  #8caffe;\n",
              "            color:  #000000;\n",
              "        }#T_f86ba910_1246_11ec_bbae_0242ac1c0002row22_col0{\n",
              "            background-color:  #7a9df8;\n",
              "            color:  #000000;\n",
              "        }#T_f86ba910_1246_11ec_bbae_0242ac1c0002row23_col0{\n",
              "            background-color:  #799cf8;\n",
              "            color:  #000000;\n",
              "        }#T_f86ba910_1246_11ec_bbae_0242ac1c0002row24_col0{\n",
              "            background-color:  #6485ec;\n",
              "            color:  #000000;\n",
              "        }#T_f86ba910_1246_11ec_bbae_0242ac1c0002row25_col0{\n",
              "            background-color:  #6282ea;\n",
              "            color:  #000000;\n",
              "        }#T_f86ba910_1246_11ec_bbae_0242ac1c0002row26_col0,#T_f86ba910_1246_11ec_bbae_0242ac1c0002row27_col0{\n",
              "            background-color:  #6180e9;\n",
              "            color:  #000000;\n",
              "        }#T_f86ba910_1246_11ec_bbae_0242ac1c0002row28_col0{\n",
              "            background-color:  #5f7fe8;\n",
              "            color:  #000000;\n",
              "        }#T_f86ba910_1246_11ec_bbae_0242ac1c0002row29_col0{\n",
              "            background-color:  #5e7de7;\n",
              "            color:  #000000;\n",
              "        }#T_f86ba910_1246_11ec_bbae_0242ac1c0002row30_col0{\n",
              "            background-color:  #4e68d8;\n",
              "            color:  #000000;\n",
              "        }#T_f86ba910_1246_11ec_bbae_0242ac1c0002row31_col0{\n",
              "            background-color:  #4b64d5;\n",
              "            color:  #f1f1f1;\n",
              "        }#T_f86ba910_1246_11ec_bbae_0242ac1c0002row32_col0{\n",
              "            background-color:  #3d50c3;\n",
              "            color:  #f1f1f1;\n",
              "        }#T_f86ba910_1246_11ec_bbae_0242ac1c0002row33_col0{\n",
              "            background-color:  #3b4cc0;\n",
              "            color:  #f1f1f1;\n",
              "        }</style><table id=\"T_f86ba910_1246_11ec_bbae_0242ac1c0002\" ><thead>    <tr>        <th class=\"blank level0\" ></th>        <th class=\"col_heading level0 col0\" >SalePrice</th>    </tr></thead><tbody>\n",
              "                <tr>\n",
              "                        <th id=\"T_f86ba910_1246_11ec_bbae_0242ac1c0002level0_row0\" class=\"row_heading level0 row0\" >OverallQual</th>\n",
              "                        <td id=\"T_f86ba910_1246_11ec_bbae_0242ac1c0002row0_col0\" class=\"data row0 col0\" >0.79</td>\n",
              "            </tr>\n",
              "            <tr>\n",
              "                        <th id=\"T_f86ba910_1246_11ec_bbae_0242ac1c0002level0_row1\" class=\"row_heading level0 row1\" >GrLivArea</th>\n",
              "                        <td id=\"T_f86ba910_1246_11ec_bbae_0242ac1c0002row1_col0\" class=\"data row1 col0\" >0.71</td>\n",
              "            </tr>\n",
              "            <tr>\n",
              "                        <th id=\"T_f86ba910_1246_11ec_bbae_0242ac1c0002level0_row2\" class=\"row_heading level0 row2\" >GarageCars</th>\n",
              "                        <td id=\"T_f86ba910_1246_11ec_bbae_0242ac1c0002row2_col0\" class=\"data row2 col0\" >0.64</td>\n",
              "            </tr>\n",
              "            <tr>\n",
              "                        <th id=\"T_f86ba910_1246_11ec_bbae_0242ac1c0002level0_row3\" class=\"row_heading level0 row3\" >GarageArea</th>\n",
              "                        <td id=\"T_f86ba910_1246_11ec_bbae_0242ac1c0002row3_col0\" class=\"data row3 col0\" >0.62</td>\n",
              "            </tr>\n",
              "            <tr>\n",
              "                        <th id=\"T_f86ba910_1246_11ec_bbae_0242ac1c0002level0_row4\" class=\"row_heading level0 row4\" >TotalBsmtSF</th>\n",
              "                        <td id=\"T_f86ba910_1246_11ec_bbae_0242ac1c0002row4_col0\" class=\"data row4 col0\" >0.61</td>\n",
              "            </tr>\n",
              "            <tr>\n",
              "                        <th id=\"T_f86ba910_1246_11ec_bbae_0242ac1c0002level0_row5\" class=\"row_heading level0 row5\" >1stFlrSF</th>\n",
              "                        <td id=\"T_f86ba910_1246_11ec_bbae_0242ac1c0002row5_col0\" class=\"data row5 col0\" >0.61</td>\n",
              "            </tr>\n",
              "            <tr>\n",
              "                        <th id=\"T_f86ba910_1246_11ec_bbae_0242ac1c0002level0_row6\" class=\"row_heading level0 row6\" >FullBath</th>\n",
              "                        <td id=\"T_f86ba910_1246_11ec_bbae_0242ac1c0002row6_col0\" class=\"data row6 col0\" >0.56</td>\n",
              "            </tr>\n",
              "            <tr>\n",
              "                        <th id=\"T_f86ba910_1246_11ec_bbae_0242ac1c0002level0_row7\" class=\"row_heading level0 row7\" >TotRmsAbvGrd</th>\n",
              "                        <td id=\"T_f86ba910_1246_11ec_bbae_0242ac1c0002row7_col0\" class=\"data row7 col0\" >0.53</td>\n",
              "            </tr>\n",
              "            <tr>\n",
              "                        <th id=\"T_f86ba910_1246_11ec_bbae_0242ac1c0002level0_row8\" class=\"row_heading level0 row8\" >YearBuilt</th>\n",
              "                        <td id=\"T_f86ba910_1246_11ec_bbae_0242ac1c0002row8_col0\" class=\"data row8 col0\" >0.52</td>\n",
              "            </tr>\n",
              "            <tr>\n",
              "                        <th id=\"T_f86ba910_1246_11ec_bbae_0242ac1c0002level0_row9\" class=\"row_heading level0 row9\" >YearRemodAdd</th>\n",
              "                        <td id=\"T_f86ba910_1246_11ec_bbae_0242ac1c0002row9_col0\" class=\"data row9 col0\" >0.51</td>\n",
              "            </tr>\n",
              "            <tr>\n",
              "                        <th id=\"T_f86ba910_1246_11ec_bbae_0242ac1c0002level0_row10\" class=\"row_heading level0 row10\" >Fireplaces</th>\n",
              "                        <td id=\"T_f86ba910_1246_11ec_bbae_0242ac1c0002row10_col0\" class=\"data row10 col0\" >0.47</td>\n",
              "            </tr>\n",
              "            <tr>\n",
              "                        <th id=\"T_f86ba910_1246_11ec_bbae_0242ac1c0002level0_row11\" class=\"row_heading level0 row11\" >BsmtFinSF1</th>\n",
              "                        <td id=\"T_f86ba910_1246_11ec_bbae_0242ac1c0002row11_col0\" class=\"data row11 col0\" >0.39</td>\n",
              "            </tr>\n",
              "            <tr>\n",
              "                        <th id=\"T_f86ba910_1246_11ec_bbae_0242ac1c0002level0_row12\" class=\"row_heading level0 row12\" >WoodDeckSF</th>\n",
              "                        <td id=\"T_f86ba910_1246_11ec_bbae_0242ac1c0002row12_col0\" class=\"data row12 col0\" >0.32</td>\n",
              "            </tr>\n",
              "            <tr>\n",
              "                        <th id=\"T_f86ba910_1246_11ec_bbae_0242ac1c0002level0_row13\" class=\"row_heading level0 row13\" >2ndFlrSF</th>\n",
              "                        <td id=\"T_f86ba910_1246_11ec_bbae_0242ac1c0002row13_col0\" class=\"data row13 col0\" >0.32</td>\n",
              "            </tr>\n",
              "            <tr>\n",
              "                        <th id=\"T_f86ba910_1246_11ec_bbae_0242ac1c0002level0_row14\" class=\"row_heading level0 row14\" >OpenPorchSF</th>\n",
              "                        <td id=\"T_f86ba910_1246_11ec_bbae_0242ac1c0002row14_col0\" class=\"data row14 col0\" >0.32</td>\n",
              "            </tr>\n",
              "            <tr>\n",
              "                        <th id=\"T_f86ba910_1246_11ec_bbae_0242ac1c0002level0_row15\" class=\"row_heading level0 row15\" >HalfBath</th>\n",
              "                        <td id=\"T_f86ba910_1246_11ec_bbae_0242ac1c0002row15_col0\" class=\"data row15 col0\" >0.28</td>\n",
              "            </tr>\n",
              "            <tr>\n",
              "                        <th id=\"T_f86ba910_1246_11ec_bbae_0242ac1c0002level0_row16\" class=\"row_heading level0 row16\" >LotArea</th>\n",
              "                        <td id=\"T_f86ba910_1246_11ec_bbae_0242ac1c0002row16_col0\" class=\"data row16 col0\" >0.26</td>\n",
              "            </tr>\n",
              "            <tr>\n",
              "                        <th id=\"T_f86ba910_1246_11ec_bbae_0242ac1c0002level0_row17\" class=\"row_heading level0 row17\" >BsmtFullBath</th>\n",
              "                        <td id=\"T_f86ba910_1246_11ec_bbae_0242ac1c0002row17_col0\" class=\"data row17 col0\" >0.23</td>\n",
              "            </tr>\n",
              "            <tr>\n",
              "                        <th id=\"T_f86ba910_1246_11ec_bbae_0242ac1c0002level0_row18\" class=\"row_heading level0 row18\" >BsmtUnfSF</th>\n",
              "                        <td id=\"T_f86ba910_1246_11ec_bbae_0242ac1c0002row18_col0\" class=\"data row18 col0\" >0.21</td>\n",
              "            </tr>\n",
              "            <tr>\n",
              "                        <th id=\"T_f86ba910_1246_11ec_bbae_0242ac1c0002level0_row19\" class=\"row_heading level0 row19\" >BedroomAbvGr</th>\n",
              "                        <td id=\"T_f86ba910_1246_11ec_bbae_0242ac1c0002row19_col0\" class=\"data row19 col0\" >0.17</td>\n",
              "            </tr>\n",
              "            <tr>\n",
              "                        <th id=\"T_f86ba910_1246_11ec_bbae_0242ac1c0002level0_row20\" class=\"row_heading level0 row20\" >ScreenPorch</th>\n",
              "                        <td id=\"T_f86ba910_1246_11ec_bbae_0242ac1c0002row20_col0\" class=\"data row20 col0\" >0.11</td>\n",
              "            </tr>\n",
              "            <tr>\n",
              "                        <th id=\"T_f86ba910_1246_11ec_bbae_0242ac1c0002level0_row21\" class=\"row_heading level0 row21\" >PoolArea</th>\n",
              "                        <td id=\"T_f86ba910_1246_11ec_bbae_0242ac1c0002row21_col0\" class=\"data row21 col0\" >0.09</td>\n",
              "            </tr>\n",
              "            <tr>\n",
              "                        <th id=\"T_f86ba910_1246_11ec_bbae_0242ac1c0002level0_row22\" class=\"row_heading level0 row22\" >MoSold</th>\n",
              "                        <td id=\"T_f86ba910_1246_11ec_bbae_0242ac1c0002row22_col0\" class=\"data row22 col0\" >0.05</td>\n",
              "            </tr>\n",
              "            <tr>\n",
              "                        <th id=\"T_f86ba910_1246_11ec_bbae_0242ac1c0002level0_row23\" class=\"row_heading level0 row23\" >3SsnPorch</th>\n",
              "                        <td id=\"T_f86ba910_1246_11ec_bbae_0242ac1c0002row23_col0\" class=\"data row23 col0\" >0.04</td>\n",
              "            </tr>\n",
              "            <tr>\n",
              "                        <th id=\"T_f86ba910_1246_11ec_bbae_0242ac1c0002level0_row24\" class=\"row_heading level0 row24\" >BsmtFinSF2</th>\n",
              "                        <td id=\"T_f86ba910_1246_11ec_bbae_0242ac1c0002row24_col0\" class=\"data row24 col0\" >-0.01</td>\n",
              "            </tr>\n",
              "            <tr>\n",
              "                        <th id=\"T_f86ba910_1246_11ec_bbae_0242ac1c0002level0_row25\" class=\"row_heading level0 row25\" >BsmtHalfBath</th>\n",
              "                        <td id=\"T_f86ba910_1246_11ec_bbae_0242ac1c0002row25_col0\" class=\"data row25 col0\" >-0.02</td>\n",
              "            </tr>\n",
              "            <tr>\n",
              "                        <th id=\"T_f86ba910_1246_11ec_bbae_0242ac1c0002level0_row26\" class=\"row_heading level0 row26\" >MiscVal</th>\n",
              "                        <td id=\"T_f86ba910_1246_11ec_bbae_0242ac1c0002row26_col0\" class=\"data row26 col0\" >-0.02</td>\n",
              "            </tr>\n",
              "            <tr>\n",
              "                        <th id=\"T_f86ba910_1246_11ec_bbae_0242ac1c0002level0_row27\" class=\"row_heading level0 row27\" >Id</th>\n",
              "                        <td id=\"T_f86ba910_1246_11ec_bbae_0242ac1c0002row27_col0\" class=\"data row27 col0\" >-0.02</td>\n",
              "            </tr>\n",
              "            <tr>\n",
              "                        <th id=\"T_f86ba910_1246_11ec_bbae_0242ac1c0002level0_row28\" class=\"row_heading level0 row28\" >LowQualFinSF</th>\n",
              "                        <td id=\"T_f86ba910_1246_11ec_bbae_0242ac1c0002row28_col0\" class=\"data row28 col0\" >-0.03</td>\n",
              "            </tr>\n",
              "            <tr>\n",
              "                        <th id=\"T_f86ba910_1246_11ec_bbae_0242ac1c0002level0_row29\" class=\"row_heading level0 row29\" >YrSold</th>\n",
              "                        <td id=\"T_f86ba910_1246_11ec_bbae_0242ac1c0002row29_col0\" class=\"data row29 col0\" >-0.03</td>\n",
              "            </tr>\n",
              "            <tr>\n",
              "                        <th id=\"T_f86ba910_1246_11ec_bbae_0242ac1c0002level0_row30\" class=\"row_heading level0 row30\" >OverallCond</th>\n",
              "                        <td id=\"T_f86ba910_1246_11ec_bbae_0242ac1c0002row30_col0\" class=\"data row30 col0\" >-0.08</td>\n",
              "            </tr>\n",
              "            <tr>\n",
              "                        <th id=\"T_f86ba910_1246_11ec_bbae_0242ac1c0002level0_row31\" class=\"row_heading level0 row31\" >MSSubClass</th>\n",
              "                        <td id=\"T_f86ba910_1246_11ec_bbae_0242ac1c0002row31_col0\" class=\"data row31 col0\" >-0.08</td>\n",
              "            </tr>\n",
              "            <tr>\n",
              "                        <th id=\"T_f86ba910_1246_11ec_bbae_0242ac1c0002level0_row32\" class=\"row_heading level0 row32\" >EnclosedPorch</th>\n",
              "                        <td id=\"T_f86ba910_1246_11ec_bbae_0242ac1c0002row32_col0\" class=\"data row32 col0\" >-0.13</td>\n",
              "            </tr>\n",
              "            <tr>\n",
              "                        <th id=\"T_f86ba910_1246_11ec_bbae_0242ac1c0002level0_row33\" class=\"row_heading level0 row33\" >KitchenAbvGr</th>\n",
              "                        <td id=\"T_f86ba910_1246_11ec_bbae_0242ac1c0002row33_col0\" class=\"data row33 col0\" >-0.14</td>\n",
              "            </tr>\n",
              "    </tbody></table>"
            ],
            "text/plain": [
              "<pandas.io.formats.style.Styler at 0x7ffab05a0b90>"
            ]
          },
          "metadata": {},
          "execution_count": 85
        }
      ]
    },
    {
      "cell_type": "code",
      "metadata": {
        "id": "mQJLIJl294uH"
      },
      "source": [
        "df2 = df1.drop(['HalfBath','LotArea','BsmtFullBath','BsmtUnfSF','BedroomAbvGr','ScreenPorch','PoolArea','MoSold','3SsnPorch','BsmtFinSF2','BsmtHalfBath','MiscVal','LowQualFinSF','YrSold','OverallCond','MSSubClass','EnclosedPorch','KitchenAbvGr'], axis=1)"
      ],
      "execution_count": 86,
      "outputs": []
    },
    {
      "cell_type": "code",
      "metadata": {
        "id": "2XyCmxlPB2xQ"
      },
      "source": [
        "df2['Electrical'].fillna('None', inplace= True)"
      ],
      "execution_count": 87,
      "outputs": []
    },
    {
      "cell_type": "code",
      "metadata": {
        "colab": {
          "base_uri": "https://localhost:8080/"
        },
        "id": "6-DbRNcv9kM2",
        "outputId": "aa8f2044-3f9c-4f5d-a086-449bf5d2afc0"
      },
      "source": [
        "corr_matrix.shape"
      ],
      "execution_count": 19,
      "outputs": [
        {
          "output_type": "execute_result",
          "data": {
            "text/plain": [
              "(34, 1)"
            ]
          },
          "metadata": {},
          "execution_count": 19
        }
      ]
    },
    {
      "cell_type": "code",
      "metadata": {
        "colab": {
          "base_uri": "https://localhost:8080/"
        },
        "id": "BcJ5xGSO8QXH",
        "outputId": "629f8364-e520-4e6b-9ff1-f1a46c1ef854"
      },
      "source": [
        "df2.shape"
      ],
      "execution_count": 21,
      "outputs": [
        {
          "output_type": "execute_result",
          "data": {
            "text/plain": [
              "(1460, 44)"
            ]
          },
          "metadata": {},
          "execution_count": 21
        }
      ]
    },
    {
      "cell_type": "code",
      "metadata": {
        "id": "GOdgo8Cv8Ud6"
      },
      "source": [
        "pd.set_option('display.float_format', lambda x: '{:.3f}'.format(x),'display.max_columns', None)"
      ],
      "execution_count": 22,
      "outputs": []
    },
    {
      "cell_type": "code",
      "metadata": {
        "colab": {
          "base_uri": "https://localhost:8080/"
        },
        "id": "GVlyG_NH-20G",
        "outputId": "90968d3b-9fa1-4d35-e6ff-d065025e7494"
      },
      "source": [
        "df2.dtypes"
      ],
      "execution_count": 23,
      "outputs": [
        {
          "output_type": "execute_result",
          "data": {
            "text/plain": [
              "MSZoning         object\n",
              "Street           object\n",
              "LotShape         object\n",
              "LandContour      object\n",
              "Utilities        object\n",
              "LotConfig        object\n",
              "LandSlope        object\n",
              "Neighborhood     object\n",
              "Condition1       object\n",
              "Condition2       object\n",
              "BldgType         object\n",
              "HouseStyle       object\n",
              "OverallQual       int64\n",
              "YearBuilt         int64\n",
              "YearRemodAdd      int64\n",
              "RoofStyle        object\n",
              "RoofMatl         object\n",
              "Exterior1st      object\n",
              "Exterior2nd      object\n",
              "ExterQual        object\n",
              "ExterCond        object\n",
              "Foundation       object\n",
              "BsmtFinSF1        int64\n",
              "TotalBsmtSF       int64\n",
              "Heating          object\n",
              "HeatingQC        object\n",
              "CentralAir       object\n",
              "Electrical       object\n",
              "1stFlrSF          int64\n",
              "2ndFlrSF          int64\n",
              "GrLivArea         int64\n",
              "FullBath          int64\n",
              "KitchenQual      object\n",
              "TotRmsAbvGrd      int64\n",
              "Functional       object\n",
              "Fireplaces        int64\n",
              "GarageCars        int64\n",
              "GarageArea        int64\n",
              "PavedDrive       object\n",
              "WoodDeckSF        int64\n",
              "OpenPorchSF       int64\n",
              "SaleType         object\n",
              "SaleCondition    object\n",
              "SalePrice         int64\n",
              "dtype: object"
            ]
          },
          "metadata": {},
          "execution_count": 23
        }
      ]
    },
    {
      "cell_type": "markdown",
      "metadata": {
        "id": "HK9I1lXy_d-L"
      },
      "source": [
        "#Feature Engineering and pipeline building"
      ]
    },
    {
      "cell_type": "code",
      "metadata": {
        "colab": {
          "base_uri": "https://localhost:8080/"
        },
        "id": "OLJFNclO_cFq",
        "outputId": "f8b493f6-24b5-4aa9-d417-ec5df1998b52"
      },
      "source": [
        "df2.select_dtypes(include=['int64']).columns.tolist()"
      ],
      "execution_count": 25,
      "outputs": [
        {
          "output_type": "execute_result",
          "data": {
            "text/plain": [
              "['OverallQual',\n",
              " 'YearBuilt',\n",
              " 'YearRemodAdd',\n",
              " 'BsmtFinSF1',\n",
              " 'TotalBsmtSF',\n",
              " '1stFlrSF',\n",
              " '2ndFlrSF',\n",
              " 'GrLivArea',\n",
              " 'FullBath',\n",
              " 'TotRmsAbvGrd',\n",
              " 'Fireplaces',\n",
              " 'GarageCars',\n",
              " 'GarageArea',\n",
              " 'WoodDeckSF',\n",
              " 'OpenPorchSF',\n",
              " 'SalePrice']"
            ]
          },
          "metadata": {},
          "execution_count": 25
        }
      ]
    },
    {
      "cell_type": "code",
      "metadata": {
        "id": "MK2OHCx3-7DL"
      },
      "source": [
        "from sklearn.compose import ColumnTransformer\n",
        "from sklearn.pipeline import Pipeline\n",
        "from sklearn.preprocessing import PolynomialFeatures\n",
        "from sklearn.preprocessing import StandardScaler, OneHotEncoder\n",
        "from sklearn.linear_model import LinearRegression\n",
        "from sklearn.model_selection import train_test_split"
      ],
      "execution_count": 88,
      "outputs": []
    },
    {
      "cell_type": "code",
      "metadata": {
        "id": "sHGUkF3T_o9V"
      },
      "source": [
        "numeric_features = ['OverallQual',\n",
        " 'YearBuilt',\n",
        " 'YearRemodAdd',\n",
        " 'BsmtFinSF1',\n",
        " 'TotalBsmtSF',\n",
        " '1stFlrSF',\n",
        " '2ndFlrSF',\n",
        " 'GrLivArea',\n",
        " 'FullBath',\n",
        " 'TotRmsAbvGrd',\n",
        " 'Fireplaces',\n",
        " 'GarageCars',\n",
        " 'GarageArea',\n",
        " 'WoodDeckSF',\n",
        " 'OpenPorchSF']\n",
        "                    \n",
        "numeric_transformer = Pipeline(steps=[('scaler', StandardScaler())])"
      ],
      "execution_count": 89,
      "outputs": []
    },
    {
      "cell_type": "code",
      "metadata": {
        "id": "D5qo2_bU_v13"
      },
      "source": [
        "categorical_features = ['MSZoning',\n",
        " 'Street',\n",
        " 'LotShape',\n",
        " 'LandContour',\n",
        " 'Utilities',\n",
        " 'LotConfig',\n",
        " 'LandSlope',\n",
        " 'Neighborhood',\n",
        " 'Condition1',\n",
        " 'Condition2',\n",
        " 'BldgType',\n",
        " 'HouseStyle',\n",
        " 'RoofStyle',\n",
        " 'RoofMatl',\n",
        " 'Exterior1st',\n",
        " 'Exterior2nd',\n",
        " 'ExterQual',\n",
        " 'ExterCond',\n",
        " 'Foundation',\n",
        " 'Heating',\n",
        " 'HeatingQC',\n",
        " 'CentralAir',\n",
        " 'Electrical',\n",
        " 'KitchenQual',\n",
        " 'Functional',\n",
        " 'PavedDrive',\n",
        " 'SaleType',\n",
        " 'SaleCondition']\n",
        "categorical_transformer = Pipeline(steps=[\n",
        "    ('onehot', OneHotEncoder(handle_unknown='ignore'))])"
      ],
      "execution_count": 90,
      "outputs": []
    },
    {
      "cell_type": "code",
      "metadata": {
        "id": "1W9zNaox_5GR"
      },
      "source": [
        "preprocessor = ColumnTransformer(\n",
        "    transformers=[\n",
        "        ('num', numeric_transformer, numeric_features),\n",
        "        ('cat', categorical_transformer, categorical_features)])"
      ],
      "execution_count": 91,
      "outputs": []
    },
    {
      "cell_type": "code",
      "metadata": {
        "id": "GDrXzzzJ_6Na"
      },
      "source": [
        "clf = Pipeline(steps=[('preprocessor', preprocessor),\n",
        "                      ('classifier', LinearRegression())])"
      ],
      "execution_count": 92,
      "outputs": []
    },
    {
      "cell_type": "code",
      "metadata": {
        "colab": {
          "base_uri": "https://localhost:8080/"
        },
        "id": "ZBOp7JIt__FW",
        "outputId": "a8f1369c-a5f1-4e3b-d85a-c5637001e8e6"
      },
      "source": [
        "X = df2.drop('SalePrice', axis=1)\n",
        "y = df2[['SalePrice']]\n",
        "X_train, X_test, y_train, y_test = train_test_split(X, y, test_size=0.2, random_state=42)\n",
        "\n",
        "print(X_train.shape)\n",
        "print(X_test.shape)\n",
        "print(y_train.shape)\n",
        "print(y_test.shape)"
      ],
      "execution_count": 93,
      "outputs": [
        {
          "output_type": "stream",
          "name": "stdout",
          "text": [
            "(1168, 44)\n",
            "(292, 44)\n",
            "(1168, 1)\n",
            "(292, 1)\n"
          ]
        }
      ]
    },
    {
      "cell_type": "code",
      "metadata": {
        "colab": {
          "base_uri": "https://localhost:8080/"
        },
        "id": "WhJ6lKE_BfGB",
        "outputId": "0ffca0d3-7ff7-40e8-deb5-7709053514be"
      },
      "source": [
        "#Get the missing variables and their corresponding number of missing values\n",
        "missing_columns = len(df2) - df2.loc[:, np.sum(df2.isnull())>0].count()\n",
        "missing_columns"
      ],
      "execution_count": 94,
      "outputs": [
        {
          "output_type": "execute_result",
          "data": {
            "text/plain": [
              "Series([], dtype: int64)"
            ]
          },
          "metadata": {},
          "execution_count": 94
        }
      ]
    },
    {
      "cell_type": "code",
      "metadata": {
        "colab": {
          "base_uri": "https://localhost:8080/"
        },
        "id": "7KYrSQ42BJVY",
        "outputId": "26fb68dc-9c93-415e-d473-fdeffbfeace1"
      },
      "source": [
        "clf.fit(X_train, y_train)"
      ],
      "execution_count": 96,
      "outputs": [
        {
          "output_type": "execute_result",
          "data": {
            "text/plain": [
              "Pipeline(memory=None,\n",
              "         steps=[('preprocessor',\n",
              "                 ColumnTransformer(n_jobs=None, remainder='drop',\n",
              "                                   sparse_threshold=0.3,\n",
              "                                   transformer_weights=None,\n",
              "                                   transformers=[('num',\n",
              "                                                  Pipeline(memory=None,\n",
              "                                                           steps=[('scaler',\n",
              "                                                                   StandardScaler(copy=True,\n",
              "                                                                                  with_mean=True,\n",
              "                                                                                  with_std=True))],\n",
              "                                                           verbose=False),\n",
              "                                                  ['OverallQual', 'YearBuilt',\n",
              "                                                   'YearRemodAdd', 'BsmtFinSF1',\n",
              "                                                   'TotalBsmtSF', '1stFlrSF',\n",
              "                                                   '2...\n",
              "                                                   'BldgType', 'HouseStyle',\n",
              "                                                   'RoofStyle', 'RoofMatl',\n",
              "                                                   'Exterior1st', 'Exterior2nd',\n",
              "                                                   'ExterQual', 'ExterCond',\n",
              "                                                   'Foundation', 'Heating',\n",
              "                                                   'HeatingQC', 'CentralAir',\n",
              "                                                   'Electrical', 'KitchenQual',\n",
              "                                                   'Functional', 'PavedDrive',\n",
              "                                                   'SaleType',\n",
              "                                                   'SaleCondition'])],\n",
              "                                   verbose=False)),\n",
              "                ('classifier',\n",
              "                 LinearRegression(copy_X=True, fit_intercept=True, n_jobs=None,\n",
              "                                  normalize=False))],\n",
              "         verbose=False)"
            ]
          },
          "metadata": {},
          "execution_count": 96
        }
      ]
    },
    {
      "cell_type": "code",
      "metadata": {
        "id": "FHZNsU-LAzvt"
      },
      "source": [
        "y_train_pred = clf.predict(X_train)\n",
        "y_test_pred = clf.predict(X_test)"
      ],
      "execution_count": 97,
      "outputs": []
    },
    {
      "cell_type": "code",
      "metadata": {
        "colab": {
          "base_uri": "https://localhost:8080/"
        },
        "id": "vp8aSxsWLMOS",
        "outputId": "65f089c3-cdc5-4e16-84c3-b1248007836e"
      },
      "source": [
        "y_test_pred"
      ],
      "execution_count": 98,
      "outputs": [
        {
          "output_type": "execute_result",
          "data": {
            "text/plain": [
              "array([[152597.35699993],\n",
              "       [333576.14297397],\n",
              "       [ 83517.12614239],\n",
              "       [179307.19587296],\n",
              "       [310152.542026  ],\n",
              "       [ 56934.72386716],\n",
              "       [230220.20273743],\n",
              "       [151069.3730126 ],\n",
              "       [ 46849.04896895],\n",
              "       [122332.08104256],\n",
              "       [139657.31533864],\n",
              "       [105849.52910787],\n",
              "       [ 68686.15704434],\n",
              "       [229220.34916945],\n",
              "       [174773.16737339],\n",
              "       [130430.1335991 ],\n",
              "       [193643.36669056],\n",
              "       [129245.61737188],\n",
              "       [122681.1161967 ],\n",
              "       [218687.63034025],\n",
              "       [166382.75485474],\n",
              "       [210388.80967387],\n",
              "       [165946.88595149],\n",
              "       [120813.06670166],\n",
              "       [204721.78146644],\n",
              "       [132598.20633663],\n",
              "       [197650.07400279],\n",
              "       [ 95495.00961213],\n",
              "       [173322.16964703],\n",
              "       [193595.64519264],\n",
              "       [137338.34634519],\n",
              "       [286904.80182448],\n",
              "       [254006.2760187 ],\n",
              "       [ 97444.55731217],\n",
              "       [235689.20531022],\n",
              "       [158013.93200179],\n",
              "       [141801.39201566],\n",
              "       [207490.43139025],\n",
              "       [322941.48027369],\n",
              "       [ 84833.53205009],\n",
              "       [137017.93889225],\n",
              "       [233594.49592978],\n",
              "       [101663.35281204],\n",
              "       [382878.27004307],\n",
              "       [143460.88379542],\n",
              "       [163752.29275154],\n",
              "       [105240.54279501],\n",
              "       [132198.08012101],\n",
              "       [403449.41487978],\n",
              "       [127489.55868688],\n",
              "       [111728.80958918],\n",
              "       [284410.82157357],\n",
              "       [ 96666.97113323],\n",
              "       [304209.84414983],\n",
              "       [136868.48221283],\n",
              "       [246942.57025426],\n",
              "       [199441.35423533],\n",
              "       [171472.44367658],\n",
              "       [142050.18354949],\n",
              "       [ 77738.94036443],\n",
              "       [ 61522.65304582],\n",
              "       [157574.16614261],\n",
              "       [303480.38606223],\n",
              "       [272999.26534058],\n",
              "       [265092.24247914],\n",
              "       [202579.08461337],\n",
              "       [ 88376.67416693],\n",
              "       [279171.48009918],\n",
              "       [125154.80293739],\n",
              "       [156183.1428997 ],\n",
              "       [126032.72802384],\n",
              "       [128168.52702104],\n",
              "       [104126.8306257 ],\n",
              "       [ 25268.94003219],\n",
              "       [453333.68703432],\n",
              "       [214561.20854766],\n",
              "       [320786.27071374],\n",
              "       [380270.24386522],\n",
              "       [138765.38725443],\n",
              "       [113382.19945275],\n",
              "       [100784.26226762],\n",
              "       [ 64158.24417267],\n",
              "       [121087.81265679],\n",
              "       [ 70211.48318485],\n",
              "       [151359.14629676],\n",
              "       [141832.08762216],\n",
              "       [262780.41038767],\n",
              "       [210093.30014502],\n",
              "       [131741.98876875],\n",
              "       [191838.51973569],\n",
              "       [143621.46785771],\n",
              "       [160381.00497078],\n",
              "       [163622.36985527],\n",
              "       [254260.45627843],\n",
              "       [118758.81421537],\n",
              "       [186804.41869901],\n",
              "       [201581.30044   ],\n",
              "       [149481.25397579],\n",
              "       [220922.97180598],\n",
              "       [261962.54945177],\n",
              "       [211765.71747826],\n",
              "       [207511.27680247],\n",
              "       [276624.95972337],\n",
              "       [146173.82966384],\n",
              "       [191095.52036693],\n",
              "       [174226.97414939],\n",
              "       [139614.71258994],\n",
              "       [301472.52341875],\n",
              "       [166914.11770632],\n",
              "       [237697.43891349],\n",
              "       [ 48772.05252514],\n",
              "       [149208.51110442],\n",
              "       [144904.97522957],\n",
              "       [139264.7968691 ],\n",
              "       [203093.42043271],\n",
              "       [113053.44428274],\n",
              "       [103724.36352711],\n",
              "       [ 99491.7735281 ],\n",
              "       [122595.04555548],\n",
              "       [319274.32385843],\n",
              "       [119791.10135872],\n",
              "       [131874.81404307],\n",
              "       [180236.06992848],\n",
              "       [174452.00028723],\n",
              "       [199328.63330367],\n",
              "       [132841.89891039],\n",
              "       [239588.94157052],\n",
              "       [103828.41297706],\n",
              "       [143759.72451799],\n",
              "       [170908.95372456],\n",
              "       [193426.92618261],\n",
              "       [316900.63137411],\n",
              "       [197038.29243909],\n",
              "       [142604.66092112],\n",
              "       [ -3874.90645341],\n",
              "       [370214.14174766],\n",
              "       [368812.59597079],\n",
              "       [135049.14693857],\n",
              "       [240071.03214593],\n",
              "       [598784.63521697],\n",
              "       [364541.24182898],\n",
              "       [125212.13332021],\n",
              "       [168753.10203672],\n",
              "       [167722.05739206],\n",
              "       [131811.28850994],\n",
              "       [126459.32955697],\n",
              "       [225592.56419717],\n",
              "       [201532.82472618],\n",
              "       [127524.24479766],\n",
              "       [ 46400.18518288],\n",
              "       [123470.73158495],\n",
              "       [144759.36641063],\n",
              "       [297878.70750921],\n",
              "       [151906.15758359],\n",
              "       [ 90061.76304146],\n",
              "       [107069.40172388],\n",
              "       [142182.25252396],\n",
              "       [145831.08742843],\n",
              "       [ 71820.14445103],\n",
              "       [133264.83061774],\n",
              "       [184269.31391491],\n",
              "       [130032.20984732],\n",
              "       [297766.79908535],\n",
              "       [156968.26374862],\n",
              "       [114217.21777182],\n",
              "       [122366.80793043],\n",
              "       [240507.29626459],\n",
              "       [321764.34503249],\n",
              "       [403509.44404336],\n",
              "       [214057.4578515 ],\n",
              "       [357256.04953044],\n",
              "       [ 85950.05705252],\n",
              "       [110974.88530558],\n",
              "       [140130.54811413],\n",
              "       [333362.13940445],\n",
              "       [101612.05830631],\n",
              "       [134330.59326347],\n",
              "       [230859.40991898],\n",
              "       [140250.74640382],\n",
              "       [163501.13761312],\n",
              "       [170269.52332616],\n",
              "       [116725.81699958],\n",
              "       [131724.67466646],\n",
              "       [154020.40465089],\n",
              "       [248877.22573648],\n",
              "       [135528.77173711],\n",
              "       [269876.74238761],\n",
              "       [233261.72305257],\n",
              "       [213450.08097638],\n",
              "       [ 70551.79199349],\n",
              "       [113083.88503755],\n",
              "       [133586.43003341],\n",
              "       [141904.07794305],\n",
              "       [139668.56245551],\n",
              "       [209776.68377007],\n",
              "       [213637.23186012],\n",
              "       [204151.27809244],\n",
              "       [ 50310.7364954 ],\n",
              "       [195779.44570509],\n",
              "       [130144.79262284],\n",
              "       [265972.56734781],\n",
              "       [203543.57022051],\n",
              "       [134830.93281647],\n",
              "       [323822.00130608],\n",
              "       [198815.72617641],\n",
              "       [118171.04999741],\n",
              "       [233953.37663731],\n",
              "       [131736.75008495],\n",
              "       [151869.53388431],\n",
              "       [104855.37812042],\n",
              "       [219339.94505329],\n",
              "       [143904.4842363 ],\n",
              "       [111177.15924002],\n",
              "       [150987.01070698],\n",
              "       [143940.15071808],\n",
              "       [258829.17348548],\n",
              "       [195121.77381593],\n",
              "       [150446.32288825],\n",
              "       [174002.97023717],\n",
              "       [ 98233.07134731],\n",
              "       [137430.0404708 ],\n",
              "       [230507.88586878],\n",
              "       [212446.37753949],\n",
              "       [ 86681.81669073],\n",
              "       [221409.2693616 ],\n",
              "       [143449.49882742],\n",
              "       [ 54139.92689888],\n",
              "       [ 88456.39265433],\n",
              "       [152171.46028185],\n",
              "       [ 72409.92842714],\n",
              "       [ 71485.65606233],\n",
              "       [172466.72984763],\n",
              "       [110299.69116883],\n",
              "       [132449.77810148],\n",
              "       [225987.52730753],\n",
              "       [137386.85802598],\n",
              "       [211867.89953025],\n",
              "       [161318.9314223 ],\n",
              "       [231822.06391359],\n",
              "       [105866.79760575],\n",
              "       [ 98576.30448169],\n",
              "       [287527.9284952 ],\n",
              "       [212909.20815209],\n",
              "       [442822.55279488],\n",
              "       [183583.24195794],\n",
              "       [124600.62126233],\n",
              "       [115315.26132318],\n",
              "       [178440.13149791],\n",
              "       [131936.66060039],\n",
              "       [113099.95892739],\n",
              "       [197019.7327543 ],\n",
              "       [164480.95117597],\n",
              "       [152549.69140894],\n",
              "       [ 95998.73891855],\n",
              "       [146639.26299765],\n",
              "       [141357.86475971],\n",
              "       [119095.93156363],\n",
              "       [110525.09833388],\n",
              "       [176163.31758167],\n",
              "       [252874.32580357],\n",
              "       [301333.6501433 ],\n",
              "       [195624.59647566],\n",
              "       [117150.25142605],\n",
              "       [236353.63360251],\n",
              "       [338256.66175696],\n",
              "       [213917.12649733],\n",
              "       [158974.26898797],\n",
              "       [127530.65158925],\n",
              "       [112171.06436872],\n",
              "       [185335.72706569],\n",
              "       [423528.23024957],\n",
              "       [231929.21698246],\n",
              "       [231772.1155896 ],\n",
              "       [ 89799.66500741],\n",
              "       [ 68483.96540898],\n",
              "       [149292.17057337],\n",
              "       [138401.81835216],\n",
              "       [334494.7076235 ],\n",
              "       [296433.39731063],\n",
              "       [123245.7502929 ],\n",
              "       [200399.22380717],\n",
              "       [ 95016.19510305],\n",
              "       [214456.5370873 ],\n",
              "       [ 97897.32477929],\n",
              "       [268449.92916662],\n",
              "       [166017.62766511],\n",
              "       [216864.96003515],\n",
              "       [144370.36042998],\n",
              "       [282383.14718907],\n",
              "       [185014.98329185],\n",
              "       [101683.01649767],\n",
              "       [105964.35501238]])"
            ]
          },
          "metadata": {},
          "execution_count": 98
        }
      ]
    },
    {
      "cell_type": "code",
      "metadata": {
        "id": "1al1VuBoLfJ6"
      },
      "source": [
        "submission = pd.DataFrame()\n",
        "submission['Id']= X_test.Id\n",
        "submission['SalePrice'] = y_test_pred"
      ],
      "execution_count": 101,
      "outputs": []
    },
    {
      "cell_type": "code",
      "metadata": {
        "colab": {
          "base_uri": "https://localhost:8080/",
          "height": 419
        },
        "id": "mw4RzipSNZyk",
        "outputId": "50b12c36-4ab5-4d24-8ae1-961a9bb9c471"
      },
      "source": [
        "submission"
      ],
      "execution_count": 102,
      "outputs": [
        {
          "output_type": "execute_result",
          "data": {
            "text/html": [
              "<div>\n",
              "<style scoped>\n",
              "    .dataframe tbody tr th:only-of-type {\n",
              "        vertical-align: middle;\n",
              "    }\n",
              "\n",
              "    .dataframe tbody tr th {\n",
              "        vertical-align: top;\n",
              "    }\n",
              "\n",
              "    .dataframe thead th {\n",
              "        text-align: right;\n",
              "    }\n",
              "</style>\n",
              "<table border=\"1\" class=\"dataframe\">\n",
              "  <thead>\n",
              "    <tr style=\"text-align: right;\">\n",
              "      <th></th>\n",
              "      <th>Id</th>\n",
              "      <th>SalePrice</th>\n",
              "    </tr>\n",
              "  </thead>\n",
              "  <tbody>\n",
              "    <tr>\n",
              "      <th>892</th>\n",
              "      <td>893</td>\n",
              "      <td>152597.357</td>\n",
              "    </tr>\n",
              "    <tr>\n",
              "      <th>1105</th>\n",
              "      <td>1106</td>\n",
              "      <td>333576.143</td>\n",
              "    </tr>\n",
              "    <tr>\n",
              "      <th>413</th>\n",
              "      <td>414</td>\n",
              "      <td>83517.126</td>\n",
              "    </tr>\n",
              "    <tr>\n",
              "      <th>522</th>\n",
              "      <td>523</td>\n",
              "      <td>179307.196</td>\n",
              "    </tr>\n",
              "    <tr>\n",
              "      <th>1036</th>\n",
              "      <td>1037</td>\n",
              "      <td>310152.542</td>\n",
              "    </tr>\n",
              "    <tr>\n",
              "      <th>...</th>\n",
              "      <td>...</td>\n",
              "      <td>...</td>\n",
              "    </tr>\n",
              "    <tr>\n",
              "      <th>479</th>\n",
              "      <td>480</td>\n",
              "      <td>144370.360</td>\n",
              "    </tr>\n",
              "    <tr>\n",
              "      <th>1361</th>\n",
              "      <td>1362</td>\n",
              "      <td>282383.147</td>\n",
              "    </tr>\n",
              "    <tr>\n",
              "      <th>802</th>\n",
              "      <td>803</td>\n",
              "      <td>185014.983</td>\n",
              "    </tr>\n",
              "    <tr>\n",
              "      <th>651</th>\n",
              "      <td>652</td>\n",
              "      <td>101683.016</td>\n",
              "    </tr>\n",
              "    <tr>\n",
              "      <th>722</th>\n",
              "      <td>723</td>\n",
              "      <td>105964.355</td>\n",
              "    </tr>\n",
              "  </tbody>\n",
              "</table>\n",
              "<p>292 rows × 2 columns</p>\n",
              "</div>"
            ],
            "text/plain": [
              "        Id  SalePrice\n",
              "892    893 152597.357\n",
              "1105  1106 333576.143\n",
              "413    414  83517.126\n",
              "522    523 179307.196\n",
              "1036  1037 310152.542\n",
              "...    ...        ...\n",
              "479    480 144370.360\n",
              "1361  1362 282383.147\n",
              "802    803 185014.983\n",
              "651    652 101683.016\n",
              "722    723 105964.355\n",
              "\n",
              "[292 rows x 2 columns]"
            ]
          },
          "metadata": {},
          "execution_count": 102
        }
      ]
    },
    {
      "cell_type": "code",
      "metadata": {
        "colab": {
          "base_uri": "https://localhost:8080/"
        },
        "id": "nkD2HN97A9A6",
        "outputId": "4b8ed562-cce0-4070-b03a-051d7d5211c4"
      },
      "source": [
        "\n",
        "clf.score(X_train, y_train)"
      ],
      "execution_count": 43,
      "outputs": [
        {
          "output_type": "execute_result",
          "data": {
            "text/plain": [
              "0.9151732030274681"
            ]
          },
          "metadata": {},
          "execution_count": 43
        }
      ]
    },
    {
      "cell_type": "code",
      "metadata": {
        "colab": {
          "base_uri": "https://localhost:8080/"
        },
        "id": "2tZmtOCeCeY7",
        "outputId": "7e64ce7c-3c91-4937-9d30-449d34fd40b6"
      },
      "source": [
        "\n",
        "clf.score(X_test, y_test)"
      ],
      "execution_count": 44,
      "outputs": [
        {
          "output_type": "execute_result",
          "data": {
            "text/plain": [
              "0.8694631181264455"
            ]
          },
          "metadata": {},
          "execution_count": 44
        }
      ]
    },
    {
      "cell_type": "code",
      "metadata": {
        "id": "b2fzhV5eKtFX"
      },
      "source": [
        "import numpy as np"
      ],
      "execution_count": 76,
      "outputs": []
    },
    {
      "cell_type": "code",
      "metadata": {
        "colab": {
          "base_uri": "https://localhost:8080/"
        },
        "id": "ap4vzUnSKhBB",
        "outputId": "954bfd6a-c58a-4123-fc0d-c0a2da57a730"
      },
      "source": [
        "y_pred = np.expm1(clf.predict(X_test))"
      ],
      "execution_count": 78,
      "outputs": [
        {
          "output_type": "stream",
          "name": "stderr",
          "text": [
            "/usr/local/lib/python3.7/dist-packages/ipykernel_launcher.py:1: RuntimeWarning: overflow encountered in expm1\n",
            "  \"\"\"Entry point for launching an IPython kernel.\n"
          ]
        }
      ]
    },
    {
      "cell_type": "code",
      "metadata": {
        "colab": {
          "base_uri": "https://localhost:8080/"
        },
        "id": "7iQ0MSmGEV9P",
        "outputId": "353a1bb5-4ac0-404e-c259-ab858029dc0e"
      },
      "source": [
        "print(X_test, y_test)"
      ],
      "execution_count": 53,
      "outputs": [
        {
          "output_type": "stream",
          "name": "stdout",
          "text": [
            "     MSZoning Street LotShape LandContour Utilities LotConfig LandSlope  \\\n",
            "892        RL   Pave      Reg         Lvl    AllPub    Inside       Gtl   \n",
            "1105       RL   Pave      IR1         Lvl    AllPub    Corner       Gtl   \n",
            "413        RM   Pave      Reg         Lvl    AllPub    Inside       Gtl   \n",
            "522        RM   Pave      Reg         Lvl    AllPub    Corner       Gtl   \n",
            "1036       RL   Pave      IR1         HLS    AllPub    Inside       Gtl   \n",
            "...       ...    ...      ...         ...       ...       ...       ...   \n",
            "479        RM   Pave      Reg         Bnk    AllPub    Inside       Gtl   \n",
            "1361       RL   Pave      IR1         Low    AllPub    Inside       Mod   \n",
            "802        RL   Pave      Reg         Lvl    AllPub    Inside       Gtl   \n",
            "651        RL   Pave      Reg         Lvl    AllPub    Inside       Gtl   \n",
            "722        RL   Pave      Reg         Lvl    AllPub    Inside       Gtl   \n",
            "\n",
            "     Neighborhood Condition1 Condition2 BldgType HouseStyle  OverallQual  \\\n",
            "892        Sawyer       Norm       Norm     1Fam     1Story            6   \n",
            "1105      NoRidge       Norm       Norm     1Fam     2Story            8   \n",
            "413       OldTown     Artery       Norm     1Fam     1Story            5   \n",
            "522       BrkSide      Feedr       Norm     1Fam     1.5Fin            6   \n",
            "1036       Timber       Norm       Norm     1Fam     1Story            9   \n",
            "...           ...        ...        ...      ...        ...          ...   \n",
            "479       OldTown       Norm       Norm     1Fam     1Story            4   \n",
            "1361      StoneBr       Norm       Norm     1Fam     1Story            7   \n",
            "802       CollgCr       Norm       Norm     1Fam     2Story            7   \n",
            "651       Edwards     Artery       Norm     1Fam     2Story            4   \n",
            "722         NAmes       Norm       Norm     1Fam     1Story            4   \n",
            "\n",
            "      YearBuilt  YearRemodAdd RoofStyle RoofMatl Exterior1st Exterior2nd  \\\n",
            "892        1963          2003       Hip  CompShg     HdBoard     HdBoard   \n",
            "1105       1994          1995     Gable  CompShg     HdBoard     HdBoard   \n",
            "413        1927          1950     Gable  CompShg     WdShing     Wd Shng   \n",
            "522        1947          1950     Gable  CompShg     CemntBd     CmentBd   \n",
            "1036       2007          2008       Hip  CompShg     VinylSd     VinylSd   \n",
            "...         ...           ...       ...      ...         ...         ...   \n",
            "479        1937          2000       Hip  CompShg      Stucco      Stucco   \n",
            "1361       2005          2005       Hip  CompShg     VinylSd     VinylSd   \n",
            "802        2005          2005     Gable  CompShg     WdShing     Wd Shng   \n",
            "651        1940          1950     Gable  CompShg     MetalSd     MetalSd   \n",
            "722        1970          1970     Gable  CompShg     MetalSd     MetalSd   \n",
            "\n",
            "     ExterQual ExterCond Foundation  BsmtFinSF1  TotalBsmtSF Heating  \\\n",
            "892         TA        TA     CBlock         663         1059    GasA   \n",
            "1105        Gd        TA      PConc        1032         1463    GasA   \n",
            "413         TA        TA     CBlock           0         1008    GasA   \n",
            "522         TA        Gd     CBlock         399         1004    GasA   \n",
            "1036        Gd        TA      PConc        1022         1620    GasA   \n",
            "...        ...       ...        ...         ...          ...     ...   \n",
            "479         TA        TA     BrkTil         168          907    GasA   \n",
            "1361        Gd        TA      PConc        1274         1530    GasA   \n",
            "802         Gd        TA      PConc         648          728    GasA   \n",
            "651         TA        TA     CBlock           0          755    GasA   \n",
            "722         TA        Gd     CBlock         191          864    GasA   \n",
            "\n",
            "     HeatingQC CentralAir Electrical  1stFlrSF  2ndFlrSF  GrLivArea  FullBath  \\\n",
            "892         TA          Y      SBrkr      1068         0       1068         1   \n",
            "1105        Ex          Y      SBrkr      1500      1122       2622         2   \n",
            "413         Gd          Y      FuseA      1028         0       1028         1   \n",
            "522         Ex          Y      SBrkr      1004       660       1664         2   \n",
            "1036        Ex          Y      SBrkr      1620         0       1620         2   \n",
            "...        ...        ...        ...       ...       ...        ...       ...   \n",
            "479         TA          Y      SBrkr      1131         0       1131         1   \n",
            "1361        Ex          Y      SBrkr      1530         0       1530         2   \n",
            "802         Ex          Y      SBrkr       728       728       1456         2   \n",
            "651         TA          Y      SBrkr       755       755       1510         1   \n",
            "722         Ex          Y      SBrkr       864         0        864         1   \n",
            "\n",
            "     KitchenQual  TotRmsAbvGrd Functional  Fireplaces  GarageCars  GarageArea  \\\n",
            "892           TA             6        Typ           0           1         264   \n",
            "1105          Gd             9        Typ           2           2         712   \n",
            "413           TA             5        Typ           1           2         360   \n",
            "522           TA             7        Typ           2           2         420   \n",
            "1036          Ex             6        Typ           1           3         912   \n",
            "...          ...           ...        ...         ...         ...         ...   \n",
            "479           TA             7        Typ           0           2         672   \n",
            "1361          Gd             7        Typ           1           2         430   \n",
            "802           Gd             7        Typ           1           2         410   \n",
            "651           TA             7        Typ           1           1         296   \n",
            "722           TA             5        Typ           0           2         463   \n",
            "\n",
            "     PavedDrive  WoodDeckSF  OpenPorchSF SaleType SaleCondition  \n",
            "892           Y         192            0       WD        Normal  \n",
            "1105          Y         186           32       WD        Normal  \n",
            "413           Y           0            0       WD        Normal  \n",
            "522           Y           0           24       WD        Normal  \n",
            "1036          Y         228            0       WD        Normal  \n",
            "...         ...         ...          ...      ...           ...  \n",
            "479           Y           0           72       WD        Alloca  \n",
            "1361          Y         168           36       WD        Normal  \n",
            "802           Y          36           18       WD        Normal  \n",
            "651           P         120            0       WD        Normal  \n",
            "722           Y           0            0       WD        Normal  \n",
            "\n",
            "[292 rows x 43 columns]       SalePrice\n",
            "892      154500\n",
            "1105     325000\n",
            "413      115000\n",
            "522      159000\n",
            "1036     315500\n",
            "...         ...\n",
            "479       89471\n",
            "1361     260000\n",
            "802      189000\n",
            "651      108000\n",
            "722      124500\n",
            "\n",
            "[292 rows x 1 columns]\n"
          ]
        }
      ]
    },
    {
      "cell_type": "code",
      "metadata": {
        "id": "7STWrxXaCuMc"
      },
      "source": [
        "from sklearn.model_selection import cross_val_score, train_test_split\n",
        "from sklearn.metrics import mean_squared_error, make_scorer, accuracy_score\n",
        "from math import sqrt"
      ],
      "execution_count": 48,
      "outputs": []
    },
    {
      "cell_type": "code",
      "metadata": {
        "colab": {
          "base_uri": "https://localhost:8080/"
        },
        "id": "xAlclp06CggU",
        "outputId": "adc9a8c9-4d3f-46b6-dd07-83ceb9e767b0"
      },
      "source": [
        "scorer = make_scorer(mean_squared_error, greater_is_better = False)\n",
        "rmse_train = np.sqrt(-cross_val_score(clf, X_train, y_train, scoring = scorer, cv=10))\n",
        "rmse_test = np.sqrt(-cross_val_score(clf, X_test, y_test, scoring = scorer, cv=10))\n",
        "print ('Mean RMSE for training set is',rmse_train.mean())\n",
        "print ('Mean RMSE for the test set is',rmse_test.mean())"
      ],
      "execution_count": 49,
      "outputs": [
        {
          "output_type": "stream",
          "name": "stdout",
          "text": [
            "Mean RMSE for training set is 33327.76569658233\n",
            "Mean RMSE for the test set is 45397.432229284044\n"
          ]
        }
      ]
    },
    {
      "cell_type": "code",
      "metadata": {
        "colab": {
          "base_uri": "https://localhost:8080/"
        },
        "id": "8oulkoEsDL1G",
        "outputId": "9069bd58-6922-427b-893a-b3eafef8eced"
      },
      "source": [
        "import pickle\n",
        "\n",
        "pickle.dump(clf, open('lr_model.pkl','wb'))\n",
        "# Loading model to compare the results\n",
        "model = pickle.load(open('lr_model.pkl','rb'))\n",
        "print(model)"
      ],
      "execution_count": 51,
      "outputs": [
        {
          "output_type": "stream",
          "name": "stdout",
          "text": [
            "Pipeline(memory=None,\n",
            "         steps=[('preprocessor',\n",
            "                 ColumnTransformer(n_jobs=None, remainder='drop',\n",
            "                                   sparse_threshold=0.3,\n",
            "                                   transformer_weights=None,\n",
            "                                   transformers=[('num',\n",
            "                                                  Pipeline(memory=None,\n",
            "                                                           steps=[('scaler',\n",
            "                                                                   StandardScaler(copy=True,\n",
            "                                                                                  with_mean=True,\n",
            "                                                                                  with_std=True))],\n",
            "                                                           verbose=False),\n",
            "                                                  ['OverallQual', 'YearBuilt',\n",
            "                                                   'YearRemodAdd', 'BsmtFinSF1',\n",
            "                                                   'TotalBsmtSF', '1stFlrSF',\n",
            "                                                   '2...\n",
            "                                                   'BldgType', 'HouseStyle',\n",
            "                                                   'RoofStyle', 'RoofMatl',\n",
            "                                                   'Exterior1st', 'Exterior2nd',\n",
            "                                                   'ExterQual', 'ExterCond',\n",
            "                                                   'Foundation', 'Heating',\n",
            "                                                   'HeatingQC', 'CentralAir',\n",
            "                                                   'Electrical', 'KitchenQual',\n",
            "                                                   'Functional', 'PavedDrive',\n",
            "                                                   'SaleType',\n",
            "                                                   'SaleCondition'])],\n",
            "                                   verbose=False)),\n",
            "                ('classifier',\n",
            "                 LinearRegression(copy_X=True, fit_intercept=True, n_jobs=None,\n",
            "                                  normalize=False))],\n",
            "         verbose=False)\n"
          ]
        }
      ]
    },
    {
      "cell_type": "code",
      "metadata": {
        "id": "x5FP9QPfH18U"
      },
      "source": [
        "df_test = pd.read_csv('test1.csv')"
      ],
      "execution_count": 65,
      "outputs": []
    },
    {
      "cell_type": "code",
      "metadata": {
        "id": "tLe17Q-EIE_b"
      },
      "source": [
        "df_t = df_test.drop(['PoolQC','MiscFeature','Alley','Fence','FireplaceQu','LotFrontage','GarageCond','GarageType','GarageYrBlt','GarageFinish','GarageQual','BsmtExposure','BsmtFinType2','BsmtFinType1','BsmtCond','BsmtQual','MasVnrArea','MasVnrType',\n",
        "                     'HalfBath','LotArea','BsmtFullBath','BsmtUnfSF','BedroomAbvGr','ScreenPorch','PoolArea','MoSold','3SsnPorch','BsmtFinSF2','BsmtHalfBath','MiscVal','Id','LowQualFinSF','YrSold','OverallCond','MSSubClass','EnclosedPorch','KitchenAbvGr'], axis=1)"
      ],
      "execution_count": 66,
      "outputs": []
    },
    {
      "cell_type": "code",
      "metadata": {
        "colab": {
          "base_uri": "https://localhost:8080/"
        },
        "id": "KbEvQNlcIWvZ",
        "outputId": "2b501d7a-ea09-4d11-c87c-383b366e29e8"
      },
      "source": [
        "#Get the missing variables and their corresponding number of missing values\n",
        "missing_columns_t = len(df_t) - df_t.loc[:, np.sum(df_t.isnull())>0].count()\n",
        "missing_columns_t"
      ],
      "execution_count": 67,
      "outputs": [
        {
          "output_type": "execute_result",
          "data": {
            "text/plain": [
              "MSZoning       4\n",
              "Utilities      2\n",
              "Exterior1st    1\n",
              "Exterior2nd    1\n",
              "BsmtFinSF1     1\n",
              "TotalBsmtSF    1\n",
              "KitchenQual    1\n",
              "Functional     2\n",
              "GarageCars     1\n",
              "GarageArea     1\n",
              "SaleType       1\n",
              "dtype: int64"
            ]
          },
          "metadata": {},
          "execution_count": 67
        }
      ]
    },
    {
      "cell_type": "code",
      "metadata": {
        "id": "D8xkMUzYIqw6"
      },
      "source": [
        "to_impute_by_none = df_t.loc[:, ['MSZoning','Utilities','Exterior1st','Exterior2nd','BsmtFinSF1','TotalBsmtSF','KitchenQual','Functional','GarageCars','GarageArea']]\n",
        "for i in to_impute_by_none.columns:\n",
        "    df_t[i].fillna('None', inplace = True)"
      ],
      "execution_count": 72,
      "outputs": []
    },
    {
      "cell_type": "code",
      "metadata": {
        "id": "gDg6T5gODmps"
      },
      "source": [
        "def predict_with_optimized_models(mdl):\n",
        "    mdl.fit(X_train, y_train)\n",
        "    y_pred = np.expm1(mdl.predict(X_test))\n",
        "    submission = pd.DataFrame()\n",
        "    submission['Id']= X_test.Id\n",
        "    submission['SalePrice'] = y_test_pred\n",
        "    return submission"
      ],
      "execution_count": 103,
      "outputs": []
    },
    {
      "cell_type": "code",
      "metadata": {
        "colab": {
          "base_uri": "https://localhost:8080/"
        },
        "id": "EE6TMXZbFvM-",
        "outputId": "db92ce32-54d7-42fb-bbd7-9ccf7d935045"
      },
      "source": [
        "predict_with_optimized_models(clf).to_csv('lr_reg.csv', index = False)\n",
        "# predict_with_optimized_models(ridge_opt).to_csv('ridge_optimized.csv', index = False)"
      ],
      "execution_count": 104,
      "outputs": [
        {
          "output_type": "stream",
          "name": "stderr",
          "text": [
            "/usr/local/lib/python3.7/dist-packages/ipykernel_launcher.py:3: RuntimeWarning: overflow encountered in expm1\n",
            "  This is separate from the ipykernel package so we can avoid doing imports until\n"
          ]
        }
      ]
    },
    {
      "cell_type": "code",
      "metadata": {
        "id": "9oeHk4tMGRrD"
      },
      "source": [
        ""
      ],
      "execution_count": null,
      "outputs": []
    }
  ]
}