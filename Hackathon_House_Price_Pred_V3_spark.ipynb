{
  "nbformat": 4,
  "nbformat_minor": 0,
  "metadata": {
    "colab": {
      "name": "Hackathon_House_Price_Pred_V3_spark.ipynb",
      "provenance": [],
      "collapsed_sections": []
    },
    "kernelspec": {
      "name": "python3",
      "display_name": "Python 3"
    },
    "language_info": {
      "name": "python"
    }
  },
  "cells": [
    {
      "cell_type": "markdown",
      "metadata": {
        "id": "OGyD5tpt6LBd"
      },
      "source": [
        "**Loading Required Libraries**"
      ]
    },
    {
      "cell_type": "code",
      "metadata": {
        "id": "ApUgG2GS59n6"
      },
      "source": [
        "import pandas as pd \n",
        "import numpy as np\n",
        "import matplotlib.pyplot as plt\n",
        "import seaborn as sns\n",
        "pd.set_option('display.float_format', lambda x: '{:.3f}'.format(x),'display.max_columns', None) #Limiting floats output to 3 decimal points\n",
        "\n",
        "import warnings\n",
        "def ignore_warn(*args, **kwargs):\n",
        "    pass\n",
        "warnings.warn = ignore_warn #ignore annoying warning (from sklearn and seaborn)"
      ],
      "execution_count": 13,
      "outputs": []
    },
    {
      "cell_type": "markdown",
      "metadata": {
        "id": "MNQXSmDQ7mpG"
      },
      "source": [
        "**Data Ingestion**"
      ]
    },
    {
      "cell_type": "code",
      "metadata": {
        "id": "1sTs1HuK6Cm6"
      },
      "source": [
        "df = pd.read_csv('train1.csv')"
      ],
      "execution_count": 83,
      "outputs": []
    },
    {
      "cell_type": "markdown",
      "metadata": {
        "id": "ZN66GZVk61IE"
      },
      "source": [
        ""
      ]
    },
    {
      "cell_type": "code",
      "metadata": {
        "colab": {
          "base_uri": "https://localhost:8080/",
          "height": 669
        },
        "id": "cQwHfEeC6Hvn",
        "outputId": "4a6a2daa-6549-439a-c943-5446aab4386f"
      },
      "source": [
        "# pivot table for the missing values\n",
        "total = df.isnull().sum().sort_values(ascending=False)\n",
        "percentage = (df.isnull().sum()/df.isnull().count()).sort_values(ascending=False)\n",
        "missing_data = pd.concat([total, percentage], axis=1, keys=['Total', 'Percentage'])\n",
        "missing_data.head(20)"
      ],
      "execution_count": 15,
      "outputs": [
        {
          "output_type": "execute_result",
          "data": {
            "text/html": [
              "<div>\n",
              "<style scoped>\n",
              "    .dataframe tbody tr th:only-of-type {\n",
              "        vertical-align: middle;\n",
              "    }\n",
              "\n",
              "    .dataframe tbody tr th {\n",
              "        vertical-align: top;\n",
              "    }\n",
              "\n",
              "    .dataframe thead th {\n",
              "        text-align: right;\n",
              "    }\n",
              "</style>\n",
              "<table border=\"1\" class=\"dataframe\">\n",
              "  <thead>\n",
              "    <tr style=\"text-align: right;\">\n",
              "      <th></th>\n",
              "      <th>Total</th>\n",
              "      <th>Percentage</th>\n",
              "    </tr>\n",
              "  </thead>\n",
              "  <tbody>\n",
              "    <tr>\n",
              "      <th>PoolQC</th>\n",
              "      <td>1453</td>\n",
              "      <td>0.995</td>\n",
              "    </tr>\n",
              "    <tr>\n",
              "      <th>MiscFeature</th>\n",
              "      <td>1406</td>\n",
              "      <td>0.963</td>\n",
              "    </tr>\n",
              "    <tr>\n",
              "      <th>Alley</th>\n",
              "      <td>1369</td>\n",
              "      <td>0.938</td>\n",
              "    </tr>\n",
              "    <tr>\n",
              "      <th>Fence</th>\n",
              "      <td>1179</td>\n",
              "      <td>0.808</td>\n",
              "    </tr>\n",
              "    <tr>\n",
              "      <th>FireplaceQu</th>\n",
              "      <td>690</td>\n",
              "      <td>0.473</td>\n",
              "    </tr>\n",
              "    <tr>\n",
              "      <th>LotFrontage</th>\n",
              "      <td>238</td>\n",
              "      <td>0.163</td>\n",
              "    </tr>\n",
              "    <tr>\n",
              "      <th>GarageCond</th>\n",
              "      <td>81</td>\n",
              "      <td>0.055</td>\n",
              "    </tr>\n",
              "    <tr>\n",
              "      <th>GarageType</th>\n",
              "      <td>81</td>\n",
              "      <td>0.055</td>\n",
              "    </tr>\n",
              "    <tr>\n",
              "      <th>GarageYrBlt</th>\n",
              "      <td>81</td>\n",
              "      <td>0.055</td>\n",
              "    </tr>\n",
              "    <tr>\n",
              "      <th>GarageFinish</th>\n",
              "      <td>81</td>\n",
              "      <td>0.055</td>\n",
              "    </tr>\n",
              "    <tr>\n",
              "      <th>GarageQual</th>\n",
              "      <td>81</td>\n",
              "      <td>0.055</td>\n",
              "    </tr>\n",
              "    <tr>\n",
              "      <th>BsmtExposure</th>\n",
              "      <td>38</td>\n",
              "      <td>0.026</td>\n",
              "    </tr>\n",
              "    <tr>\n",
              "      <th>BsmtFinType2</th>\n",
              "      <td>38</td>\n",
              "      <td>0.026</td>\n",
              "    </tr>\n",
              "    <tr>\n",
              "      <th>BsmtFinType1</th>\n",
              "      <td>37</td>\n",
              "      <td>0.025</td>\n",
              "    </tr>\n",
              "    <tr>\n",
              "      <th>BsmtCond</th>\n",
              "      <td>37</td>\n",
              "      <td>0.025</td>\n",
              "    </tr>\n",
              "    <tr>\n",
              "      <th>BsmtQual</th>\n",
              "      <td>37</td>\n",
              "      <td>0.025</td>\n",
              "    </tr>\n",
              "    <tr>\n",
              "      <th>MasVnrArea</th>\n",
              "      <td>8</td>\n",
              "      <td>0.005</td>\n",
              "    </tr>\n",
              "    <tr>\n",
              "      <th>MasVnrType</th>\n",
              "      <td>8</td>\n",
              "      <td>0.005</td>\n",
              "    </tr>\n",
              "    <tr>\n",
              "      <th>Electrical</th>\n",
              "      <td>1</td>\n",
              "      <td>0.001</td>\n",
              "    </tr>\n",
              "    <tr>\n",
              "      <th>Utilities</th>\n",
              "      <td>0</td>\n",
              "      <td>0.000</td>\n",
              "    </tr>\n",
              "  </tbody>\n",
              "</table>\n",
              "</div>"
            ],
            "text/plain": [
              "              Total  Percentage\n",
              "PoolQC         1453       0.995\n",
              "MiscFeature    1406       0.963\n",
              "Alley          1369       0.938\n",
              "Fence          1179       0.808\n",
              "FireplaceQu     690       0.473\n",
              "LotFrontage     238       0.163\n",
              "GarageCond       81       0.055\n",
              "GarageType       81       0.055\n",
              "GarageYrBlt      81       0.055\n",
              "GarageFinish     81       0.055\n",
              "GarageQual       81       0.055\n",
              "BsmtExposure     38       0.026\n",
              "BsmtFinType2     38       0.026\n",
              "BsmtFinType1     37       0.025\n",
              "BsmtCond         37       0.025\n",
              "BsmtQual         37       0.025\n",
              "MasVnrArea        8       0.005\n",
              "MasVnrType        8       0.005\n",
              "Electrical        1       0.001\n",
              "Utilities         0       0.000"
            ]
          },
          "metadata": {},
          "execution_count": 15
        }
      ]
    },
    {
      "cell_type": "code",
      "metadata": {
        "id": "hKr5WvpH6qjj"
      },
      "source": [
        "df1 = df.drop(['PoolQC','MiscFeature','Alley','Fence','FireplaceQu','LotFrontage','GarageCond','GarageType','GarageYrBlt','GarageFinish','GarageQual','BsmtExposure','BsmtFinType2','BsmtFinType1','BsmtCond','BsmtQual','MasVnrArea','MasVnrType'], axis=1)"
      ],
      "execution_count": 84,
      "outputs": []
    },
    {
      "cell_type": "code",
      "metadata": {
        "colab": {
          "base_uri": "https://localhost:8080/",
          "height": 754
        },
        "id": "5_7Im8G-76sW",
        "outputId": "99d46569-1217-44df-83c2-6f2187462c6e"
      },
      "source": [
        "corr_matrix = df1.corr()[['SalePrice']].sort_values(by = ['SalePrice'], ascending = False).drop(['SalePrice'])\n",
        "corr_matrix.style.background_gradient(cmap = 'coolwarm').set_precision(2)\n"
      ],
      "execution_count": 85,
      "outputs": [
        {
          "output_type": "execute_result",
          "data": {
            "text/html": [
              "<style  type=\"text/css\" >\n",
              "#T_f86ba910_1246_11ec_bbae_0242ac1c0002row0_col0{\n",
              "            background-color:  #b40426;\n",
              "            color:  #f1f1f1;\n",
              "        }#T_f86ba910_1246_11ec_bbae_0242ac1c0002row1_col0{\n",
              "            background-color:  #d24b40;\n",
              "            color:  #f1f1f1;\n",
              "        }#T_f86ba910_1246_11ec_bbae_0242ac1c0002row2_col0{\n",
              "            background-color:  #e67259;\n",
              "            color:  #000000;\n",
              "        }#T_f86ba910_1246_11ec_bbae_0242ac1c0002row3_col0{\n",
              "            background-color:  #ea7b60;\n",
              "            color:  #000000;\n",
              "        }#T_f86ba910_1246_11ec_bbae_0242ac1c0002row4_col0{\n",
              "            background-color:  #ec7f63;\n",
              "            color:  #000000;\n",
              "        }#T_f86ba910_1246_11ec_bbae_0242ac1c0002row5_col0{\n",
              "            background-color:  #ee8468;\n",
              "            color:  #000000;\n",
              "        }#T_f86ba910_1246_11ec_bbae_0242ac1c0002row6_col0{\n",
              "            background-color:  #f4987a;\n",
              "            color:  #000000;\n",
              "        }#T_f86ba910_1246_11ec_bbae_0242ac1c0002row7_col0{\n",
              "            background-color:  #f6a586;\n",
              "            color:  #000000;\n",
              "        }#T_f86ba910_1246_11ec_bbae_0242ac1c0002row8_col0{\n",
              "            background-color:  #f7a98b;\n",
              "            color:  #000000;\n",
              "        }#T_f86ba910_1246_11ec_bbae_0242ac1c0002row9_col0{\n",
              "            background-color:  #f7af91;\n",
              "            color:  #000000;\n",
              "        }#T_f86ba910_1246_11ec_bbae_0242ac1c0002row10_col0{\n",
              "            background-color:  #f6bda2;\n",
              "            color:  #000000;\n",
              "        }#T_f86ba910_1246_11ec_bbae_0242ac1c0002row11_col0{\n",
              "            background-color:  #ecd3c5;\n",
              "            color:  #000000;\n",
              "        }#T_f86ba910_1246_11ec_bbae_0242ac1c0002row12_col0{\n",
              "            background-color:  #dcdddd;\n",
              "            color:  #000000;\n",
              "        }#T_f86ba910_1246_11ec_bbae_0242ac1c0002row13_col0{\n",
              "            background-color:  #dadce0;\n",
              "            color:  #000000;\n",
              "        }#T_f86ba910_1246_11ec_bbae_0242ac1c0002row14_col0{\n",
              "            background-color:  #d9dce1;\n",
              "            color:  #000000;\n",
              "        }#T_f86ba910_1246_11ec_bbae_0242ac1c0002row15_col0{\n",
              "            background-color:  #d1dae9;\n",
              "            color:  #000000;\n",
              "        }#T_f86ba910_1246_11ec_bbae_0242ac1c0002row16_col0{\n",
              "            background-color:  #cad8ef;\n",
              "            color:  #000000;\n",
              "        }#T_f86ba910_1246_11ec_bbae_0242ac1c0002row17_col0{\n",
              "            background-color:  #bed2f6;\n",
              "            color:  #000000;\n",
              "        }#T_f86ba910_1246_11ec_bbae_0242ac1c0002row18_col0{\n",
              "            background-color:  #b9d0f9;\n",
              "            color:  #000000;\n",
              "        }#T_f86ba910_1246_11ec_bbae_0242ac1c0002row19_col0{\n",
              "            background-color:  #a7c5fe;\n",
              "            color:  #000000;\n",
              "        }#T_f86ba910_1246_11ec_bbae_0242ac1c0002row20_col0{\n",
              "            background-color:  #93b5fe;\n",
              "            color:  #000000;\n",
              "        }#T_f86ba910_1246_11ec_bbae_0242ac1c0002row21_col0{\n",
              "            background-color:  #8caffe;\n",
              "            color:  #000000;\n",
              "        }#T_f86ba910_1246_11ec_bbae_0242ac1c0002row22_col0{\n",
              "            background-color:  #7a9df8;\n",
              "            color:  #000000;\n",
              "        }#T_f86ba910_1246_11ec_bbae_0242ac1c0002row23_col0{\n",
              "            background-color:  #799cf8;\n",
              "            color:  #000000;\n",
              "        }#T_f86ba910_1246_11ec_bbae_0242ac1c0002row24_col0{\n",
              "            background-color:  #6485ec;\n",
              "            color:  #000000;\n",
              "        }#T_f86ba910_1246_11ec_bbae_0242ac1c0002row25_col0{\n",
              "            background-color:  #6282ea;\n",
              "            color:  #000000;\n",
              "        }#T_f86ba910_1246_11ec_bbae_0242ac1c0002row26_col0,#T_f86ba910_1246_11ec_bbae_0242ac1c0002row27_col0{\n",
              "            background-color:  #6180e9;\n",
              "            color:  #000000;\n",
              "        }#T_f86ba910_1246_11ec_bbae_0242ac1c0002row28_col0{\n",
              "            background-color:  #5f7fe8;\n",
              "            color:  #000000;\n",
              "        }#T_f86ba910_1246_11ec_bbae_0242ac1c0002row29_col0{\n",
              "            background-color:  #5e7de7;\n",
              "            color:  #000000;\n",
              "        }#T_f86ba910_1246_11ec_bbae_0242ac1c0002row30_col0{\n",
              "            background-color:  #4e68d8;\n",
              "            color:  #000000;\n",
              "        }#T_f86ba910_1246_11ec_bbae_0242ac1c0002row31_col0{\n",
              "            background-color:  #4b64d5;\n",
              "            color:  #f1f1f1;\n",
              "        }#T_f86ba910_1246_11ec_bbae_0242ac1c0002row32_col0{\n",
              "            background-color:  #3d50c3;\n",
              "            color:  #f1f1f1;\n",
              "        }#T_f86ba910_1246_11ec_bbae_0242ac1c0002row33_col0{\n",
              "            background-color:  #3b4cc0;\n",
              "            color:  #f1f1f1;\n",
              "        }</style><table id=\"T_f86ba910_1246_11ec_bbae_0242ac1c0002\" ><thead>    <tr>        <th class=\"blank level0\" ></th>        <th class=\"col_heading level0 col0\" >SalePrice</th>    </tr></thead><tbody>\n",
              "                <tr>\n",
              "                        <th id=\"T_f86ba910_1246_11ec_bbae_0242ac1c0002level0_row0\" class=\"row_heading level0 row0\" >OverallQual</th>\n",
              "                        <td id=\"T_f86ba910_1246_11ec_bbae_0242ac1c0002row0_col0\" class=\"data row0 col0\" >0.79</td>\n",
              "            </tr>\n",
              "            <tr>\n",
              "                        <th id=\"T_f86ba910_1246_11ec_bbae_0242ac1c0002level0_row1\" class=\"row_heading level0 row1\" >GrLivArea</th>\n",
              "                        <td id=\"T_f86ba910_1246_11ec_bbae_0242ac1c0002row1_col0\" class=\"data row1 col0\" >0.71</td>\n",
              "            </tr>\n",
              "            <tr>\n",
              "                        <th id=\"T_f86ba910_1246_11ec_bbae_0242ac1c0002level0_row2\" class=\"row_heading level0 row2\" >GarageCars</th>\n",
              "                        <td id=\"T_f86ba910_1246_11ec_bbae_0242ac1c0002row2_col0\" class=\"data row2 col0\" >0.64</td>\n",
              "            </tr>\n",
              "            <tr>\n",
              "                        <th id=\"T_f86ba910_1246_11ec_bbae_0242ac1c0002level0_row3\" class=\"row_heading level0 row3\" >GarageArea</th>\n",
              "                        <td id=\"T_f86ba910_1246_11ec_bbae_0242ac1c0002row3_col0\" class=\"data row3 col0\" >0.62</td>\n",
              "            </tr>\n",
              "            <tr>\n",
              "                        <th id=\"T_f86ba910_1246_11ec_bbae_0242ac1c0002level0_row4\" class=\"row_heading level0 row4\" >TotalBsmtSF</th>\n",
              "                        <td id=\"T_f86ba910_1246_11ec_bbae_0242ac1c0002row4_col0\" class=\"data row4 col0\" >0.61</td>\n",
              "            </tr>\n",
              "            <tr>\n",
              "                        <th id=\"T_f86ba910_1246_11ec_bbae_0242ac1c0002level0_row5\" class=\"row_heading level0 row5\" >1stFlrSF</th>\n",
              "                        <td id=\"T_f86ba910_1246_11ec_bbae_0242ac1c0002row5_col0\" class=\"data row5 col0\" >0.61</td>\n",
              "            </tr>\n",
              "            <tr>\n",
              "                        <th id=\"T_f86ba910_1246_11ec_bbae_0242ac1c0002level0_row6\" class=\"row_heading level0 row6\" >FullBath</th>\n",
              "                        <td id=\"T_f86ba910_1246_11ec_bbae_0242ac1c0002row6_col0\" class=\"data row6 col0\" >0.56</td>\n",
              "            </tr>\n",
              "            <tr>\n",
              "                        <th id=\"T_f86ba910_1246_11ec_bbae_0242ac1c0002level0_row7\" class=\"row_heading level0 row7\" >TotRmsAbvGrd</th>\n",
              "                        <td id=\"T_f86ba910_1246_11ec_bbae_0242ac1c0002row7_col0\" class=\"data row7 col0\" >0.53</td>\n",
              "            </tr>\n",
              "            <tr>\n",
              "                        <th id=\"T_f86ba910_1246_11ec_bbae_0242ac1c0002level0_row8\" class=\"row_heading level0 row8\" >YearBuilt</th>\n",
              "                        <td id=\"T_f86ba910_1246_11ec_bbae_0242ac1c0002row8_col0\" class=\"data row8 col0\" >0.52</td>\n",
              "            </tr>\n",
              "            <tr>\n",
              "                        <th id=\"T_f86ba910_1246_11ec_bbae_0242ac1c0002level0_row9\" class=\"row_heading level0 row9\" >YearRemodAdd</th>\n",
              "                        <td id=\"T_f86ba910_1246_11ec_bbae_0242ac1c0002row9_col0\" class=\"data row9 col0\" >0.51</td>\n",
              "            </tr>\n",
              "            <tr>\n",
              "                        <th id=\"T_f86ba910_1246_11ec_bbae_0242ac1c0002level0_row10\" class=\"row_heading level0 row10\" >Fireplaces</th>\n",
              "                        <td id=\"T_f86ba910_1246_11ec_bbae_0242ac1c0002row10_col0\" class=\"data row10 col0\" >0.47</td>\n",
              "            </tr>\n",
              "            <tr>\n",
              "                        <th id=\"T_f86ba910_1246_11ec_bbae_0242ac1c0002level0_row11\" class=\"row_heading level0 row11\" >BsmtFinSF1</th>\n",
              "                        <td id=\"T_f86ba910_1246_11ec_bbae_0242ac1c0002row11_col0\" class=\"data row11 col0\" >0.39</td>\n",
              "            </tr>\n",
              "            <tr>\n",
              "                        <th id=\"T_f86ba910_1246_11ec_bbae_0242ac1c0002level0_row12\" class=\"row_heading level0 row12\" >WoodDeckSF</th>\n",
              "                        <td id=\"T_f86ba910_1246_11ec_bbae_0242ac1c0002row12_col0\" class=\"data row12 col0\" >0.32</td>\n",
              "            </tr>\n",
              "            <tr>\n",
              "                        <th id=\"T_f86ba910_1246_11ec_bbae_0242ac1c0002level0_row13\" class=\"row_heading level0 row13\" >2ndFlrSF</th>\n",
              "                        <td id=\"T_f86ba910_1246_11ec_bbae_0242ac1c0002row13_col0\" class=\"data row13 col0\" >0.32</td>\n",
              "            </tr>\n",
              "            <tr>\n",
              "                        <th id=\"T_f86ba910_1246_11ec_bbae_0242ac1c0002level0_row14\" class=\"row_heading level0 row14\" >OpenPorchSF</th>\n",
              "                        <td id=\"T_f86ba910_1246_11ec_bbae_0242ac1c0002row14_col0\" class=\"data row14 col0\" >0.32</td>\n",
              "            </tr>\n",
              "            <tr>\n",
              "                        <th id=\"T_f86ba910_1246_11ec_bbae_0242ac1c0002level0_row15\" class=\"row_heading level0 row15\" >HalfBath</th>\n",
              "                        <td id=\"T_f86ba910_1246_11ec_bbae_0242ac1c0002row15_col0\" class=\"data row15 col0\" >0.28</td>\n",
              "            </tr>\n",
              "            <tr>\n",
              "                        <th id=\"T_f86ba910_1246_11ec_bbae_0242ac1c0002level0_row16\" class=\"row_heading level0 row16\" >LotArea</th>\n",
              "                        <td id=\"T_f86ba910_1246_11ec_bbae_0242ac1c0002row16_col0\" class=\"data row16 col0\" >0.26</td>\n",
              "            </tr>\n",
              "            <tr>\n",
              "                        <th id=\"T_f86ba910_1246_11ec_bbae_0242ac1c0002level0_row17\" class=\"row_heading level0 row17\" >BsmtFullBath</th>\n",
              "                        <td id=\"T_f86ba910_1246_11ec_bbae_0242ac1c0002row17_col0\" class=\"data row17 col0\" >0.23</td>\n",
              "            </tr>\n",
              "            <tr>\n",
              "                        <th id=\"T_f86ba910_1246_11ec_bbae_0242ac1c0002level0_row18\" class=\"row_heading level0 row18\" >BsmtUnfSF</th>\n",
              "                        <td id=\"T_f86ba910_1246_11ec_bbae_0242ac1c0002row18_col0\" class=\"data row18 col0\" >0.21</td>\n",
              "            </tr>\n",
              "            <tr>\n",
              "                        <th id=\"T_f86ba910_1246_11ec_bbae_0242ac1c0002level0_row19\" class=\"row_heading level0 row19\" >BedroomAbvGr</th>\n",
              "                        <td id=\"T_f86ba910_1246_11ec_bbae_0242ac1c0002row19_col0\" class=\"data row19 col0\" >0.17</td>\n",
              "            </tr>\n",
              "            <tr>\n",
              "                        <th id=\"T_f86ba910_1246_11ec_bbae_0242ac1c0002level0_row20\" class=\"row_heading level0 row20\" >ScreenPorch</th>\n",
              "                        <td id=\"T_f86ba910_1246_11ec_bbae_0242ac1c0002row20_col0\" class=\"data row20 col0\" >0.11</td>\n",
              "            </tr>\n",
              "            <tr>\n",
              "                        <th id=\"T_f86ba910_1246_11ec_bbae_0242ac1c0002level0_row21\" class=\"row_heading level0 row21\" >PoolArea</th>\n",
              "                        <td id=\"T_f86ba910_1246_11ec_bbae_0242ac1c0002row21_col0\" class=\"data row21 col0\" >0.09</td>\n",
              "            </tr>\n",
              "            <tr>\n",
              "                        <th id=\"T_f86ba910_1246_11ec_bbae_0242ac1c0002level0_row22\" class=\"row_heading level0 row22\" >MoSold</th>\n",
              "                        <td id=\"T_f86ba910_1246_11ec_bbae_0242ac1c0002row22_col0\" class=\"data row22 col0\" >0.05</td>\n",
              "            </tr>\n",
              "            <tr>\n",
              "                        <th id=\"T_f86ba910_1246_11ec_bbae_0242ac1c0002level0_row23\" class=\"row_heading level0 row23\" >3SsnPorch</th>\n",
              "                        <td id=\"T_f86ba910_1246_11ec_bbae_0242ac1c0002row23_col0\" class=\"data row23 col0\" >0.04</td>\n",
              "            </tr>\n",
              "            <tr>\n",
              "                        <th id=\"T_f86ba910_1246_11ec_bbae_0242ac1c0002level0_row24\" class=\"row_heading level0 row24\" >BsmtFinSF2</th>\n",
              "                        <td id=\"T_f86ba910_1246_11ec_bbae_0242ac1c0002row24_col0\" class=\"data row24 col0\" >-0.01</td>\n",
              "            </tr>\n",
              "            <tr>\n",
              "                        <th id=\"T_f86ba910_1246_11ec_bbae_0242ac1c0002level0_row25\" class=\"row_heading level0 row25\" >BsmtHalfBath</th>\n",
              "                        <td id=\"T_f86ba910_1246_11ec_bbae_0242ac1c0002row25_col0\" class=\"data row25 col0\" >-0.02</td>\n",
              "            </tr>\n",
              "            <tr>\n",
              "                        <th id=\"T_f86ba910_1246_11ec_bbae_0242ac1c0002level0_row26\" class=\"row_heading level0 row26\" >MiscVal</th>\n",
              "                        <td id=\"T_f86ba910_1246_11ec_bbae_0242ac1c0002row26_col0\" class=\"data row26 col0\" >-0.02</td>\n",
              "            </tr>\n",
              "            <tr>\n",
              "                        <th id=\"T_f86ba910_1246_11ec_bbae_0242ac1c0002level0_row27\" class=\"row_heading level0 row27\" >Id</th>\n",
              "                        <td id=\"T_f86ba910_1246_11ec_bbae_0242ac1c0002row27_col0\" class=\"data row27 col0\" >-0.02</td>\n",
              "            </tr>\n",
              "            <tr>\n",
              "                        <th id=\"T_f86ba910_1246_11ec_bbae_0242ac1c0002level0_row28\" class=\"row_heading level0 row28\" >LowQualFinSF</th>\n",
              "                        <td id=\"T_f86ba910_1246_11ec_bbae_0242ac1c0002row28_col0\" class=\"data row28 col0\" >-0.03</td>\n",
              "            </tr>\n",
              "            <tr>\n",
              "                        <th id=\"T_f86ba910_1246_11ec_bbae_0242ac1c0002level0_row29\" class=\"row_heading level0 row29\" >YrSold</th>\n",
              "                        <td id=\"T_f86ba910_1246_11ec_bbae_0242ac1c0002row29_col0\" class=\"data row29 col0\" >-0.03</td>\n",
              "            </tr>\n",
              "            <tr>\n",
              "                        <th id=\"T_f86ba910_1246_11ec_bbae_0242ac1c0002level0_row30\" class=\"row_heading level0 row30\" >OverallCond</th>\n",
              "                        <td id=\"T_f86ba910_1246_11ec_bbae_0242ac1c0002row30_col0\" class=\"data row30 col0\" >-0.08</td>\n",
              "            </tr>\n",
              "            <tr>\n",
              "                        <th id=\"T_f86ba910_1246_11ec_bbae_0242ac1c0002level0_row31\" class=\"row_heading level0 row31\" >MSSubClass</th>\n",
              "                        <td id=\"T_f86ba910_1246_11ec_bbae_0242ac1c0002row31_col0\" class=\"data row31 col0\" >-0.08</td>\n",
              "            </tr>\n",
              "            <tr>\n",
              "                        <th id=\"T_f86ba910_1246_11ec_bbae_0242ac1c0002level0_row32\" class=\"row_heading level0 row32\" >EnclosedPorch</th>\n",
              "                        <td id=\"T_f86ba910_1246_11ec_bbae_0242ac1c0002row32_col0\" class=\"data row32 col0\" >-0.13</td>\n",
              "            </tr>\n",
              "            <tr>\n",
              "                        <th id=\"T_f86ba910_1246_11ec_bbae_0242ac1c0002level0_row33\" class=\"row_heading level0 row33\" >KitchenAbvGr</th>\n",
              "                        <td id=\"T_f86ba910_1246_11ec_bbae_0242ac1c0002row33_col0\" class=\"data row33 col0\" >-0.14</td>\n",
              "            </tr>\n",
              "    </tbody></table>"
            ],
            "text/plain": [
              "<pandas.io.formats.style.Styler at 0x7ffab05a0b90>"
            ]
          },
          "metadata": {},
          "execution_count": 85
        }
      ]
    },
    {
      "cell_type": "code",
      "metadata": {
        "id": "mQJLIJl294uH"
      },
      "source": [
        "df2 = df1.drop(['HalfBath','LotArea','BsmtFullBath','BsmtUnfSF','BedroomAbvGr','ScreenPorch','PoolArea','MoSold','3SsnPorch','BsmtFinSF2','BsmtHalfBath','MiscVal','LowQualFinSF','YrSold','OverallCond','MSSubClass','EnclosedPorch','KitchenAbvGr'], axis=1)"
      ],
      "execution_count": 86,
      "outputs": []
    },
    {
      "cell_type": "code",
      "metadata": {
        "id": "2XyCmxlPB2xQ"
      },
      "source": [
        "df2['Electrical'].fillna('None', inplace= True)"
      ],
      "execution_count": 87,
      "outputs": []
    },
    {
      "cell_type": "code",
      "metadata": {
        "colab": {
          "base_uri": "https://localhost:8080/"
        },
        "id": "6-DbRNcv9kM2",
        "outputId": "aa8f2044-3f9c-4f5d-a086-449bf5d2afc0"
      },
      "source": [
        "corr_matrix.shape"
      ],
      "execution_count": 19,
      "outputs": [
        {
          "output_type": "execute_result",
          "data": {
            "text/plain": [
              "(34, 1)"
            ]
          },
          "metadata": {},
          "execution_count": 19
        }
      ]
    },
    {
      "cell_type": "code",
      "metadata": {
        "colab": {
          "base_uri": "https://localhost:8080/"
        },
        "id": "BcJ5xGSO8QXH",
        "outputId": "629f8364-e520-4e6b-9ff1-f1a46c1ef854"
      },
      "source": [
        "df2.shape"
      ],
      "execution_count": 21,
      "outputs": [
        {
          "output_type": "execute_result",
          "data": {
            "text/plain": [
              "(1460, 44)"
            ]
          },
          "metadata": {},
          "execution_count": 21
        }
      ]
    },
    {
      "cell_type": "code",
      "metadata": {
        "id": "GOdgo8Cv8Ud6"
      },
      "source": [
        "pd.set_option('display.float_format', lambda x: '{:.3f}'.format(x),'display.max_columns', None)"
      ],
      "execution_count": 22,
      "outputs": []
    },
    {
      "cell_type": "code",
      "metadata": {
        "colab": {
          "base_uri": "https://localhost:8080/"
        },
        "id": "GVlyG_NH-20G",
        "outputId": "90968d3b-9fa1-4d35-e6ff-d065025e7494"
      },
      "source": [
        "df2.dtypes"
      ],
      "execution_count": 23,
      "outputs": [
        {
          "output_type": "execute_result",
          "data": {
            "text/plain": [
              "MSZoning         object\n",
              "Street           object\n",
              "LotShape         object\n",
              "LandContour      object\n",
              "Utilities        object\n",
              "LotConfig        object\n",
              "LandSlope        object\n",
              "Neighborhood     object\n",
              "Condition1       object\n",
              "Condition2       object\n",
              "BldgType         object\n",
              "HouseStyle       object\n",
              "OverallQual       int64\n",
              "YearBuilt         int64\n",
              "YearRemodAdd      int64\n",
              "RoofStyle        object\n",
              "RoofMatl         object\n",
              "Exterior1st      object\n",
              "Exterior2nd      object\n",
              "ExterQual        object\n",
              "ExterCond        object\n",
              "Foundation       object\n",
              "BsmtFinSF1        int64\n",
              "TotalBsmtSF       int64\n",
              "Heating          object\n",
              "HeatingQC        object\n",
              "CentralAir       object\n",
              "Electrical       object\n",
              "1stFlrSF          int64\n",
              "2ndFlrSF          int64\n",
              "GrLivArea         int64\n",
              "FullBath          int64\n",
              "KitchenQual      object\n",
              "TotRmsAbvGrd      int64\n",
              "Functional       object\n",
              "Fireplaces        int64\n",
              "GarageCars        int64\n",
              "GarageArea        int64\n",
              "PavedDrive       object\n",
              "WoodDeckSF        int64\n",
              "OpenPorchSF       int64\n",
              "SaleType         object\n",
              "SaleCondition    object\n",
              "SalePrice         int64\n",
              "dtype: object"
            ]
          },
          "metadata": {},
          "execution_count": 23
        }
      ]
    },
    {
      "cell_type": "markdown",
      "metadata": {
        "id": "HK9I1lXy_d-L"
      },
      "source": [
        "#Feature Engineering and pipeline building"
      ]
    },
    {
      "cell_type": "code",
      "metadata": {
        "colab": {
          "base_uri": "https://localhost:8080/"
        },
        "id": "OLJFNclO_cFq",
        "outputId": "f8b493f6-24b5-4aa9-d417-ec5df1998b52"
      },
      "source": [
        "df2.select_dtypes(include=['int64']).columns.tolist()"
      ],
      "execution_count": 25,
      "outputs": [
        {
          "output_type": "execute_result",
          "data": {
            "text/plain": [
              "['OverallQual',\n",
              " 'YearBuilt',\n",
              " 'YearRemodAdd',\n",
              " 'BsmtFinSF1',\n",
              " 'TotalBsmtSF',\n",
              " '1stFlrSF',\n",
              " '2ndFlrSF',\n",
              " 'GrLivArea',\n",
              " 'FullBath',\n",
              " 'TotRmsAbvGrd',\n",
              " 'Fireplaces',\n",
              " 'GarageCars',\n",
              " 'GarageArea',\n",
              " 'WoodDeckSF',\n",
              " 'OpenPorchSF',\n",
              " 'SalePrice']"
            ]
          },
          "metadata": {},
          "execution_count": 25
        }
      ]
    },
    {
      "cell_type": "code",
      "metadata": {
        "id": "MK2OHCx3-7DL"
      },
      "source": [
        "from sklearn.compose import ColumnTransformer\n",
        "from sklearn.pipeline import Pipeline\n",
        "from sklearn.preprocessing import PolynomialFeatures\n",
        "from sklearn.preprocessing import StandardScaler, OneHotEncoder\n",
        "from sklearn.linear_model import LinearRegression\n",
        "from sklearn.model_selection import train_test_split"
      ],
      "execution_count": 88,
      "outputs": []
    },
    {
      "cell_type": "code",
      "metadata": {
        "id": "sHGUkF3T_o9V"
      },
      "source": [
        "numeric_features = ['OverallQual',\n",
        " 'YearBuilt',\n",
        " 'YearRemodAdd',\n",
        " 'BsmtFinSF1',\n",
        " 'TotalBsmtSF',\n",
        " '1stFlrSF',\n",
        " '2ndFlrSF',\n",
        " 'GrLivArea',\n",
        " 'FullBath',\n",
        " 'TotRmsAbvGrd',\n",
        " 'Fireplaces',\n",
        " 'GarageCars',\n",
        " 'GarageArea',\n",
        " 'WoodDeckSF',\n",
        " 'OpenPorchSF']\n",
        "                    \n",
        "numeric_transformer = Pipeline(steps=[('scaler', StandardScaler())])"
      ],
      "execution_count": 89,
      "outputs": []
    },
    {
      "cell_type": "code",
      "metadata": {
        "id": "D5qo2_bU_v13"
      },
      "source": [
        "categorical_features = ['MSZoning',\n",
        " 'Street',\n",
        " 'LotShape',\n",
        " 'LandContour',\n",
        " 'Utilities',\n",
        " 'LotConfig',\n",
        " 'LandSlope',\n",
        " 'Neighborhood',\n",
        " 'Condition1',\n",
        " 'Condition2',\n",
        " 'BldgType',\n",
        " 'HouseStyle',\n",
        " 'RoofStyle',\n",
        " 'RoofMatl',\n",
        " 'Exterior1st',\n",
        " 'Exterior2nd',\n",
        " 'ExterQual',\n",
        " 'ExterCond',\n",
        " 'Foundation',\n",
        " 'Heating',\n",
        " 'HeatingQC',\n",
        " 'CentralAir',\n",
        " 'Electrical',\n",
        " 'KitchenQual',\n",
        " 'Functional',\n",
        " 'PavedDrive',\n",
        " 'SaleType',\n",
        " 'SaleCondition']\n",
        "categorical_transformer = Pipeline(steps=[\n",
        "    ('onehot', OneHotEncoder(handle_unknown='ignore'))])"
      ],
      "execution_count": 90,
      "outputs": []
    },
    {
      "cell_type": "code",
      "metadata": {
        "id": "1W9zNaox_5GR"
      },
      "source": [
        "preprocessor = ColumnTransformer(\n",
        "    transformers=[\n",
        "        ('num', numeric_transformer, numeric_features),\n",
        "        ('cat', categorical_transformer, categorical_features)])"
      ],
      "execution_count": 91,
      "outputs": []
    },
    {
      "cell_type": "code",
      "metadata": {
        "id": "GDrXzzzJ_6Na"
      },
      "source": [
        "clf = Pipeline(steps=[('preprocessor', preprocessor),\n",
        "                      ('classifier', LinearRegression())])"
      ],
      "execution_count": 92,
      "outputs": []
    },
    {
      "cell_type": "code",
      "metadata": {
        "colab": {
          "base_uri": "https://localhost:8080/"
        },
        "id": "ZBOp7JIt__FW",
        "outputId": "a8f1369c-a5f1-4e3b-d85a-c5637001e8e6"
      },
      "source": [
        "X = df2.drop('SalePrice', axis=1)\n",
        "y = df2[['SalePrice']]\n",
        "X_train, X_test, y_train, y_test = train_test_split(X, y, test_size=0.2, random_state=42)\n",
        "\n",
        "print(X_train.shape)\n",
        "print(X_test.shape)\n",
        "print(y_train.shape)\n",
        "print(y_test.shape)"
      ],
      "execution_count": 93,
      "outputs": [
        {
          "output_type": "stream",
          "name": "stdout",
          "text": [
            "(1168, 44)\n",
            "(292, 44)\n",
            "(1168, 1)\n",
            "(292, 1)\n"
          ]
        }
      ]
    },
    {
      "cell_type": "code",
      "metadata": {
        "colab": {
          "base_uri": "https://localhost:8080/"
        },
        "id": "WhJ6lKE_BfGB",
        "outputId": "0ffca0d3-7ff7-40e8-deb5-7709053514be"
      },
      "source": [
        "#Get the missing variables and their corresponding number of missing values\n",
        "missing_columns = len(df2) - df2.loc[:, np.sum(df2.isnull())>0].count()\n",
        "missing_columns"
      ],
      "execution_count": 94,
      "outputs": [
        {
          "output_type": "execute_result",
          "data": {
            "text/plain": [
              "Series([], dtype: int64)"
            ]
          },
          "metadata": {},
          "execution_count": 94
        }
      ]
    },
    {
      "cell_type": "code",
      "metadata": {
        "colab": {
          "base_uri": "https://localhost:8080/"
        },
        "id": "7KYrSQ42BJVY",
        "outputId": "26fb68dc-9c93-415e-d473-fdeffbfeace1"
      },
      "source": [
        "clf.fit(X_train, y_train)"
      ],
      "execution_count": 96,
      "outputs": [
        {
          "output_type": "execute_result",
          "data": {
            "text/plain": [
              "Pipeline(memory=None,\n",
              "         steps=[('preprocessor',\n",
              "                 ColumnTransformer(n_jobs=None, remainder='drop',\n",
              "                                   sparse_threshold=0.3,\n",
              "                                   transformer_weights=None,\n",
              "                                   transformers=[('num',\n",
              "                                                  Pipeline(memory=None,\n",
              "                                                           steps=[('scaler',\n",
              "                                                                   StandardScaler(copy=True,\n",
              "                                                                                  with_mean=True,\n",
              "                                                                                  with_std=True))],\n",
              "                                                           verbose=False),\n",
              "                                                  ['OverallQual', 'YearBuilt',\n",
              "                                                   'YearRemodAdd', 'BsmtFinSF1',\n",
              "                                                   'TotalBsmtSF', '1stFlrSF',\n",
              "                                                   '2...\n",
              "                                                   'BldgType', 'HouseStyle',\n",
              "                                                   'RoofStyle', 'RoofMatl',\n",
              "                                                   'Exterior1st', 'Exterior2nd',\n",
              "                                                   'ExterQual', 'ExterCond',\n",
              "                                                   'Foundation', 'Heating',\n",
              "                                                   'HeatingQC', 'CentralAir',\n",
              "                                                   'Electrical', 'KitchenQual',\n",
              "                                                   'Functional', 'PavedDrive',\n",
              "                                                   'SaleType',\n",
              "                                                   'SaleCondition'])],\n",
              "                                   verbose=False)),\n",
              "                ('classifier',\n",
              "                 LinearRegression(copy_X=True, fit_intercept=True, n_jobs=None,\n",
              "                                  normalize=False))],\n",
              "         verbose=False)"
            ]
          },
          "metadata": {},
          "execution_count": 96
        }
      ]
    },
    {
      "cell_type": "code",
      "metadata": {
        "id": "FHZNsU-LAzvt"
      },
      "source": [
        "y_train_pred = clf.predict(X_train)\n",
        "y_test_pred = clf.predict(X_test)"
      ],
      "execution_count": 97,
      "outputs": []
    },
    {
      "cell_type": "code",
      "metadata": {
        "id": "1al1VuBoLfJ6"
      },
      "source": [
        "submission = pd.DataFrame()\n",
        "submission['Id']= X_test.Id\n",
        "submission['SalePrice'] = y_test_pred"
      ],
      "execution_count": 101,
      "outputs": []
    },
    {
      "cell_type": "code",
      "metadata": {
        "colab": {
          "base_uri": "https://localhost:8080/",
          "height": 419
        },
        "id": "mw4RzipSNZyk",
        "outputId": "50b12c36-4ab5-4d24-8ae1-961a9bb9c471"
      },
      "source": [
        "submission"
      ],
      "execution_count": 102,
      "outputs": [
        {
          "output_type": "execute_result",
          "data": {
            "text/html": [
              "<div>\n",
              "<style scoped>\n",
              "    .dataframe tbody tr th:only-of-type {\n",
              "        vertical-align: middle;\n",
              "    }\n",
              "\n",
              "    .dataframe tbody tr th {\n",
              "        vertical-align: top;\n",
              "    }\n",
              "\n",
              "    .dataframe thead th {\n",
              "        text-align: right;\n",
              "    }\n",
              "</style>\n",
              "<table border=\"1\" class=\"dataframe\">\n",
              "  <thead>\n",
              "    <tr style=\"text-align: right;\">\n",
              "      <th></th>\n",
              "      <th>Id</th>\n",
              "      <th>SalePrice</th>\n",
              "    </tr>\n",
              "  </thead>\n",
              "  <tbody>\n",
              "    <tr>\n",
              "      <th>892</th>\n",
              "      <td>893</td>\n",
              "      <td>152597.357</td>\n",
              "    </tr>\n",
              "    <tr>\n",
              "      <th>1105</th>\n",
              "      <td>1106</td>\n",
              "      <td>333576.143</td>\n",
              "    </tr>\n",
              "    <tr>\n",
              "      <th>413</th>\n",
              "      <td>414</td>\n",
              "      <td>83517.126</td>\n",
              "    </tr>\n",
              "    <tr>\n",
              "      <th>522</th>\n",
              "      <td>523</td>\n",
              "      <td>179307.196</td>\n",
              "    </tr>\n",
              "    <tr>\n",
              "      <th>1036</th>\n",
              "      <td>1037</td>\n",
              "      <td>310152.542</td>\n",
              "    </tr>\n",
              "    <tr>\n",
              "      <th>...</th>\n",
              "      <td>...</td>\n",
              "      <td>...</td>\n",
              "    </tr>\n",
              "    <tr>\n",
              "      <th>479</th>\n",
              "      <td>480</td>\n",
              "      <td>144370.360</td>\n",
              "    </tr>\n",
              "    <tr>\n",
              "      <th>1361</th>\n",
              "      <td>1362</td>\n",
              "      <td>282383.147</td>\n",
              "    </tr>\n",
              "    <tr>\n",
              "      <th>802</th>\n",
              "      <td>803</td>\n",
              "      <td>185014.983</td>\n",
              "    </tr>\n",
              "    <tr>\n",
              "      <th>651</th>\n",
              "      <td>652</td>\n",
              "      <td>101683.016</td>\n",
              "    </tr>\n",
              "    <tr>\n",
              "      <th>722</th>\n",
              "      <td>723</td>\n",
              "      <td>105964.355</td>\n",
              "    </tr>\n",
              "  </tbody>\n",
              "</table>\n",
              "<p>292 rows × 2 columns</p>\n",
              "</div>"
            ],
            "text/plain": [
              "        Id  SalePrice\n",
              "892    893 152597.357\n",
              "1105  1106 333576.143\n",
              "413    414  83517.126\n",
              "522    523 179307.196\n",
              "1036  1037 310152.542\n",
              "...    ...        ...\n",
              "479    480 144370.360\n",
              "1361  1362 282383.147\n",
              "802    803 185014.983\n",
              "651    652 101683.016\n",
              "722    723 105964.355\n",
              "\n",
              "[292 rows x 2 columns]"
            ]
          },
          "metadata": {},
          "execution_count": 102
        }
      ]
    },
    {
      "cell_type": "code",
      "metadata": {
        "colab": {
          "base_uri": "https://localhost:8080/"
        },
        "id": "nkD2HN97A9A6",
        "outputId": "4b8ed562-cce0-4070-b03a-051d7d5211c4"
      },
      "source": [
        "\n",
        "clf.score(X_train, y_train)"
      ],
      "execution_count": 43,
      "outputs": [
        {
          "output_type": "execute_result",
          "data": {
            "text/plain": [
              "0.9151732030274681"
            ]
          },
          "metadata": {},
          "execution_count": 43
        }
      ]
    },
    {
      "cell_type": "code",
      "metadata": {
        "colab": {
          "base_uri": "https://localhost:8080/"
        },
        "id": "2tZmtOCeCeY7",
        "outputId": "7e64ce7c-3c91-4937-9d30-449d34fd40b6"
      },
      "source": [
        "\n",
        "clf.score(X_test, y_test)"
      ],
      "execution_count": 44,
      "outputs": [
        {
          "output_type": "execute_result",
          "data": {
            "text/plain": [
              "0.8694631181264455"
            ]
          },
          "metadata": {},
          "execution_count": 44
        }
      ]
    },
    {
      "cell_type": "code",
      "metadata": {
        "id": "b2fzhV5eKtFX"
      },
      "source": [
        "import numpy as np"
      ],
      "execution_count": 76,
      "outputs": []
    },
    {
      "cell_type": "code",
      "metadata": {
        "colab": {
          "base_uri": "https://localhost:8080/"
        },
        "id": "ap4vzUnSKhBB",
        "outputId": "954bfd6a-c58a-4123-fc0d-c0a2da57a730"
      },
      "source": [
        "y_pred = np.expm1(clf.predict(X_test))"
      ],
      "execution_count": 78,
      "outputs": [
        {
          "output_type": "stream",
          "name": "stderr",
          "text": [
            "/usr/local/lib/python3.7/dist-packages/ipykernel_launcher.py:1: RuntimeWarning: overflow encountered in expm1\n",
            "  \"\"\"Entry point for launching an IPython kernel.\n"
          ]
        }
      ]
    },
    {
      "cell_type": "code",
      "metadata": {
        "id": "7STWrxXaCuMc"
      },
      "source": [
        "from sklearn.model_selection import cross_val_score, train_test_split\n",
        "from sklearn.metrics import mean_squared_error, make_scorer, accuracy_score\n",
        "from math import sqrt"
      ],
      "execution_count": 48,
      "outputs": []
    },
    {
      "cell_type": "code",
      "metadata": {
        "colab": {
          "base_uri": "https://localhost:8080/"
        },
        "id": "xAlclp06CggU",
        "outputId": "adc9a8c9-4d3f-46b6-dd07-83ceb9e767b0"
      },
      "source": [
        "scorer = make_scorer(mean_squared_error, greater_is_better = False)\n",
        "rmse_train = np.sqrt(-cross_val_score(clf, X_train, y_train, scoring = scorer, cv=10))\n",
        "rmse_test = np.sqrt(-cross_val_score(clf, X_test, y_test, scoring = scorer, cv=10))\n",
        "print ('Mean RMSE for training set is',rmse_train.mean())\n",
        "print ('Mean RMSE for the test set is',rmse_test.mean())"
      ],
      "execution_count": 49,
      "outputs": [
        {
          "output_type": "stream",
          "name": "stdout",
          "text": [
            "Mean RMSE for training set is 33327.76569658233\n",
            "Mean RMSE for the test set is 45397.432229284044\n"
          ]
        }
      ]
    },
    {
      "cell_type": "code",
      "metadata": {
        "colab": {
          "base_uri": "https://localhost:8080/"
        },
        "id": "8oulkoEsDL1G",
        "outputId": "9069bd58-6922-427b-893a-b3eafef8eced"
      },
      "source": [
        "import pickle\n",
        "\n",
        "pickle.dump(clf, open('lr_model.pkl','wb'))\n",
        "# Loading model to compare the results\n",
        "model = pickle.load(open('lr_model.pkl','rb'))\n",
        "print(model)"
      ],
      "execution_count": 51,
      "outputs": [
        {
          "output_type": "stream",
          "name": "stdout",
          "text": [
            "Pipeline(memory=None,\n",
            "         steps=[('preprocessor',\n",
            "                 ColumnTransformer(n_jobs=None, remainder='drop',\n",
            "                                   sparse_threshold=0.3,\n",
            "                                   transformer_weights=None,\n",
            "                                   transformers=[('num',\n",
            "                                                  Pipeline(memory=None,\n",
            "                                                           steps=[('scaler',\n",
            "                                                                   StandardScaler(copy=True,\n",
            "                                                                                  with_mean=True,\n",
            "                                                                                  with_std=True))],\n",
            "                                                           verbose=False),\n",
            "                                                  ['OverallQual', 'YearBuilt',\n",
            "                                                   'YearRemodAdd', 'BsmtFinSF1',\n",
            "                                                   'TotalBsmtSF', '1stFlrSF',\n",
            "                                                   '2...\n",
            "                                                   'BldgType', 'HouseStyle',\n",
            "                                                   'RoofStyle', 'RoofMatl',\n",
            "                                                   'Exterior1st', 'Exterior2nd',\n",
            "                                                   'ExterQual', 'ExterCond',\n",
            "                                                   'Foundation', 'Heating',\n",
            "                                                   'HeatingQC', 'CentralAir',\n",
            "                                                   'Electrical', 'KitchenQual',\n",
            "                                                   'Functional', 'PavedDrive',\n",
            "                                                   'SaleType',\n",
            "                                                   'SaleCondition'])],\n",
            "                                   verbose=False)),\n",
            "                ('classifier',\n",
            "                 LinearRegression(copy_X=True, fit_intercept=True, n_jobs=None,\n",
            "                                  normalize=False))],\n",
            "         verbose=False)\n"
          ]
        }
      ]
    },
    {
      "cell_type": "code",
      "metadata": {
        "id": "x5FP9QPfH18U"
      },
      "source": [
        "df_test = pd.read_csv('test1.csv')"
      ],
      "execution_count": 65,
      "outputs": []
    },
    {
      "cell_type": "code",
      "metadata": {
        "id": "tLe17Q-EIE_b"
      },
      "source": [
        "df_t = df_test.drop(['PoolQC','MiscFeature','Alley','Fence','FireplaceQu','LotFrontage','GarageCond','GarageType','GarageYrBlt','GarageFinish','GarageQual','BsmtExposure','BsmtFinType2','BsmtFinType1','BsmtCond','BsmtQual','MasVnrArea','MasVnrType',\n",
        "                     'HalfBath','LotArea','BsmtFullBath','BsmtUnfSF','BedroomAbvGr','ScreenPorch','PoolArea','MoSold','3SsnPorch','BsmtFinSF2','BsmtHalfBath','MiscVal','Id','LowQualFinSF','YrSold','OverallCond','MSSubClass','EnclosedPorch','KitchenAbvGr'], axis=1)"
      ],
      "execution_count": 66,
      "outputs": []
    },
    {
      "cell_type": "code",
      "metadata": {
        "colab": {
          "base_uri": "https://localhost:8080/"
        },
        "id": "KbEvQNlcIWvZ",
        "outputId": "2b501d7a-ea09-4d11-c87c-383b366e29e8"
      },
      "source": [
        "#Get the missing variables and their corresponding number of missing values\n",
        "missing_columns_t = len(df_t) - df_t.loc[:, np.sum(df_t.isnull())>0].count()\n",
        "missing_columns_t"
      ],
      "execution_count": 67,
      "outputs": [
        {
          "output_type": "execute_result",
          "data": {
            "text/plain": [
              "MSZoning       4\n",
              "Utilities      2\n",
              "Exterior1st    1\n",
              "Exterior2nd    1\n",
              "BsmtFinSF1     1\n",
              "TotalBsmtSF    1\n",
              "KitchenQual    1\n",
              "Functional     2\n",
              "GarageCars     1\n",
              "GarageArea     1\n",
              "SaleType       1\n",
              "dtype: int64"
            ]
          },
          "metadata": {},
          "execution_count": 67
        }
      ]
    },
    {
      "cell_type": "code",
      "metadata": {
        "id": "D8xkMUzYIqw6"
      },
      "source": [
        "to_impute_by_none = df_t.loc[:, ['MSZoning','Utilities','Exterior1st','Exterior2nd','BsmtFinSF1','TotalBsmtSF','KitchenQual','Functional','GarageCars','GarageArea']]\n",
        "for i in to_impute_by_none.columns:\n",
        "    df_t[i].fillna('None', inplace = True)"
      ],
      "execution_count": 72,
      "outputs": []
    },
    {
      "cell_type": "code",
      "metadata": {
        "id": "gDg6T5gODmps"
      },
      "source": [
        "def predict_with_optimized_models(mdl):\n",
        "    mdl.fit(X_train, y_train)\n",
        "    y_pred = np.expm1(mdl.predict(X_test))\n",
        "    submission = pd.DataFrame()\n",
        "    submission['Id']= X_test.Id\n",
        "    submission['SalePrice'] = y_test_pred\n",
        "    return submission"
      ],
      "execution_count": 103,
      "outputs": []
    },
    {
      "cell_type": "code",
      "metadata": {
        "colab": {
          "base_uri": "https://localhost:8080/"
        },
        "id": "EE6TMXZbFvM-",
        "outputId": "db92ce32-54d7-42fb-bbd7-9ccf7d935045"
      },
      "source": [
        "predict_with_optimized_models(clf).to_csv('lr_reg.csv', index = False)\n",
        "# predict_with_optimized_models(ridge_opt).to_csv('ridge_optimized.csv', index = False)"
      ],
      "execution_count": 104,
      "outputs": [
        {
          "output_type": "stream",
          "name": "stderr",
          "text": [
            "/usr/local/lib/python3.7/dist-packages/ipykernel_launcher.py:3: RuntimeWarning: overflow encountered in expm1\n",
            "  This is separate from the ipykernel package so we can avoid doing imports until\n"
          ]
        }
      ]
    },
    {
      "cell_type": "markdown",
      "metadata": {
        "id": "Om6epXNHmJMg"
      },
      "source": [
        "# Developing model using spark "
      ]
    },
    {
      "cell_type": "code",
      "metadata": {
        "colab": {
          "base_uri": "https://localhost:8080/"
        },
        "id": "VhwfpLy2Zpkf",
        "outputId": "68c3976d-c3d0-493c-b472-84aa38503815"
      },
      "source": [
        "pip install pyspark"
      ],
      "execution_count": 106,
      "outputs": [
        {
          "output_type": "stream",
          "name": "stdout",
          "text": [
            "Collecting pyspark\n",
            "  Downloading pyspark-3.1.2.tar.gz (212.4 MB)\n",
            "\u001b[K     |████████████████████████████████| 212.4 MB 62 kB/s \n",
            "\u001b[?25hCollecting py4j==0.10.9\n",
            "  Downloading py4j-0.10.9-py2.py3-none-any.whl (198 kB)\n",
            "\u001b[K     |████████████████████████████████| 198 kB 51.4 MB/s \n",
            "\u001b[?25hBuilding wheels for collected packages: pyspark\n",
            "  Building wheel for pyspark (setup.py) ... \u001b[?25l\u001b[?25hdone\n",
            "  Created wheel for pyspark: filename=pyspark-3.1.2-py2.py3-none-any.whl size=212880768 sha256=f9eeda0841c30798a0b12355af176d61212ece4f4bf563d9ecbe6205479ae67b\n",
            "  Stored in directory: /root/.cache/pip/wheels/a5/0a/c1/9561f6fecb759579a7d863dcd846daaa95f598744e71b02c77\n",
            "Successfully built pyspark\n",
            "Installing collected packages: py4j, pyspark\n",
            "Successfully installed py4j-0.10.9 pyspark-3.1.2\n"
          ]
        }
      ]
    },
    {
      "cell_type": "code",
      "metadata": {
        "id": "9oeHk4tMGRrD"
      },
      "source": [
        "!apt-get install openjdk-8-jdk-headless -qq > /dev/null\n",
        "\n",
        "# !wget -q https://archive.apache.org/dist/spark/spark-3.0.0/spark-3.0.0-bin-hadoop3.2.tgz\n",
        "!wget -q https://archive.apache.org/dist/spark/spark-3.1.2/spark-3.1.2-bin-hadoop3.2.tgz\n",
        "# unzip the spark file to the current folder\n",
        "# !tar xf spark-3.0.0-bin-hadoop3.2.tgz\n",
        "!tar xf spark-3.1.2-bin-hadoop3.2.tgz\n",
        "\n",
        "# set your spark folder to your system path environment. \n",
        "import os\n",
        "os.environ[\"JAVA_HOME\"] = \"/usr/lib/jvm/java-8-openjdk-amd64\"\n",
        "# os.environ[\"SPARK_HOME\"] = \"/content/spark-3.0.0-bin-hadoop3.2\"\n",
        "os.environ[\"SPARK_HOME\"] = \"/content/spark-3.1.2-bin-hadoop3.2\"\n",
        "\n",
        "# install findspark using pip\n",
        "!pip install -q findspark"
      ],
      "execution_count": 107,
      "outputs": []
    },
    {
      "cell_type": "code",
      "metadata": {
        "id": "0D3xaTtaZkN7"
      },
      "source": [
        "SPARK_HOME  = '/content/spark-3.1.2-bin-hadoop3.2'\n",
        "PATH = '%SPARK_HOME%/bin;%SPARK_HOME%/python;%PATH%'\n",
        "PYTHONPATH = '%SPARK_HOME%\\python;%SPARK_HOME%\\python\\lib\\py4j-0.10.9-src.zip:%PYTHONPATH%'"
      ],
      "execution_count": 108,
      "outputs": []
    },
    {
      "cell_type": "code",
      "metadata": {
        "id": "W6dfneFeaBiG"
      },
      "source": [
        "from pyspark.context import SparkContext\n",
        "from pyspark.sql.session import SparkSession\n",
        "sc = SparkContext('local')\n",
        "spark = SparkSession(sc)"
      ],
      "execution_count": 109,
      "outputs": []
    },
    {
      "cell_type": "code",
      "metadata": {
        "id": "naYdZLwcaE4R"
      },
      "source": [
        "from pyspark.ml.feature import VectorAssembler\n",
        "from pyspark.ml.regression import LinearRegression"
      ],
      "execution_count": 110,
      "outputs": []
    },
    {
      "cell_type": "code",
      "metadata": {
        "id": "uUw4MQG-aVXw"
      },
      "source": [
        "# Pandas to Spark\n",
        "df_sp = spark.createDataFrame(df2)"
      ],
      "execution_count": 112,
      "outputs": []
    },
    {
      "cell_type": "code",
      "metadata": {
        "colab": {
          "base_uri": "https://localhost:8080/"
        },
        "id": "gfp4VqbAlm5w",
        "outputId": "447e25e6-35a1-4b23-d253-3c2258a3ca0b"
      },
      "source": [
        "import pyspark\n",
        "df_sp.show()"
      ],
      "execution_count": 144,
      "outputs": [
        {
          "output_type": "stream",
          "name": "stdout",
          "text": [
            "+---+--------+------+--------+-----------+---------+---------+---------+------------+----------+----------+--------+----------+-----------+---------+------------+---------+--------+-----------+-----------+---------+---------+----------+----------+-----------+-------+---------+----------+----------+--------+--------+---------+--------+-----------+------------+----------+----------+----------+----------+----------+----------+-----------+--------+-------------+---------+\n",
            "| Id|MSZoning|Street|LotShape|LandContour|Utilities|LotConfig|LandSlope|Neighborhood|Condition1|Condition2|BldgType|HouseStyle|OverallQual|YearBuilt|YearRemodAdd|RoofStyle|RoofMatl|Exterior1st|Exterior2nd|ExterQual|ExterCond|Foundation|BsmtFinSF1|TotalBsmtSF|Heating|HeatingQC|CentralAir|Electrical|1stFlrSF|2ndFlrSF|GrLivArea|FullBath|KitchenQual|TotRmsAbvGrd|Functional|Fireplaces|GarageCars|GarageArea|PavedDrive|WoodDeckSF|OpenPorchSF|SaleType|SaleCondition|SalePrice|\n",
            "+---+--------+------+--------+-----------+---------+---------+---------+------------+----------+----------+--------+----------+-----------+---------+------------+---------+--------+-----------+-----------+---------+---------+----------+----------+-----------+-------+---------+----------+----------+--------+--------+---------+--------+-----------+------------+----------+----------+----------+----------+----------+----------+-----------+--------+-------------+---------+\n",
            "|  1|      RL|  Pave|     Reg|        Lvl|   AllPub|   Inside|      Gtl|     CollgCr|      Norm|      Norm|    1Fam|    2Story|          7|     2003|        2003|    Gable| CompShg|    VinylSd|    VinylSd|       Gd|       TA|     PConc|       706|        856|   GasA|       Ex|         Y|     SBrkr|     856|     854|     1710|       2|         Gd|           8|       Typ|         0|         2|       548|         Y|         0|         61|      WD|       Normal|   208500|\n",
            "|  2|      RL|  Pave|     Reg|        Lvl|   AllPub|      FR2|      Gtl|     Veenker|     Feedr|      Norm|    1Fam|    1Story|          6|     1976|        1976|    Gable| CompShg|    MetalSd|    MetalSd|       TA|       TA|    CBlock|       978|       1262|   GasA|       Ex|         Y|     SBrkr|    1262|       0|     1262|       2|         TA|           6|       Typ|         1|         2|       460|         Y|       298|          0|      WD|       Normal|   181500|\n",
            "|  3|      RL|  Pave|     IR1|        Lvl|   AllPub|   Inside|      Gtl|     CollgCr|      Norm|      Norm|    1Fam|    2Story|          7|     2001|        2002|    Gable| CompShg|    VinylSd|    VinylSd|       Gd|       TA|     PConc|       486|        920|   GasA|       Ex|         Y|     SBrkr|     920|     866|     1786|       2|         Gd|           6|       Typ|         1|         2|       608|         Y|         0|         42|      WD|       Normal|   223500|\n",
            "|  4|      RL|  Pave|     IR1|        Lvl|   AllPub|   Corner|      Gtl|     Crawfor|      Norm|      Norm|    1Fam|    2Story|          7|     1915|        1970|    Gable| CompShg|    Wd Sdng|    Wd Shng|       TA|       TA|    BrkTil|       216|        756|   GasA|       Gd|         Y|     SBrkr|     961|     756|     1717|       1|         Gd|           7|       Typ|         1|         3|       642|         Y|         0|         35|      WD|      Abnorml|   140000|\n",
            "|  5|      RL|  Pave|     IR1|        Lvl|   AllPub|      FR2|      Gtl|     NoRidge|      Norm|      Norm|    1Fam|    2Story|          8|     2000|        2000|    Gable| CompShg|    VinylSd|    VinylSd|       Gd|       TA|     PConc|       655|       1145|   GasA|       Ex|         Y|     SBrkr|    1145|    1053|     2198|       2|         Gd|           9|       Typ|         1|         3|       836|         Y|       192|         84|      WD|       Normal|   250000|\n",
            "|  6|      RL|  Pave|     IR1|        Lvl|   AllPub|   Inside|      Gtl|     Mitchel|      Norm|      Norm|    1Fam|    1.5Fin|          5|     1993|        1995|    Gable| CompShg|    VinylSd|    VinylSd|       TA|       TA|      Wood|       732|        796|   GasA|       Ex|         Y|     SBrkr|     796|     566|     1362|       1|         TA|           5|       Typ|         0|         2|       480|         Y|        40|         30|      WD|       Normal|   143000|\n",
            "|  7|      RL|  Pave|     Reg|        Lvl|   AllPub|   Inside|      Gtl|     Somerst|      Norm|      Norm|    1Fam|    1Story|          8|     2004|        2005|    Gable| CompShg|    VinylSd|    VinylSd|       Gd|       TA|     PConc|      1369|       1686|   GasA|       Ex|         Y|     SBrkr|    1694|       0|     1694|       2|         Gd|           7|       Typ|         1|         2|       636|         Y|       255|         57|      WD|       Normal|   307000|\n",
            "|  8|      RL|  Pave|     IR1|        Lvl|   AllPub|   Corner|      Gtl|      NWAmes|      PosN|      Norm|    1Fam|    2Story|          7|     1973|        1973|    Gable| CompShg|    HdBoard|    HdBoard|       TA|       TA|    CBlock|       859|       1107|   GasA|       Ex|         Y|     SBrkr|    1107|     983|     2090|       2|         TA|           7|       Typ|         2|         2|       484|         Y|       235|        204|      WD|       Normal|   200000|\n",
            "|  9|      RM|  Pave|     Reg|        Lvl|   AllPub|   Inside|      Gtl|     OldTown|    Artery|      Norm|    1Fam|    1.5Fin|          7|     1931|        1950|    Gable| CompShg|    BrkFace|    Wd Shng|       TA|       TA|    BrkTil|         0|        952|   GasA|       Gd|         Y|     FuseF|    1022|     752|     1774|       2|         TA|           8|      Min1|         2|         2|       468|         Y|        90|          0|      WD|      Abnorml|   129900|\n",
            "| 10|      RL|  Pave|     Reg|        Lvl|   AllPub|   Corner|      Gtl|     BrkSide|    Artery|    Artery|  2fmCon|    1.5Unf|          5|     1939|        1950|    Gable| CompShg|    MetalSd|    MetalSd|       TA|       TA|    BrkTil|       851|        991|   GasA|       Ex|         Y|     SBrkr|    1077|       0|     1077|       1|         TA|           5|       Typ|         2|         1|       205|         Y|         0|          4|      WD|       Normal|   118000|\n",
            "| 11|      RL|  Pave|     Reg|        Lvl|   AllPub|   Inside|      Gtl|      Sawyer|      Norm|      Norm|    1Fam|    1Story|          5|     1965|        1965|      Hip| CompShg|    HdBoard|    HdBoard|       TA|       TA|    CBlock|       906|       1040|   GasA|       Ex|         Y|     SBrkr|    1040|       0|     1040|       1|         TA|           5|       Typ|         0|         1|       384|         Y|         0|          0|      WD|       Normal|   129500|\n",
            "| 12|      RL|  Pave|     IR1|        Lvl|   AllPub|   Inside|      Gtl|     NridgHt|      Norm|      Norm|    1Fam|    2Story|          9|     2005|        2006|      Hip| CompShg|    WdShing|    Wd Shng|       Ex|       TA|     PConc|       998|       1175|   GasA|       Ex|         Y|     SBrkr|    1182|    1142|     2324|       3|         Ex|          11|       Typ|         2|         3|       736|         Y|       147|         21|     New|      Partial|   345000|\n",
            "| 13|      RL|  Pave|     IR2|        Lvl|   AllPub|   Inside|      Gtl|      Sawyer|      Norm|      Norm|    1Fam|    1Story|          5|     1962|        1962|      Hip| CompShg|    HdBoard|    Plywood|       TA|       TA|    CBlock|       737|        912|   GasA|       TA|         Y|     SBrkr|     912|       0|      912|       1|         TA|           4|       Typ|         0|         1|       352|         Y|       140|          0|      WD|       Normal|   144000|\n",
            "| 14|      RL|  Pave|     IR1|        Lvl|   AllPub|   Inside|      Gtl|     CollgCr|      Norm|      Norm|    1Fam|    1Story|          7|     2006|        2007|    Gable| CompShg|    VinylSd|    VinylSd|       Gd|       TA|     PConc|         0|       1494|   GasA|       Ex|         Y|     SBrkr|    1494|       0|     1494|       2|         Gd|           7|       Typ|         1|         3|       840|         Y|       160|         33|     New|      Partial|   279500|\n",
            "| 15|      RL|  Pave|     IR1|        Lvl|   AllPub|   Corner|      Gtl|       NAmes|      Norm|      Norm|    1Fam|    1Story|          6|     1960|        1960|      Hip| CompShg|    MetalSd|    MetalSd|       TA|       TA|    CBlock|       733|       1253|   GasA|       TA|         Y|     SBrkr|    1253|       0|     1253|       1|         TA|           5|       Typ|         1|         1|       352|         Y|         0|        213|      WD|       Normal|   157000|\n",
            "| 16|      RM|  Pave|     Reg|        Lvl|   AllPub|   Corner|      Gtl|     BrkSide|      Norm|      Norm|    1Fam|    1.5Unf|          7|     1929|        2001|    Gable| CompShg|    Wd Sdng|    Wd Sdng|       TA|       TA|    BrkTil|         0|        832|   GasA|       Ex|         Y|     FuseA|     854|       0|      854|       1|         TA|           5|       Typ|         0|         2|       576|         Y|        48|        112|      WD|       Normal|   132000|\n",
            "| 17|      RL|  Pave|     IR1|        Lvl|   AllPub|  CulDSac|      Gtl|       NAmes|      Norm|      Norm|    1Fam|    1Story|          6|     1970|        1970|    Gable| CompShg|    Wd Sdng|    Wd Sdng|       TA|       TA|    CBlock|       578|       1004|   GasA|       Ex|         Y|     SBrkr|    1004|       0|     1004|       1|         TA|           5|       Typ|         1|         2|       480|         Y|         0|          0|      WD|       Normal|   149000|\n",
            "| 18|      RL|  Pave|     Reg|        Lvl|   AllPub|   Inside|      Gtl|      Sawyer|      Norm|      Norm|  Duplex|    1Story|          4|     1967|        1967|    Gable| CompShg|    MetalSd|    MetalSd|       TA|       TA|      Slab|         0|          0|   GasA|       TA|         Y|     SBrkr|    1296|       0|     1296|       2|         TA|           6|       Typ|         0|         2|       516|         Y|         0|          0|      WD|       Normal|    90000|\n",
            "| 19|      RL|  Pave|     Reg|        Lvl|   AllPub|   Inside|      Gtl|     SawyerW|      RRAe|      Norm|    1Fam|    1Story|          5|     2004|        2004|    Gable| CompShg|    VinylSd|    VinylSd|       TA|       TA|     PConc|       646|       1114|   GasA|       Ex|         Y|     SBrkr|    1114|       0|     1114|       1|         Gd|           6|       Typ|         0|         2|       576|         Y|         0|        102|      WD|       Normal|   159000|\n",
            "| 20|      RL|  Pave|     Reg|        Lvl|   AllPub|   Inside|      Gtl|       NAmes|      Norm|      Norm|    1Fam|    1Story|          5|     1958|        1965|      Hip| CompShg|    BrkFace|    Plywood|       TA|       TA|    CBlock|       504|       1029|   GasA|       TA|         Y|     SBrkr|    1339|       0|     1339|       1|         TA|           6|      Min1|         0|         1|       294|         Y|         0|          0|     COD|      Abnorml|   139000|\n",
            "+---+--------+------+--------+-----------+---------+---------+---------+------------+----------+----------+--------+----------+-----------+---------+------------+---------+--------+-----------+-----------+---------+---------+----------+----------+-----------+-------+---------+----------+----------+--------+--------+---------+--------+-----------+------------+----------+----------+----------+----------+----------+----------+-----------+--------+-------------+---------+\n",
            "only showing top 20 rows\n",
            "\n"
          ]
        }
      ]
    },
    {
      "cell_type": "code",
      "metadata": {
        "colab": {
          "base_uri": "https://localhost:8080/"
        },
        "id": "uykSycizad06",
        "outputId": "500978d5-02c7-4d28-e0b3-39fe4388d140"
      },
      "source": [
        "df_sp.dtypes"
      ],
      "execution_count": 115,
      "outputs": [
        {
          "output_type": "execute_result",
          "data": {
            "text/plain": [
              "[('Id', 'bigint'),\n",
              " ('MSZoning', 'string'),\n",
              " ('Street', 'string'),\n",
              " ('LotShape', 'string'),\n",
              " ('LandContour', 'string'),\n",
              " ('Utilities', 'string'),\n",
              " ('LotConfig', 'string'),\n",
              " ('LandSlope', 'string'),\n",
              " ('Neighborhood', 'string'),\n",
              " ('Condition1', 'string'),\n",
              " ('Condition2', 'string'),\n",
              " ('BldgType', 'string'),\n",
              " ('HouseStyle', 'string'),\n",
              " ('OverallQual', 'bigint'),\n",
              " ('YearBuilt', 'bigint'),\n",
              " ('YearRemodAdd', 'bigint'),\n",
              " ('RoofStyle', 'string'),\n",
              " ('RoofMatl', 'string'),\n",
              " ('Exterior1st', 'string'),\n",
              " ('Exterior2nd', 'string'),\n",
              " ('ExterQual', 'string'),\n",
              " ('ExterCond', 'string'),\n",
              " ('Foundation', 'string'),\n",
              " ('BsmtFinSF1', 'bigint'),\n",
              " ('TotalBsmtSF', 'bigint'),\n",
              " ('Heating', 'string'),\n",
              " ('HeatingQC', 'string'),\n",
              " ('CentralAir', 'string'),\n",
              " ('Electrical', 'string'),\n",
              " ('1stFlrSF', 'bigint'),\n",
              " ('2ndFlrSF', 'bigint'),\n",
              " ('GrLivArea', 'bigint'),\n",
              " ('FullBath', 'bigint'),\n",
              " ('KitchenQual', 'string'),\n",
              " ('TotRmsAbvGrd', 'bigint'),\n",
              " ('Functional', 'string'),\n",
              " ('Fireplaces', 'bigint'),\n",
              " ('GarageCars', 'bigint'),\n",
              " ('GarageArea', 'bigint'),\n",
              " ('PavedDrive', 'string'),\n",
              " ('WoodDeckSF', 'bigint'),\n",
              " ('OpenPorchSF', 'bigint'),\n",
              " ('SaleType', 'string'),\n",
              " ('SaleCondition', 'string'),\n",
              " ('SalePrice', 'bigint')]"
            ]
          },
          "metadata": {},
          "execution_count": 115
        }
      ]
    },
    {
      "cell_type": "code",
      "metadata": {
        "colab": {
          "base_uri": "https://localhost:8080/"
        },
        "id": "1CeESUCJhwEF",
        "outputId": "0c891e09-1b14-441c-e259-ced38a3d3287"
      },
      "source": [
        "df_sp.columns"
      ],
      "execution_count": 127,
      "outputs": [
        {
          "output_type": "execute_result",
          "data": {
            "text/plain": [
              "['Id',\n",
              " 'MSZoning',\n",
              " 'Street',\n",
              " 'LotShape',\n",
              " 'LandContour',\n",
              " 'Utilities',\n",
              " 'LotConfig',\n",
              " 'LandSlope',\n",
              " 'Neighborhood',\n",
              " 'Condition1',\n",
              " 'Condition2',\n",
              " 'BldgType',\n",
              " 'HouseStyle',\n",
              " 'OverallQual',\n",
              " 'YearBuilt',\n",
              " 'YearRemodAdd',\n",
              " 'RoofStyle',\n",
              " 'RoofMatl',\n",
              " 'Exterior1st',\n",
              " 'Exterior2nd',\n",
              " 'ExterQual',\n",
              " 'ExterCond',\n",
              " 'Foundation',\n",
              " 'BsmtFinSF1',\n",
              " 'TotalBsmtSF',\n",
              " 'Heating',\n",
              " 'HeatingQC',\n",
              " 'CentralAir',\n",
              " 'Electrical',\n",
              " '1stFlrSF',\n",
              " '2ndFlrSF',\n",
              " 'GrLivArea',\n",
              " 'FullBath',\n",
              " 'KitchenQual',\n",
              " 'TotRmsAbvGrd',\n",
              " 'Functional',\n",
              " 'Fireplaces',\n",
              " 'GarageCars',\n",
              " 'GarageArea',\n",
              " 'PavedDrive',\n",
              " 'WoodDeckSF',\n",
              " 'OpenPorchSF',\n",
              " 'SaleType',\n",
              " 'SaleCondition',\n",
              " 'SalePrice']"
            ]
          },
          "metadata": {},
          "execution_count": 127
        }
      ]
    },
    {
      "cell_type": "code",
      "metadata": {
        "id": "dFnExLEbuHr5"
      },
      "source": [
        "df_sp2 = df_sp2.withColumnRenamed('SalePrice','label')"
      ],
      "execution_count": 156,
      "outputs": []
    },
    {
      "cell_type": "code",
      "metadata": {
        "colab": {
          "base_uri": "https://localhost:8080/"
        },
        "id": "WWX6od-RgMLa",
        "outputId": "06202246-20c7-4216-9c49-9e24281c8258"
      },
      "source": [
        "cat_cols = [item[0] for item in df_sp2.dtypes if item[1].startswith('string')] \n",
        "print(str(len(cat_cols)) + '  categorical features')\n",
        "num_cols = [item[0] for item in df_sp2.dtypes if item[1].startswith('bigint') | item[1].startswith('bigint')][1:]\n",
        "print(str(len(num_cols)) + '  numerical features')"
      ],
      "execution_count": 157,
      "outputs": [
        {
          "output_type": "stream",
          "name": "stdout",
          "text": [
            "28  categorical features\n",
            "16  numerical features\n"
          ]
        }
      ]
    },
    {
      "cell_type": "code",
      "metadata": {
        "id": "Qx4qknx5gyDD"
      },
      "source": [
        "from pyspark.ml.feature import OneHotEncoder, StringIndexer, VectorAssembler\n",
        "stages = []\n",
        "# for categoricalCol in cat_cols:\n",
        "#     stringIndexer = StringIndexer(inputCol = categoricalCol, outputCol = categoricalCol + 'Index')\n",
        "#     encoder = OneHotEncoder(inputCols=[stringIndexer.getOutputCol()], outputCols=[categoricalCol + \"classVec\"])\n",
        "# stages += [stringIndexer, encoder]\n",
        "# assemblerInputs = [c + \"classVec\" for c in cat_cols] + num_cols\n",
        "assemblerInputs = num_cols\n",
        "assembler = VectorAssembler(inputCols=assemblerInputs, outputCol=\"features\")\n",
        "\n",
        "stages += [assembler]\n",
        "lr = LinearRegression(regParam=0.0, solver=\"normal\")\n",
        "stages += [lr]"
      ],
      "execution_count": 160,
      "outputs": []
    },
    {
      "cell_type": "code",
      "metadata": {
        "id": "Jnvv8YwAqjBp"
      },
      "source": [
        ""
      ],
      "execution_count": 154,
      "outputs": []
    },
    {
      "cell_type": "code",
      "metadata": {
        "id": "3I0LwE6buAGm"
      },
      "source": [
        ""
      ],
      "execution_count": null,
      "outputs": []
    },
    {
      "cell_type": "code",
      "metadata": {
        "colab": {
          "base_uri": "https://localhost:8080/",
          "height": 374
        },
        "id": "BCn6h-YghOZi",
        "outputId": "cec78df5-d4b9-4a20-b963-00b90d1687a3"
      },
      "source": [
        "# we use a pipeline to apply all the stages of transformation\n",
        "from pyspark.ml import Pipeline\n",
        "cols = df_sp2.columns\n",
        "pipeline = Pipeline(stages = stages)\n",
        "pipelineModel = pipeline.fit(df_sp2)\n",
        "df_sp2 = pipelineModel.transform(df_sp2)\n",
        "selectedCols = ['features']+cols\n",
        "df_sp2 = df_sp2.select(selectedCols)\n",
        "pd.DataFrame(df_sp2.take(5), columns=df_sp2.columns)"
      ],
      "execution_count": 164,
      "outputs": [
        {
          "output_type": "error",
          "ename": "IllegalArgumentException",
          "evalue": "ignored",
          "traceback": [
            "\u001b[0;31m---------------------------------------------------------------------------\u001b[0m",
            "\u001b[0;31mIllegalArgumentException\u001b[0m                  Traceback (most recent call last)",
            "\u001b[0;32m<ipython-input-164-cee85f1cdc99>\u001b[0m in \u001b[0;36m<module>\u001b[0;34m()\u001b[0m\n\u001b[1;32m      3\u001b[0m \u001b[0mcols\u001b[0m \u001b[0;34m=\u001b[0m \u001b[0mdf_sp2\u001b[0m\u001b[0;34m.\u001b[0m\u001b[0mcolumns\u001b[0m\u001b[0;34m\u001b[0m\u001b[0;34m\u001b[0m\u001b[0m\n\u001b[1;32m      4\u001b[0m \u001b[0mpipeline\u001b[0m \u001b[0;34m=\u001b[0m \u001b[0mPipeline\u001b[0m\u001b[0;34m(\u001b[0m\u001b[0mstages\u001b[0m \u001b[0;34m=\u001b[0m \u001b[0mstages\u001b[0m\u001b[0;34m)\u001b[0m\u001b[0;34m\u001b[0m\u001b[0;34m\u001b[0m\u001b[0m\n\u001b[0;32m----> 5\u001b[0;31m \u001b[0mpipelineModel\u001b[0m \u001b[0;34m=\u001b[0m \u001b[0mpipeline\u001b[0m\u001b[0;34m.\u001b[0m\u001b[0mfit\u001b[0m\u001b[0;34m(\u001b[0m\u001b[0mdf_sp2\u001b[0m\u001b[0;34m)\u001b[0m\u001b[0;34m\u001b[0m\u001b[0;34m\u001b[0m\u001b[0m\n\u001b[0m\u001b[1;32m      6\u001b[0m \u001b[0mdf_sp2\u001b[0m \u001b[0;34m=\u001b[0m \u001b[0mpipelineModel\u001b[0m\u001b[0;34m.\u001b[0m\u001b[0mtransform\u001b[0m\u001b[0;34m(\u001b[0m\u001b[0mdf_sp2\u001b[0m\u001b[0;34m)\u001b[0m\u001b[0;34m\u001b[0m\u001b[0;34m\u001b[0m\u001b[0m\n\u001b[1;32m      7\u001b[0m \u001b[0mselectedCols\u001b[0m \u001b[0;34m=\u001b[0m \u001b[0;34m[\u001b[0m\u001b[0;34m'features'\u001b[0m\u001b[0;34m]\u001b[0m\u001b[0;34m+\u001b[0m\u001b[0mcols\u001b[0m\u001b[0;34m\u001b[0m\u001b[0;34m\u001b[0m\u001b[0m\n",
            "\u001b[0;32m/usr/local/lib/python3.7/dist-packages/pyspark/ml/base.py\u001b[0m in \u001b[0;36mfit\u001b[0;34m(self, dataset, params)\u001b[0m\n\u001b[1;32m    159\u001b[0m                 \u001b[0;32mreturn\u001b[0m \u001b[0mself\u001b[0m\u001b[0;34m.\u001b[0m\u001b[0mcopy\u001b[0m\u001b[0;34m(\u001b[0m\u001b[0mparams\u001b[0m\u001b[0;34m)\u001b[0m\u001b[0;34m.\u001b[0m\u001b[0m_fit\u001b[0m\u001b[0;34m(\u001b[0m\u001b[0mdataset\u001b[0m\u001b[0;34m)\u001b[0m\u001b[0;34m\u001b[0m\u001b[0;34m\u001b[0m\u001b[0m\n\u001b[1;32m    160\u001b[0m             \u001b[0;32melse\u001b[0m\u001b[0;34m:\u001b[0m\u001b[0;34m\u001b[0m\u001b[0;34m\u001b[0m\u001b[0m\n\u001b[0;32m--> 161\u001b[0;31m                 \u001b[0;32mreturn\u001b[0m \u001b[0mself\u001b[0m\u001b[0;34m.\u001b[0m\u001b[0m_fit\u001b[0m\u001b[0;34m(\u001b[0m\u001b[0mdataset\u001b[0m\u001b[0;34m)\u001b[0m\u001b[0;34m\u001b[0m\u001b[0;34m\u001b[0m\u001b[0m\n\u001b[0m\u001b[1;32m    162\u001b[0m         \u001b[0;32melse\u001b[0m\u001b[0;34m:\u001b[0m\u001b[0;34m\u001b[0m\u001b[0;34m\u001b[0m\u001b[0m\n\u001b[1;32m    163\u001b[0m             raise ValueError(\"Params must be either a param map or a list/tuple of param maps, \"\n",
            "\u001b[0;32m/usr/local/lib/python3.7/dist-packages/pyspark/ml/pipeline.py\u001b[0m in \u001b[0;36m_fit\u001b[0;34m(self, dataset)\u001b[0m\n\u001b[1;32m    110\u001b[0m                 \u001b[0;32mif\u001b[0m \u001b[0misinstance\u001b[0m\u001b[0;34m(\u001b[0m\u001b[0mstage\u001b[0m\u001b[0;34m,\u001b[0m \u001b[0mTransformer\u001b[0m\u001b[0;34m)\u001b[0m\u001b[0;34m:\u001b[0m\u001b[0;34m\u001b[0m\u001b[0;34m\u001b[0m\u001b[0m\n\u001b[1;32m    111\u001b[0m                     \u001b[0mtransformers\u001b[0m\u001b[0;34m.\u001b[0m\u001b[0mappend\u001b[0m\u001b[0;34m(\u001b[0m\u001b[0mstage\u001b[0m\u001b[0;34m)\u001b[0m\u001b[0;34m\u001b[0m\u001b[0;34m\u001b[0m\u001b[0m\n\u001b[0;32m--> 112\u001b[0;31m                     \u001b[0mdataset\u001b[0m \u001b[0;34m=\u001b[0m \u001b[0mstage\u001b[0m\u001b[0;34m.\u001b[0m\u001b[0mtransform\u001b[0m\u001b[0;34m(\u001b[0m\u001b[0mdataset\u001b[0m\u001b[0;34m)\u001b[0m\u001b[0;34m\u001b[0m\u001b[0;34m\u001b[0m\u001b[0m\n\u001b[0m\u001b[1;32m    113\u001b[0m                 \u001b[0;32melse\u001b[0m\u001b[0;34m:\u001b[0m  \u001b[0;31m# must be an Estimator\u001b[0m\u001b[0;34m\u001b[0m\u001b[0;34m\u001b[0m\u001b[0m\n\u001b[1;32m    114\u001b[0m                     \u001b[0mmodel\u001b[0m \u001b[0;34m=\u001b[0m \u001b[0mstage\u001b[0m\u001b[0;34m.\u001b[0m\u001b[0mfit\u001b[0m\u001b[0;34m(\u001b[0m\u001b[0mdataset\u001b[0m\u001b[0;34m)\u001b[0m\u001b[0;34m\u001b[0m\u001b[0;34m\u001b[0m\u001b[0m\n",
            "\u001b[0;32m/usr/local/lib/python3.7/dist-packages/pyspark/ml/base.py\u001b[0m in \u001b[0;36mtransform\u001b[0;34m(self, dataset, params)\u001b[0m\n\u001b[1;32m    215\u001b[0m                 \u001b[0;32mreturn\u001b[0m \u001b[0mself\u001b[0m\u001b[0;34m.\u001b[0m\u001b[0mcopy\u001b[0m\u001b[0;34m(\u001b[0m\u001b[0mparams\u001b[0m\u001b[0;34m)\u001b[0m\u001b[0;34m.\u001b[0m\u001b[0m_transform\u001b[0m\u001b[0;34m(\u001b[0m\u001b[0mdataset\u001b[0m\u001b[0;34m)\u001b[0m\u001b[0;34m\u001b[0m\u001b[0;34m\u001b[0m\u001b[0m\n\u001b[1;32m    216\u001b[0m             \u001b[0;32melse\u001b[0m\u001b[0;34m:\u001b[0m\u001b[0;34m\u001b[0m\u001b[0;34m\u001b[0m\u001b[0m\n\u001b[0;32m--> 217\u001b[0;31m                 \u001b[0;32mreturn\u001b[0m \u001b[0mself\u001b[0m\u001b[0;34m.\u001b[0m\u001b[0m_transform\u001b[0m\u001b[0;34m(\u001b[0m\u001b[0mdataset\u001b[0m\u001b[0;34m)\u001b[0m\u001b[0;34m\u001b[0m\u001b[0;34m\u001b[0m\u001b[0m\n\u001b[0m\u001b[1;32m    218\u001b[0m         \u001b[0;32melse\u001b[0m\u001b[0;34m:\u001b[0m\u001b[0;34m\u001b[0m\u001b[0;34m\u001b[0m\u001b[0m\n\u001b[1;32m    219\u001b[0m             \u001b[0;32mraise\u001b[0m \u001b[0mValueError\u001b[0m\u001b[0;34m(\u001b[0m\u001b[0;34m\"Params must be a param map but got %s.\"\u001b[0m \u001b[0;34m%\u001b[0m \u001b[0mtype\u001b[0m\u001b[0;34m(\u001b[0m\u001b[0mparams\u001b[0m\u001b[0;34m)\u001b[0m\u001b[0;34m)\u001b[0m\u001b[0;34m\u001b[0m\u001b[0;34m\u001b[0m\u001b[0m\n",
            "\u001b[0;32m/usr/local/lib/python3.7/dist-packages/pyspark/ml/wrapper.py\u001b[0m in \u001b[0;36m_transform\u001b[0;34m(self, dataset)\u001b[0m\n\u001b[1;32m    348\u001b[0m     \u001b[0;32mdef\u001b[0m \u001b[0m_transform\u001b[0m\u001b[0;34m(\u001b[0m\u001b[0mself\u001b[0m\u001b[0;34m,\u001b[0m \u001b[0mdataset\u001b[0m\u001b[0;34m)\u001b[0m\u001b[0;34m:\u001b[0m\u001b[0;34m\u001b[0m\u001b[0;34m\u001b[0m\u001b[0m\n\u001b[1;32m    349\u001b[0m         \u001b[0mself\u001b[0m\u001b[0;34m.\u001b[0m\u001b[0m_transfer_params_to_java\u001b[0m\u001b[0;34m(\u001b[0m\u001b[0;34m)\u001b[0m\u001b[0;34m\u001b[0m\u001b[0;34m\u001b[0m\u001b[0m\n\u001b[0;32m--> 350\u001b[0;31m         \u001b[0;32mreturn\u001b[0m \u001b[0mDataFrame\u001b[0m\u001b[0;34m(\u001b[0m\u001b[0mself\u001b[0m\u001b[0;34m.\u001b[0m\u001b[0m_java_obj\u001b[0m\u001b[0;34m.\u001b[0m\u001b[0mtransform\u001b[0m\u001b[0;34m(\u001b[0m\u001b[0mdataset\u001b[0m\u001b[0;34m.\u001b[0m\u001b[0m_jdf\u001b[0m\u001b[0;34m)\u001b[0m\u001b[0;34m,\u001b[0m \u001b[0mdataset\u001b[0m\u001b[0;34m.\u001b[0m\u001b[0msql_ctx\u001b[0m\u001b[0;34m)\u001b[0m\u001b[0;34m\u001b[0m\u001b[0;34m\u001b[0m\u001b[0m\n\u001b[0m\u001b[1;32m    351\u001b[0m \u001b[0;34m\u001b[0m\u001b[0m\n\u001b[1;32m    352\u001b[0m \u001b[0;34m\u001b[0m\u001b[0m\n",
            "\u001b[0;32m/usr/local/lib/python3.7/dist-packages/py4j/java_gateway.py\u001b[0m in \u001b[0;36m__call__\u001b[0;34m(self, *args)\u001b[0m\n\u001b[1;32m   1303\u001b[0m         \u001b[0manswer\u001b[0m \u001b[0;34m=\u001b[0m \u001b[0mself\u001b[0m\u001b[0;34m.\u001b[0m\u001b[0mgateway_client\u001b[0m\u001b[0;34m.\u001b[0m\u001b[0msend_command\u001b[0m\u001b[0;34m(\u001b[0m\u001b[0mcommand\u001b[0m\u001b[0;34m)\u001b[0m\u001b[0;34m\u001b[0m\u001b[0;34m\u001b[0m\u001b[0m\n\u001b[1;32m   1304\u001b[0m         return_value = get_return_value(\n\u001b[0;32m-> 1305\u001b[0;31m             answer, self.gateway_client, self.target_id, self.name)\n\u001b[0m\u001b[1;32m   1306\u001b[0m \u001b[0;34m\u001b[0m\u001b[0m\n\u001b[1;32m   1307\u001b[0m         \u001b[0;32mfor\u001b[0m \u001b[0mtemp_arg\u001b[0m \u001b[0;32min\u001b[0m \u001b[0mtemp_args\u001b[0m\u001b[0;34m:\u001b[0m\u001b[0;34m\u001b[0m\u001b[0;34m\u001b[0m\u001b[0m\n",
            "\u001b[0;32m/usr/local/lib/python3.7/dist-packages/pyspark/sql/utils.py\u001b[0m in \u001b[0;36mdeco\u001b[0;34m(*a, **kw)\u001b[0m\n\u001b[1;32m    115\u001b[0m                 \u001b[0;31m# Hide where the exception came from that shows a non-Pythonic\u001b[0m\u001b[0;34m\u001b[0m\u001b[0;34m\u001b[0m\u001b[0;34m\u001b[0m\u001b[0m\n\u001b[1;32m    116\u001b[0m                 \u001b[0;31m# JVM exception message.\u001b[0m\u001b[0;34m\u001b[0m\u001b[0;34m\u001b[0m\u001b[0;34m\u001b[0m\u001b[0m\n\u001b[0;32m--> 117\u001b[0;31m                 \u001b[0;32mraise\u001b[0m \u001b[0mconverted\u001b[0m \u001b[0;32mfrom\u001b[0m \u001b[0;32mNone\u001b[0m\u001b[0;34m\u001b[0m\u001b[0;34m\u001b[0m\u001b[0m\n\u001b[0m\u001b[1;32m    118\u001b[0m             \u001b[0;32melse\u001b[0m\u001b[0;34m:\u001b[0m\u001b[0;34m\u001b[0m\u001b[0;34m\u001b[0m\u001b[0m\n\u001b[1;32m    119\u001b[0m                 \u001b[0;32mraise\u001b[0m\u001b[0;34m\u001b[0m\u001b[0;34m\u001b[0m\u001b[0m\n",
            "\u001b[0;31mIllegalArgumentException\u001b[0m: Output column features already exists."
          ]
        }
      ]
    },
    {
      "cell_type": "code",
      "metadata": {
        "colab": {
          "base_uri": "https://localhost:8080/",
          "height": 231
        },
        "id": "buBGb8veueG6",
        "outputId": "37e07fc9-68eb-4c34-dee1-eb08e52c1154"
      },
      "source": [
        "# Print the coefficients and intercept for linear regression\n",
        "print(\"Coefficients: %s\" % str(lrModel.coefficients))\n",
        "print(\"Intercept: %s\" % str(lrModel.intercept))\n",
        "\n",
        "# Summarize the model over the training set and print out some metrics\n",
        "trainingSummary = lrModel.summary\n",
        "print(\"numIterations: %d\" % trainingSummary.totalIterations)\n",
        "print(\"objectiveHistory: %s\" % str(trainingSummary.objectiveHistory))\n",
        "trainingSummary.residuals.show()\n",
        "print(\"RMSE: %f\" % trainingSummary.rootMeanSquaredError)\n",
        "print(\"r2: %f\" % trainingSummary.r2)"
      ],
      "execution_count": 162,
      "outputs": [
        {
          "output_type": "error",
          "ename": "AttributeError",
          "evalue": "ignored",
          "traceback": [
            "\u001b[0;31m---------------------------------------------------------------------------\u001b[0m",
            "\u001b[0;31mAttributeError\u001b[0m                            Traceback (most recent call last)",
            "\u001b[0;32m<ipython-input-162-433fef5df489>\u001b[0m in \u001b[0;36m<module>\u001b[0;34m()\u001b[0m\n\u001b[1;32m      1\u001b[0m \u001b[0;31m# #To predict the prices on testing set\u001b[0m\u001b[0;34m\u001b[0m\u001b[0;34m\u001b[0m\u001b[0;34m\u001b[0m\u001b[0m\n\u001b[0;32m----> 2\u001b[0;31m \u001b[0mpred\u001b[0m \u001b[0;34m=\u001b[0m \u001b[0mpipelineModel\u001b[0m\u001b[0;34m.\u001b[0m\u001b[0mevaluate\u001b[0m\u001b[0;34m(\u001b[0m\u001b[0mtest_data\u001b[0m\u001b[0;34m)\u001b[0m\u001b[0;34m\u001b[0m\u001b[0;34m\u001b[0m\u001b[0m\n\u001b[0m\u001b[1;32m      3\u001b[0m \u001b[0;34m\u001b[0m\u001b[0m\n\u001b[1;32m      4\u001b[0m \u001b[0;31m# #Predict the model\u001b[0m\u001b[0;34m\u001b[0m\u001b[0;34m\u001b[0m\u001b[0;34m\u001b[0m\u001b[0m\n\u001b[1;32m      5\u001b[0m \u001b[0mpred\u001b[0m\u001b[0;34m.\u001b[0m\u001b[0mpredictions\u001b[0m\u001b[0;34m.\u001b[0m\u001b[0mshow\u001b[0m\u001b[0;34m(\u001b[0m\u001b[0;34m)\u001b[0m\u001b[0;34m\u001b[0m\u001b[0;34m\u001b[0m\u001b[0m\n",
            "\u001b[0;31mAttributeError\u001b[0m: 'PipelineModel' object has no attribute 'evaluate'"
          ]
        }
      ]
    },
    {
      "cell_type": "code",
      "metadata": {
        "colab": {
          "base_uri": "https://localhost:8080/"
        },
        "id": "eTsuFxrXatkO",
        "outputId": "806fc6a1-5b68-4067-8682-5509e51fe369"
      },
      "source": [
        "print((df_sp.count(), len(df_sp.columns)))"
      ],
      "execution_count": 118,
      "outputs": [
        {
          "output_type": "stream",
          "name": "stdout",
          "text": [
            "(1460, 45)\n"
          ]
        }
      ]
    },
    {
      "cell_type": "code",
      "metadata": {
        "id": "OmmD551ya6rG"
      },
      "source": [
        "from pyspark.ml.feature import OneHotEncoder\n",
        "from pyspark.ml import Pipeline\n"
      ],
      "execution_count": 120,
      "outputs": []
    },
    {
      "cell_type": "code",
      "metadata": {
        "id": "CNvfPH64euli"
      },
      "source": [
        "preprocessor = ColumnTransformer(\n",
        "    transformers=[\n",
        "        ('num', numeric_transformer, numeric_features),\n",
        "        ('cat', categorical_transformer, categorical_features)])"
      ],
      "execution_count": null,
      "outputs": []
    },
    {
      "cell_type": "code",
      "metadata": {
        "id": "zrdAYb79ezwO"
      },
      "source": [
        "clf = Pipeline(steps=[('preprocessor', preprocessor),\n",
        "                      ('classifier', LinearRegression())])"
      ],
      "execution_count": null,
      "outputs": []
    },
    {
      "cell_type": "code",
      "metadata": {
        "id": "Q48oWlrie8lo"
      },
      "source": [
        "from pyspark.ml.regression import LinearRegression\n",
        "#Split training and testing data\n",
        "train_data,test_data = finalized_data.randomSplit([0.8,0.2])\n",
        "\n",
        "lr = LinearRegression(maxIter=10, regParam=0.3, elasticNetParam=0.8)\n",
        "#  Fit the model\n",
        "lrModel = lr.fit(train_data)\n",
        "\n",
        "# Print the coefficients and intercept for linear regression\n",
        "print(\"Coefficients: %s\" % str(lrModel.coefficients))\n",
        "print(\"Intercept: %s\" % str(lrModel.intercept))\n",
        "\n",
        "\n",
        "# #To predict the prices on testing set\n",
        "pred = lrModel.evaluate(test_data)\n",
        "\n",
        "# #Predict the model\n",
        "pred.predictions.show()"
      ],
      "execution_count": null,
      "outputs": []
    }
  ]
}