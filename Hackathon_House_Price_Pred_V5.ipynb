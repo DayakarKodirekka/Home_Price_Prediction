{
  "nbformat": 4,
  "nbformat_minor": 0,
  "metadata": {
    "colab": {
      "name": "Hackathon_House_Price_Pred_V5.ipynb",
      "provenance": [],
      "collapsed_sections": []
    },
    "kernelspec": {
      "name": "python3",
      "display_name": "Python 3"
    },
    "language_info": {
      "name": "python"
    }
  },
  "cells": [
    {
      "cell_type": "markdown",
      "metadata": {
        "id": "OGyD5tpt6LBd"
      },
      "source": [
        "**Loading Required Libraries**"
      ]
    },
    {
      "cell_type": "code",
      "metadata": {
        "id": "ApUgG2GS59n6"
      },
      "source": [
        "import pandas as pd \n",
        "import numpy as np\n",
        "import matplotlib.pyplot as plt\n",
        "import seaborn as sns\n",
        "pd.set_option('display.float_format', lambda x: '{:.3f}'.format(x),'display.max_columns', None) #Limiting floats output to 3 decimal points\n",
        "\n",
        "import warnings\n",
        "def ignore_warn(*args, **kwargs):\n",
        "    pass\n",
        "warnings.warn = ignore_warn #ignore annoying warning (from sklearn and seaborn)"
      ],
      "execution_count": 2,
      "outputs": []
    },
    {
      "cell_type": "markdown",
      "metadata": {
        "id": "MNQXSmDQ7mpG"
      },
      "source": [
        "**Data Ingestion**"
      ]
    },
    {
      "cell_type": "code",
      "metadata": {
        "id": "1sTs1HuK6Cm6"
      },
      "source": [
        "df = pd.read_csv('train1.csv')\n",
        "df_t = pd.read_csv('test1.csv')"
      ],
      "execution_count": 3,
      "outputs": []
    },
    {
      "cell_type": "markdown",
      "metadata": {
        "id": "ZN66GZVk61IE"
      },
      "source": [
        "**Data Presentation**"
      ]
    },
    {
      "cell_type": "code",
      "metadata": {
        "colab": {
          "base_uri": "https://localhost:8080/",
          "height": 224
        },
        "id": "42o2tgjgbUP4",
        "outputId": "87902dd9-65da-4911-d42f-0768c9109dc3"
      },
      "source": [
        "df.head(5)"
      ],
      "execution_count": 4,
      "outputs": [
        {
          "output_type": "execute_result",
          "data": {
            "text/html": [
              "<div>\n",
              "<style scoped>\n",
              "    .dataframe tbody tr th:only-of-type {\n",
              "        vertical-align: middle;\n",
              "    }\n",
              "\n",
              "    .dataframe tbody tr th {\n",
              "        vertical-align: top;\n",
              "    }\n",
              "\n",
              "    .dataframe thead th {\n",
              "        text-align: right;\n",
              "    }\n",
              "</style>\n",
              "<table border=\"1\" class=\"dataframe\">\n",
              "  <thead>\n",
              "    <tr style=\"text-align: right;\">\n",
              "      <th></th>\n",
              "      <th>Id</th>\n",
              "      <th>MSSubClass</th>\n",
              "      <th>MSZoning</th>\n",
              "      <th>LotFrontage</th>\n",
              "      <th>LotArea</th>\n",
              "      <th>Street</th>\n",
              "      <th>Alley</th>\n",
              "      <th>LotShape</th>\n",
              "      <th>LandContour</th>\n",
              "      <th>Utilities</th>\n",
              "      <th>LotConfig</th>\n",
              "      <th>LandSlope</th>\n",
              "      <th>Neighborhood</th>\n",
              "      <th>Condition1</th>\n",
              "      <th>Condition2</th>\n",
              "      <th>BldgType</th>\n",
              "      <th>HouseStyle</th>\n",
              "      <th>OverallQual</th>\n",
              "      <th>OverallCond</th>\n",
              "      <th>YearBuilt</th>\n",
              "      <th>YearRemodAdd</th>\n",
              "      <th>RoofStyle</th>\n",
              "      <th>RoofMatl</th>\n",
              "      <th>Exterior1st</th>\n",
              "      <th>Exterior2nd</th>\n",
              "      <th>MasVnrType</th>\n",
              "      <th>MasVnrArea</th>\n",
              "      <th>ExterQual</th>\n",
              "      <th>ExterCond</th>\n",
              "      <th>Foundation</th>\n",
              "      <th>BsmtQual</th>\n",
              "      <th>BsmtCond</th>\n",
              "      <th>BsmtExposure</th>\n",
              "      <th>BsmtFinType1</th>\n",
              "      <th>BsmtFinSF1</th>\n",
              "      <th>BsmtFinType2</th>\n",
              "      <th>BsmtFinSF2</th>\n",
              "      <th>BsmtUnfSF</th>\n",
              "      <th>TotalBsmtSF</th>\n",
              "      <th>Heating</th>\n",
              "      <th>HeatingQC</th>\n",
              "      <th>CentralAir</th>\n",
              "      <th>Electrical</th>\n",
              "      <th>1stFlrSF</th>\n",
              "      <th>2ndFlrSF</th>\n",
              "      <th>LowQualFinSF</th>\n",
              "      <th>GrLivArea</th>\n",
              "      <th>BsmtFullBath</th>\n",
              "      <th>BsmtHalfBath</th>\n",
              "      <th>FullBath</th>\n",
              "      <th>HalfBath</th>\n",
              "      <th>BedroomAbvGr</th>\n",
              "      <th>KitchenAbvGr</th>\n",
              "      <th>KitchenQual</th>\n",
              "      <th>TotRmsAbvGrd</th>\n",
              "      <th>Functional</th>\n",
              "      <th>Fireplaces</th>\n",
              "      <th>FireplaceQu</th>\n",
              "      <th>GarageType</th>\n",
              "      <th>GarageYrBlt</th>\n",
              "      <th>GarageFinish</th>\n",
              "      <th>GarageCars</th>\n",
              "      <th>GarageArea</th>\n",
              "      <th>GarageQual</th>\n",
              "      <th>GarageCond</th>\n",
              "      <th>PavedDrive</th>\n",
              "      <th>WoodDeckSF</th>\n",
              "      <th>OpenPorchSF</th>\n",
              "      <th>EnclosedPorch</th>\n",
              "      <th>3SsnPorch</th>\n",
              "      <th>ScreenPorch</th>\n",
              "      <th>PoolArea</th>\n",
              "      <th>PoolQC</th>\n",
              "      <th>Fence</th>\n",
              "      <th>MiscFeature</th>\n",
              "      <th>MiscVal</th>\n",
              "      <th>MoSold</th>\n",
              "      <th>YrSold</th>\n",
              "      <th>SaleType</th>\n",
              "      <th>SaleCondition</th>\n",
              "      <th>SalePrice</th>\n",
              "    </tr>\n",
              "  </thead>\n",
              "  <tbody>\n",
              "    <tr>\n",
              "      <th>0</th>\n",
              "      <td>1</td>\n",
              "      <td>60</td>\n",
              "      <td>RL</td>\n",
              "      <td>65.000</td>\n",
              "      <td>8450</td>\n",
              "      <td>Pave</td>\n",
              "      <td>NaN</td>\n",
              "      <td>Reg</td>\n",
              "      <td>Lvl</td>\n",
              "      <td>AllPub</td>\n",
              "      <td>Inside</td>\n",
              "      <td>Gtl</td>\n",
              "      <td>CollgCr</td>\n",
              "      <td>Norm</td>\n",
              "      <td>Norm</td>\n",
              "      <td>1Fam</td>\n",
              "      <td>2Story</td>\n",
              "      <td>7</td>\n",
              "      <td>5</td>\n",
              "      <td>2003</td>\n",
              "      <td>2003</td>\n",
              "      <td>Gable</td>\n",
              "      <td>CompShg</td>\n",
              "      <td>VinylSd</td>\n",
              "      <td>VinylSd</td>\n",
              "      <td>BrkFace</td>\n",
              "      <td>196.000</td>\n",
              "      <td>Gd</td>\n",
              "      <td>TA</td>\n",
              "      <td>PConc</td>\n",
              "      <td>Gd</td>\n",
              "      <td>TA</td>\n",
              "      <td>No</td>\n",
              "      <td>GLQ</td>\n",
              "      <td>706</td>\n",
              "      <td>Unf</td>\n",
              "      <td>0</td>\n",
              "      <td>150</td>\n",
              "      <td>856</td>\n",
              "      <td>GasA</td>\n",
              "      <td>Ex</td>\n",
              "      <td>Y</td>\n",
              "      <td>SBrkr</td>\n",
              "      <td>856</td>\n",
              "      <td>854</td>\n",
              "      <td>0</td>\n",
              "      <td>1710</td>\n",
              "      <td>1</td>\n",
              "      <td>0</td>\n",
              "      <td>2</td>\n",
              "      <td>1</td>\n",
              "      <td>3</td>\n",
              "      <td>1</td>\n",
              "      <td>Gd</td>\n",
              "      <td>8</td>\n",
              "      <td>Typ</td>\n",
              "      <td>0</td>\n",
              "      <td>NaN</td>\n",
              "      <td>Attchd</td>\n",
              "      <td>2003.000</td>\n",
              "      <td>RFn</td>\n",
              "      <td>2</td>\n",
              "      <td>548</td>\n",
              "      <td>TA</td>\n",
              "      <td>TA</td>\n",
              "      <td>Y</td>\n",
              "      <td>0</td>\n",
              "      <td>61</td>\n",
              "      <td>0</td>\n",
              "      <td>0</td>\n",
              "      <td>0</td>\n",
              "      <td>0</td>\n",
              "      <td>NaN</td>\n",
              "      <td>NaN</td>\n",
              "      <td>NaN</td>\n",
              "      <td>0</td>\n",
              "      <td>2</td>\n",
              "      <td>2008</td>\n",
              "      <td>WD</td>\n",
              "      <td>Normal</td>\n",
              "      <td>208500</td>\n",
              "    </tr>\n",
              "    <tr>\n",
              "      <th>1</th>\n",
              "      <td>2</td>\n",
              "      <td>20</td>\n",
              "      <td>RL</td>\n",
              "      <td>80.000</td>\n",
              "      <td>9600</td>\n",
              "      <td>Pave</td>\n",
              "      <td>NaN</td>\n",
              "      <td>Reg</td>\n",
              "      <td>Lvl</td>\n",
              "      <td>AllPub</td>\n",
              "      <td>FR2</td>\n",
              "      <td>Gtl</td>\n",
              "      <td>Veenker</td>\n",
              "      <td>Feedr</td>\n",
              "      <td>Norm</td>\n",
              "      <td>1Fam</td>\n",
              "      <td>1Story</td>\n",
              "      <td>6</td>\n",
              "      <td>8</td>\n",
              "      <td>1976</td>\n",
              "      <td>1976</td>\n",
              "      <td>Gable</td>\n",
              "      <td>CompShg</td>\n",
              "      <td>MetalSd</td>\n",
              "      <td>MetalSd</td>\n",
              "      <td>None</td>\n",
              "      <td>0.000</td>\n",
              "      <td>TA</td>\n",
              "      <td>TA</td>\n",
              "      <td>CBlock</td>\n",
              "      <td>Gd</td>\n",
              "      <td>TA</td>\n",
              "      <td>Gd</td>\n",
              "      <td>ALQ</td>\n",
              "      <td>978</td>\n",
              "      <td>Unf</td>\n",
              "      <td>0</td>\n",
              "      <td>284</td>\n",
              "      <td>1262</td>\n",
              "      <td>GasA</td>\n",
              "      <td>Ex</td>\n",
              "      <td>Y</td>\n",
              "      <td>SBrkr</td>\n",
              "      <td>1262</td>\n",
              "      <td>0</td>\n",
              "      <td>0</td>\n",
              "      <td>1262</td>\n",
              "      <td>0</td>\n",
              "      <td>1</td>\n",
              "      <td>2</td>\n",
              "      <td>0</td>\n",
              "      <td>3</td>\n",
              "      <td>1</td>\n",
              "      <td>TA</td>\n",
              "      <td>6</td>\n",
              "      <td>Typ</td>\n",
              "      <td>1</td>\n",
              "      <td>TA</td>\n",
              "      <td>Attchd</td>\n",
              "      <td>1976.000</td>\n",
              "      <td>RFn</td>\n",
              "      <td>2</td>\n",
              "      <td>460</td>\n",
              "      <td>TA</td>\n",
              "      <td>TA</td>\n",
              "      <td>Y</td>\n",
              "      <td>298</td>\n",
              "      <td>0</td>\n",
              "      <td>0</td>\n",
              "      <td>0</td>\n",
              "      <td>0</td>\n",
              "      <td>0</td>\n",
              "      <td>NaN</td>\n",
              "      <td>NaN</td>\n",
              "      <td>NaN</td>\n",
              "      <td>0</td>\n",
              "      <td>5</td>\n",
              "      <td>2007</td>\n",
              "      <td>WD</td>\n",
              "      <td>Normal</td>\n",
              "      <td>181500</td>\n",
              "    </tr>\n",
              "    <tr>\n",
              "      <th>2</th>\n",
              "      <td>3</td>\n",
              "      <td>60</td>\n",
              "      <td>RL</td>\n",
              "      <td>68.000</td>\n",
              "      <td>11250</td>\n",
              "      <td>Pave</td>\n",
              "      <td>NaN</td>\n",
              "      <td>IR1</td>\n",
              "      <td>Lvl</td>\n",
              "      <td>AllPub</td>\n",
              "      <td>Inside</td>\n",
              "      <td>Gtl</td>\n",
              "      <td>CollgCr</td>\n",
              "      <td>Norm</td>\n",
              "      <td>Norm</td>\n",
              "      <td>1Fam</td>\n",
              "      <td>2Story</td>\n",
              "      <td>7</td>\n",
              "      <td>5</td>\n",
              "      <td>2001</td>\n",
              "      <td>2002</td>\n",
              "      <td>Gable</td>\n",
              "      <td>CompShg</td>\n",
              "      <td>VinylSd</td>\n",
              "      <td>VinylSd</td>\n",
              "      <td>BrkFace</td>\n",
              "      <td>162.000</td>\n",
              "      <td>Gd</td>\n",
              "      <td>TA</td>\n",
              "      <td>PConc</td>\n",
              "      <td>Gd</td>\n",
              "      <td>TA</td>\n",
              "      <td>Mn</td>\n",
              "      <td>GLQ</td>\n",
              "      <td>486</td>\n",
              "      <td>Unf</td>\n",
              "      <td>0</td>\n",
              "      <td>434</td>\n",
              "      <td>920</td>\n",
              "      <td>GasA</td>\n",
              "      <td>Ex</td>\n",
              "      <td>Y</td>\n",
              "      <td>SBrkr</td>\n",
              "      <td>920</td>\n",
              "      <td>866</td>\n",
              "      <td>0</td>\n",
              "      <td>1786</td>\n",
              "      <td>1</td>\n",
              "      <td>0</td>\n",
              "      <td>2</td>\n",
              "      <td>1</td>\n",
              "      <td>3</td>\n",
              "      <td>1</td>\n",
              "      <td>Gd</td>\n",
              "      <td>6</td>\n",
              "      <td>Typ</td>\n",
              "      <td>1</td>\n",
              "      <td>TA</td>\n",
              "      <td>Attchd</td>\n",
              "      <td>2001.000</td>\n",
              "      <td>RFn</td>\n",
              "      <td>2</td>\n",
              "      <td>608</td>\n",
              "      <td>TA</td>\n",
              "      <td>TA</td>\n",
              "      <td>Y</td>\n",
              "      <td>0</td>\n",
              "      <td>42</td>\n",
              "      <td>0</td>\n",
              "      <td>0</td>\n",
              "      <td>0</td>\n",
              "      <td>0</td>\n",
              "      <td>NaN</td>\n",
              "      <td>NaN</td>\n",
              "      <td>NaN</td>\n",
              "      <td>0</td>\n",
              "      <td>9</td>\n",
              "      <td>2008</td>\n",
              "      <td>WD</td>\n",
              "      <td>Normal</td>\n",
              "      <td>223500</td>\n",
              "    </tr>\n",
              "    <tr>\n",
              "      <th>3</th>\n",
              "      <td>4</td>\n",
              "      <td>70</td>\n",
              "      <td>RL</td>\n",
              "      <td>60.000</td>\n",
              "      <td>9550</td>\n",
              "      <td>Pave</td>\n",
              "      <td>NaN</td>\n",
              "      <td>IR1</td>\n",
              "      <td>Lvl</td>\n",
              "      <td>AllPub</td>\n",
              "      <td>Corner</td>\n",
              "      <td>Gtl</td>\n",
              "      <td>Crawfor</td>\n",
              "      <td>Norm</td>\n",
              "      <td>Norm</td>\n",
              "      <td>1Fam</td>\n",
              "      <td>2Story</td>\n",
              "      <td>7</td>\n",
              "      <td>5</td>\n",
              "      <td>1915</td>\n",
              "      <td>1970</td>\n",
              "      <td>Gable</td>\n",
              "      <td>CompShg</td>\n",
              "      <td>Wd Sdng</td>\n",
              "      <td>Wd Shng</td>\n",
              "      <td>None</td>\n",
              "      <td>0.000</td>\n",
              "      <td>TA</td>\n",
              "      <td>TA</td>\n",
              "      <td>BrkTil</td>\n",
              "      <td>TA</td>\n",
              "      <td>Gd</td>\n",
              "      <td>No</td>\n",
              "      <td>ALQ</td>\n",
              "      <td>216</td>\n",
              "      <td>Unf</td>\n",
              "      <td>0</td>\n",
              "      <td>540</td>\n",
              "      <td>756</td>\n",
              "      <td>GasA</td>\n",
              "      <td>Gd</td>\n",
              "      <td>Y</td>\n",
              "      <td>SBrkr</td>\n",
              "      <td>961</td>\n",
              "      <td>756</td>\n",
              "      <td>0</td>\n",
              "      <td>1717</td>\n",
              "      <td>1</td>\n",
              "      <td>0</td>\n",
              "      <td>1</td>\n",
              "      <td>0</td>\n",
              "      <td>3</td>\n",
              "      <td>1</td>\n",
              "      <td>Gd</td>\n",
              "      <td>7</td>\n",
              "      <td>Typ</td>\n",
              "      <td>1</td>\n",
              "      <td>Gd</td>\n",
              "      <td>Detchd</td>\n",
              "      <td>1998.000</td>\n",
              "      <td>Unf</td>\n",
              "      <td>3</td>\n",
              "      <td>642</td>\n",
              "      <td>TA</td>\n",
              "      <td>TA</td>\n",
              "      <td>Y</td>\n",
              "      <td>0</td>\n",
              "      <td>35</td>\n",
              "      <td>272</td>\n",
              "      <td>0</td>\n",
              "      <td>0</td>\n",
              "      <td>0</td>\n",
              "      <td>NaN</td>\n",
              "      <td>NaN</td>\n",
              "      <td>NaN</td>\n",
              "      <td>0</td>\n",
              "      <td>2</td>\n",
              "      <td>2006</td>\n",
              "      <td>WD</td>\n",
              "      <td>Abnorml</td>\n",
              "      <td>140000</td>\n",
              "    </tr>\n",
              "    <tr>\n",
              "      <th>4</th>\n",
              "      <td>5</td>\n",
              "      <td>60</td>\n",
              "      <td>RL</td>\n",
              "      <td>84.000</td>\n",
              "      <td>14260</td>\n",
              "      <td>Pave</td>\n",
              "      <td>NaN</td>\n",
              "      <td>IR1</td>\n",
              "      <td>Lvl</td>\n",
              "      <td>AllPub</td>\n",
              "      <td>FR2</td>\n",
              "      <td>Gtl</td>\n",
              "      <td>NoRidge</td>\n",
              "      <td>Norm</td>\n",
              "      <td>Norm</td>\n",
              "      <td>1Fam</td>\n",
              "      <td>2Story</td>\n",
              "      <td>8</td>\n",
              "      <td>5</td>\n",
              "      <td>2000</td>\n",
              "      <td>2000</td>\n",
              "      <td>Gable</td>\n",
              "      <td>CompShg</td>\n",
              "      <td>VinylSd</td>\n",
              "      <td>VinylSd</td>\n",
              "      <td>BrkFace</td>\n",
              "      <td>350.000</td>\n",
              "      <td>Gd</td>\n",
              "      <td>TA</td>\n",
              "      <td>PConc</td>\n",
              "      <td>Gd</td>\n",
              "      <td>TA</td>\n",
              "      <td>Av</td>\n",
              "      <td>GLQ</td>\n",
              "      <td>655</td>\n",
              "      <td>Unf</td>\n",
              "      <td>0</td>\n",
              "      <td>490</td>\n",
              "      <td>1145</td>\n",
              "      <td>GasA</td>\n",
              "      <td>Ex</td>\n",
              "      <td>Y</td>\n",
              "      <td>SBrkr</td>\n",
              "      <td>1145</td>\n",
              "      <td>1053</td>\n",
              "      <td>0</td>\n",
              "      <td>2198</td>\n",
              "      <td>1</td>\n",
              "      <td>0</td>\n",
              "      <td>2</td>\n",
              "      <td>1</td>\n",
              "      <td>4</td>\n",
              "      <td>1</td>\n",
              "      <td>Gd</td>\n",
              "      <td>9</td>\n",
              "      <td>Typ</td>\n",
              "      <td>1</td>\n",
              "      <td>TA</td>\n",
              "      <td>Attchd</td>\n",
              "      <td>2000.000</td>\n",
              "      <td>RFn</td>\n",
              "      <td>3</td>\n",
              "      <td>836</td>\n",
              "      <td>TA</td>\n",
              "      <td>TA</td>\n",
              "      <td>Y</td>\n",
              "      <td>192</td>\n",
              "      <td>84</td>\n",
              "      <td>0</td>\n",
              "      <td>0</td>\n",
              "      <td>0</td>\n",
              "      <td>0</td>\n",
              "      <td>NaN</td>\n",
              "      <td>NaN</td>\n",
              "      <td>NaN</td>\n",
              "      <td>0</td>\n",
              "      <td>12</td>\n",
              "      <td>2008</td>\n",
              "      <td>WD</td>\n",
              "      <td>Normal</td>\n",
              "      <td>250000</td>\n",
              "    </tr>\n",
              "  </tbody>\n",
              "</table>\n",
              "</div>"
            ],
            "text/plain": [
              "   Id  MSSubClass MSZoning  LotFrontage  LotArea Street Alley LotShape  \\\n",
              "0   1          60       RL       65.000     8450   Pave   NaN      Reg   \n",
              "1   2          20       RL       80.000     9600   Pave   NaN      Reg   \n",
              "2   3          60       RL       68.000    11250   Pave   NaN      IR1   \n",
              "3   4          70       RL       60.000     9550   Pave   NaN      IR1   \n",
              "4   5          60       RL       84.000    14260   Pave   NaN      IR1   \n",
              "\n",
              "  LandContour Utilities LotConfig LandSlope Neighborhood Condition1  \\\n",
              "0         Lvl    AllPub    Inside       Gtl      CollgCr       Norm   \n",
              "1         Lvl    AllPub       FR2       Gtl      Veenker      Feedr   \n",
              "2         Lvl    AllPub    Inside       Gtl      CollgCr       Norm   \n",
              "3         Lvl    AllPub    Corner       Gtl      Crawfor       Norm   \n",
              "4         Lvl    AllPub       FR2       Gtl      NoRidge       Norm   \n",
              "\n",
              "  Condition2 BldgType HouseStyle  OverallQual  OverallCond  YearBuilt  \\\n",
              "0       Norm     1Fam     2Story            7            5       2003   \n",
              "1       Norm     1Fam     1Story            6            8       1976   \n",
              "2       Norm     1Fam     2Story            7            5       2001   \n",
              "3       Norm     1Fam     2Story            7            5       1915   \n",
              "4       Norm     1Fam     2Story            8            5       2000   \n",
              "\n",
              "   YearRemodAdd RoofStyle RoofMatl Exterior1st Exterior2nd MasVnrType  \\\n",
              "0          2003     Gable  CompShg     VinylSd     VinylSd    BrkFace   \n",
              "1          1976     Gable  CompShg     MetalSd     MetalSd       None   \n",
              "2          2002     Gable  CompShg     VinylSd     VinylSd    BrkFace   \n",
              "3          1970     Gable  CompShg     Wd Sdng     Wd Shng       None   \n",
              "4          2000     Gable  CompShg     VinylSd     VinylSd    BrkFace   \n",
              "\n",
              "   MasVnrArea ExterQual ExterCond Foundation BsmtQual BsmtCond BsmtExposure  \\\n",
              "0     196.000        Gd        TA      PConc       Gd       TA           No   \n",
              "1       0.000        TA        TA     CBlock       Gd       TA           Gd   \n",
              "2     162.000        Gd        TA      PConc       Gd       TA           Mn   \n",
              "3       0.000        TA        TA     BrkTil       TA       Gd           No   \n",
              "4     350.000        Gd        TA      PConc       Gd       TA           Av   \n",
              "\n",
              "  BsmtFinType1  BsmtFinSF1 BsmtFinType2  BsmtFinSF2  BsmtUnfSF  TotalBsmtSF  \\\n",
              "0          GLQ         706          Unf           0        150          856   \n",
              "1          ALQ         978          Unf           0        284         1262   \n",
              "2          GLQ         486          Unf           0        434          920   \n",
              "3          ALQ         216          Unf           0        540          756   \n",
              "4          GLQ         655          Unf           0        490         1145   \n",
              "\n",
              "  Heating HeatingQC CentralAir Electrical  1stFlrSF  2ndFlrSF  LowQualFinSF  \\\n",
              "0    GasA        Ex          Y      SBrkr       856       854             0   \n",
              "1    GasA        Ex          Y      SBrkr      1262         0             0   \n",
              "2    GasA        Ex          Y      SBrkr       920       866             0   \n",
              "3    GasA        Gd          Y      SBrkr       961       756             0   \n",
              "4    GasA        Ex          Y      SBrkr      1145      1053             0   \n",
              "\n",
              "   GrLivArea  BsmtFullBath  BsmtHalfBath  FullBath  HalfBath  BedroomAbvGr  \\\n",
              "0       1710             1             0         2         1             3   \n",
              "1       1262             0             1         2         0             3   \n",
              "2       1786             1             0         2         1             3   \n",
              "3       1717             1             0         1         0             3   \n",
              "4       2198             1             0         2         1             4   \n",
              "\n",
              "   KitchenAbvGr KitchenQual  TotRmsAbvGrd Functional  Fireplaces FireplaceQu  \\\n",
              "0             1          Gd             8        Typ           0         NaN   \n",
              "1             1          TA             6        Typ           1          TA   \n",
              "2             1          Gd             6        Typ           1          TA   \n",
              "3             1          Gd             7        Typ           1          Gd   \n",
              "4             1          Gd             9        Typ           1          TA   \n",
              "\n",
              "  GarageType  GarageYrBlt GarageFinish  GarageCars  GarageArea GarageQual  \\\n",
              "0     Attchd     2003.000          RFn           2         548         TA   \n",
              "1     Attchd     1976.000          RFn           2         460         TA   \n",
              "2     Attchd     2001.000          RFn           2         608         TA   \n",
              "3     Detchd     1998.000          Unf           3         642         TA   \n",
              "4     Attchd     2000.000          RFn           3         836         TA   \n",
              "\n",
              "  GarageCond PavedDrive  WoodDeckSF  OpenPorchSF  EnclosedPorch  3SsnPorch  \\\n",
              "0         TA          Y           0           61              0          0   \n",
              "1         TA          Y         298            0              0          0   \n",
              "2         TA          Y           0           42              0          0   \n",
              "3         TA          Y           0           35            272          0   \n",
              "4         TA          Y         192           84              0          0   \n",
              "\n",
              "   ScreenPorch  PoolArea PoolQC Fence MiscFeature  MiscVal  MoSold  YrSold  \\\n",
              "0            0         0    NaN   NaN         NaN        0       2    2008   \n",
              "1            0         0    NaN   NaN         NaN        0       5    2007   \n",
              "2            0         0    NaN   NaN         NaN        0       9    2008   \n",
              "3            0         0    NaN   NaN         NaN        0       2    2006   \n",
              "4            0         0    NaN   NaN         NaN        0      12    2008   \n",
              "\n",
              "  SaleType SaleCondition  SalePrice  \n",
              "0       WD        Normal     208500  \n",
              "1       WD        Normal     181500  \n",
              "2       WD        Normal     223500  \n",
              "3       WD       Abnorml     140000  \n",
              "4       WD        Normal     250000  "
            ]
          },
          "metadata": {},
          "execution_count": 4
        }
      ]
    },
    {
      "cell_type": "code",
      "metadata": {
        "colab": {
          "base_uri": "https://localhost:8080/"
        },
        "id": "fFVH_9LacTyk",
        "outputId": "7df1c72d-7e8d-461d-fbcd-43822aa640c8"
      },
      "source": [
        "df.info()"
      ],
      "execution_count": 5,
      "outputs": [
        {
          "output_type": "stream",
          "name": "stdout",
          "text": [
            "<class 'pandas.core.frame.DataFrame'>\n",
            "RangeIndex: 1460 entries, 0 to 1459\n",
            "Data columns (total 81 columns):\n",
            " #   Column         Non-Null Count  Dtype  \n",
            "---  ------         --------------  -----  \n",
            " 0   Id             1460 non-null   int64  \n",
            " 1   MSSubClass     1460 non-null   int64  \n",
            " 2   MSZoning       1460 non-null   object \n",
            " 3   LotFrontage    1222 non-null   float64\n",
            " 4   LotArea        1460 non-null   int64  \n",
            " 5   Street         1460 non-null   object \n",
            " 6   Alley          91 non-null     object \n",
            " 7   LotShape       1460 non-null   object \n",
            " 8   LandContour    1460 non-null   object \n",
            " 9   Utilities      1460 non-null   object \n",
            " 10  LotConfig      1460 non-null   object \n",
            " 11  LandSlope      1460 non-null   object \n",
            " 12  Neighborhood   1460 non-null   object \n",
            " 13  Condition1     1460 non-null   object \n",
            " 14  Condition2     1460 non-null   object \n",
            " 15  BldgType       1460 non-null   object \n",
            " 16  HouseStyle     1460 non-null   object \n",
            " 17  OverallQual    1460 non-null   int64  \n",
            " 18  OverallCond    1460 non-null   int64  \n",
            " 19  YearBuilt      1460 non-null   int64  \n",
            " 20  YearRemodAdd   1460 non-null   int64  \n",
            " 21  RoofStyle      1460 non-null   object \n",
            " 22  RoofMatl       1460 non-null   object \n",
            " 23  Exterior1st    1460 non-null   object \n",
            " 24  Exterior2nd    1460 non-null   object \n",
            " 25  MasVnrType     1452 non-null   object \n",
            " 26  MasVnrArea     1452 non-null   float64\n",
            " 27  ExterQual      1460 non-null   object \n",
            " 28  ExterCond      1460 non-null   object \n",
            " 29  Foundation     1460 non-null   object \n",
            " 30  BsmtQual       1423 non-null   object \n",
            " 31  BsmtCond       1423 non-null   object \n",
            " 32  BsmtExposure   1422 non-null   object \n",
            " 33  BsmtFinType1   1423 non-null   object \n",
            " 34  BsmtFinSF1     1460 non-null   int64  \n",
            " 35  BsmtFinType2   1422 non-null   object \n",
            " 36  BsmtFinSF2     1460 non-null   int64  \n",
            " 37  BsmtUnfSF      1460 non-null   int64  \n",
            " 38  TotalBsmtSF    1460 non-null   int64  \n",
            " 39  Heating        1460 non-null   object \n",
            " 40  HeatingQC      1460 non-null   object \n",
            " 41  CentralAir     1460 non-null   object \n",
            " 42  Electrical     1459 non-null   object \n",
            " 43  1stFlrSF       1460 non-null   int64  \n",
            " 44  2ndFlrSF       1460 non-null   int64  \n",
            " 45  LowQualFinSF   1460 non-null   int64  \n",
            " 46  GrLivArea      1460 non-null   int64  \n",
            " 47  BsmtFullBath   1460 non-null   int64  \n",
            " 48  BsmtHalfBath   1460 non-null   int64  \n",
            " 49  FullBath       1460 non-null   int64  \n",
            " 50  HalfBath       1460 non-null   int64  \n",
            " 51  BedroomAbvGr   1460 non-null   int64  \n",
            " 52  KitchenAbvGr   1460 non-null   int64  \n",
            " 53  KitchenQual    1460 non-null   object \n",
            " 54  TotRmsAbvGrd   1460 non-null   int64  \n",
            " 55  Functional     1460 non-null   object \n",
            " 56  Fireplaces     1460 non-null   int64  \n",
            " 57  FireplaceQu    770 non-null    object \n",
            " 58  GarageType     1379 non-null   object \n",
            " 59  GarageYrBlt    1379 non-null   float64\n",
            " 60  GarageFinish   1379 non-null   object \n",
            " 61  GarageCars     1460 non-null   int64  \n",
            " 62  GarageArea     1460 non-null   int64  \n",
            " 63  GarageQual     1379 non-null   object \n",
            " 64  GarageCond     1379 non-null   object \n",
            " 65  PavedDrive     1460 non-null   object \n",
            " 66  WoodDeckSF     1460 non-null   int64  \n",
            " 67  OpenPorchSF    1460 non-null   int64  \n",
            " 68  EnclosedPorch  1460 non-null   int64  \n",
            " 69  3SsnPorch      1460 non-null   int64  \n",
            " 70  ScreenPorch    1460 non-null   int64  \n",
            " 71  PoolArea       1460 non-null   int64  \n",
            " 72  PoolQC         7 non-null      object \n",
            " 73  Fence          281 non-null    object \n",
            " 74  MiscFeature    54 non-null     object \n",
            " 75  MiscVal        1460 non-null   int64  \n",
            " 76  MoSold         1460 non-null   int64  \n",
            " 77  YrSold         1460 non-null   int64  \n",
            " 78  SaleType       1460 non-null   object \n",
            " 79  SaleCondition  1460 non-null   object \n",
            " 80  SalePrice      1460 non-null   int64  \n",
            "dtypes: float64(3), int64(35), object(43)\n",
            "memory usage: 924.0+ KB\n"
          ]
        }
      ]
    },
    {
      "cell_type": "markdown",
      "metadata": {
        "id": "H_NohYxZcgrU"
      },
      "source": [
        "**Data Visualization**"
      ]
    },
    {
      "cell_type": "code",
      "metadata": {
        "colab": {
          "base_uri": "https://localhost:8080/",
          "height": 669
        },
        "id": "cQwHfEeC6Hvn",
        "outputId": "be6b9862-2d45-43c4-e83d-73ac92bfbc98"
      },
      "source": [
        "#Identifying the missing values by using Pivot Table\n",
        "total = df.isnull().sum().sort_values(ascending=False)\n",
        "percentage = (df.isnull().sum()/df.isnull().count()).sort_values(ascending=False)\n",
        "missing_data = pd.concat([total, percentage], axis=1, keys=['Total', 'Percentage'])\n",
        "missing_data.head(20)"
      ],
      "execution_count": 6,
      "outputs": [
        {
          "output_type": "execute_result",
          "data": {
            "text/html": [
              "<div>\n",
              "<style scoped>\n",
              "    .dataframe tbody tr th:only-of-type {\n",
              "        vertical-align: middle;\n",
              "    }\n",
              "\n",
              "    .dataframe tbody tr th {\n",
              "        vertical-align: top;\n",
              "    }\n",
              "\n",
              "    .dataframe thead th {\n",
              "        text-align: right;\n",
              "    }\n",
              "</style>\n",
              "<table border=\"1\" class=\"dataframe\">\n",
              "  <thead>\n",
              "    <tr style=\"text-align: right;\">\n",
              "      <th></th>\n",
              "      <th>Total</th>\n",
              "      <th>Percentage</th>\n",
              "    </tr>\n",
              "  </thead>\n",
              "  <tbody>\n",
              "    <tr>\n",
              "      <th>PoolQC</th>\n",
              "      <td>1453</td>\n",
              "      <td>0.995</td>\n",
              "    </tr>\n",
              "    <tr>\n",
              "      <th>MiscFeature</th>\n",
              "      <td>1406</td>\n",
              "      <td>0.963</td>\n",
              "    </tr>\n",
              "    <tr>\n",
              "      <th>Alley</th>\n",
              "      <td>1369</td>\n",
              "      <td>0.938</td>\n",
              "    </tr>\n",
              "    <tr>\n",
              "      <th>Fence</th>\n",
              "      <td>1179</td>\n",
              "      <td>0.808</td>\n",
              "    </tr>\n",
              "    <tr>\n",
              "      <th>FireplaceQu</th>\n",
              "      <td>690</td>\n",
              "      <td>0.473</td>\n",
              "    </tr>\n",
              "    <tr>\n",
              "      <th>LotFrontage</th>\n",
              "      <td>238</td>\n",
              "      <td>0.163</td>\n",
              "    </tr>\n",
              "    <tr>\n",
              "      <th>GarageCond</th>\n",
              "      <td>81</td>\n",
              "      <td>0.055</td>\n",
              "    </tr>\n",
              "    <tr>\n",
              "      <th>GarageType</th>\n",
              "      <td>81</td>\n",
              "      <td>0.055</td>\n",
              "    </tr>\n",
              "    <tr>\n",
              "      <th>GarageYrBlt</th>\n",
              "      <td>81</td>\n",
              "      <td>0.055</td>\n",
              "    </tr>\n",
              "    <tr>\n",
              "      <th>GarageFinish</th>\n",
              "      <td>81</td>\n",
              "      <td>0.055</td>\n",
              "    </tr>\n",
              "    <tr>\n",
              "      <th>GarageQual</th>\n",
              "      <td>81</td>\n",
              "      <td>0.055</td>\n",
              "    </tr>\n",
              "    <tr>\n",
              "      <th>BsmtExposure</th>\n",
              "      <td>38</td>\n",
              "      <td>0.026</td>\n",
              "    </tr>\n",
              "    <tr>\n",
              "      <th>BsmtFinType2</th>\n",
              "      <td>38</td>\n",
              "      <td>0.026</td>\n",
              "    </tr>\n",
              "    <tr>\n",
              "      <th>BsmtFinType1</th>\n",
              "      <td>37</td>\n",
              "      <td>0.025</td>\n",
              "    </tr>\n",
              "    <tr>\n",
              "      <th>BsmtCond</th>\n",
              "      <td>37</td>\n",
              "      <td>0.025</td>\n",
              "    </tr>\n",
              "    <tr>\n",
              "      <th>BsmtQual</th>\n",
              "      <td>37</td>\n",
              "      <td>0.025</td>\n",
              "    </tr>\n",
              "    <tr>\n",
              "      <th>MasVnrArea</th>\n",
              "      <td>8</td>\n",
              "      <td>0.005</td>\n",
              "    </tr>\n",
              "    <tr>\n",
              "      <th>MasVnrType</th>\n",
              "      <td>8</td>\n",
              "      <td>0.005</td>\n",
              "    </tr>\n",
              "    <tr>\n",
              "      <th>Electrical</th>\n",
              "      <td>1</td>\n",
              "      <td>0.001</td>\n",
              "    </tr>\n",
              "    <tr>\n",
              "      <th>Utilities</th>\n",
              "      <td>0</td>\n",
              "      <td>0.000</td>\n",
              "    </tr>\n",
              "  </tbody>\n",
              "</table>\n",
              "</div>"
            ],
            "text/plain": [
              "              Total  Percentage\n",
              "PoolQC         1453       0.995\n",
              "MiscFeature    1406       0.963\n",
              "Alley          1369       0.938\n",
              "Fence          1179       0.808\n",
              "FireplaceQu     690       0.473\n",
              "LotFrontage     238       0.163\n",
              "GarageCond       81       0.055\n",
              "GarageType       81       0.055\n",
              "GarageYrBlt      81       0.055\n",
              "GarageFinish     81       0.055\n",
              "GarageQual       81       0.055\n",
              "BsmtExposure     38       0.026\n",
              "BsmtFinType2     38       0.026\n",
              "BsmtFinType1     37       0.025\n",
              "BsmtCond         37       0.025\n",
              "BsmtQual         37       0.025\n",
              "MasVnrArea        8       0.005\n",
              "MasVnrType        8       0.005\n",
              "Electrical        1       0.001\n",
              "Utilities         0       0.000"
            ]
          },
          "metadata": {},
          "execution_count": 6
        }
      ]
    },
    {
      "cell_type": "code",
      "metadata": {
        "id": "hKr5WvpH6qjj"
      },
      "source": [
        "#Data Cleansing - Dropping of the Features/Variables with missing values\n",
        "df1 = df.drop(['PoolQC','MiscFeature','Alley','Fence','FireplaceQu','LotFrontage','GarageCond','GarageType','GarageYrBlt','GarageFinish','GarageQual','BsmtExposure','BsmtFinType2','BsmtFinType1','BsmtCond','BsmtQual','MasVnrArea','MasVnrType'], axis=1)\n",
        "df_t = df_t.drop(['PoolQC','MiscFeature','Alley','Fence','FireplaceQu','LotFrontage','GarageCond','GarageType','GarageYrBlt','GarageFinish','GarageQual','BsmtExposure','BsmtFinType2','BsmtFinType1','BsmtCond','BsmtQual','MasVnrArea','MasVnrType'], axis=1)"
      ],
      "execution_count": 7,
      "outputs": []
    },
    {
      "cell_type": "markdown",
      "metadata": {
        "id": "z5UdnEQGdBjD"
      },
      "source": [
        "**Data Correlation**"
      ]
    },
    {
      "cell_type": "code",
      "metadata": {
        "colab": {
          "base_uri": "https://localhost:8080/",
          "height": 754
        },
        "id": "5_7Im8G-76sW",
        "outputId": "73405a3c-e8de-45fc-cec7-33521c1528b8"
      },
      "source": [
        "# Understanding the Target feature 'SalePrice'\n",
        "corr_matrix = df1.corr()[['SalePrice']].sort_values(by = ['SalePrice'], ascending = False).drop(['SalePrice'])\n",
        "corr_matrix.style.background_gradient(cmap = 'coolwarm').set_precision(2)\n"
      ],
      "execution_count": 11,
      "outputs": [
        {
          "output_type": "execute_result",
          "data": {
            "text/html": [
              "<style  type=\"text/css\" >\n",
              "#T_64faff1e_12a0_11ec_886b_0242ac1c0002row0_col0{\n",
              "            background-color:  #b40426;\n",
              "            color:  #f1f1f1;\n",
              "        }#T_64faff1e_12a0_11ec_886b_0242ac1c0002row1_col0{\n",
              "            background-color:  #d24b40;\n",
              "            color:  #f1f1f1;\n",
              "        }#T_64faff1e_12a0_11ec_886b_0242ac1c0002row2_col0{\n",
              "            background-color:  #e67259;\n",
              "            color:  #000000;\n",
              "        }#T_64faff1e_12a0_11ec_886b_0242ac1c0002row3_col0{\n",
              "            background-color:  #ea7b60;\n",
              "            color:  #000000;\n",
              "        }#T_64faff1e_12a0_11ec_886b_0242ac1c0002row4_col0{\n",
              "            background-color:  #ec7f63;\n",
              "            color:  #000000;\n",
              "        }#T_64faff1e_12a0_11ec_886b_0242ac1c0002row5_col0{\n",
              "            background-color:  #ee8468;\n",
              "            color:  #000000;\n",
              "        }#T_64faff1e_12a0_11ec_886b_0242ac1c0002row6_col0{\n",
              "            background-color:  #f4987a;\n",
              "            color:  #000000;\n",
              "        }#T_64faff1e_12a0_11ec_886b_0242ac1c0002row7_col0{\n",
              "            background-color:  #f6a586;\n",
              "            color:  #000000;\n",
              "        }#T_64faff1e_12a0_11ec_886b_0242ac1c0002row8_col0{\n",
              "            background-color:  #f7a98b;\n",
              "            color:  #000000;\n",
              "        }#T_64faff1e_12a0_11ec_886b_0242ac1c0002row9_col0{\n",
              "            background-color:  #f7af91;\n",
              "            color:  #000000;\n",
              "        }#T_64faff1e_12a0_11ec_886b_0242ac1c0002row10_col0{\n",
              "            background-color:  #f6bda2;\n",
              "            color:  #000000;\n",
              "        }#T_64faff1e_12a0_11ec_886b_0242ac1c0002row11_col0{\n",
              "            background-color:  #ecd3c5;\n",
              "            color:  #000000;\n",
              "        }#T_64faff1e_12a0_11ec_886b_0242ac1c0002row12_col0{\n",
              "            background-color:  #dcdddd;\n",
              "            color:  #000000;\n",
              "        }#T_64faff1e_12a0_11ec_886b_0242ac1c0002row13_col0{\n",
              "            background-color:  #dadce0;\n",
              "            color:  #000000;\n",
              "        }#T_64faff1e_12a0_11ec_886b_0242ac1c0002row14_col0{\n",
              "            background-color:  #d9dce1;\n",
              "            color:  #000000;\n",
              "        }#T_64faff1e_12a0_11ec_886b_0242ac1c0002row15_col0{\n",
              "            background-color:  #d1dae9;\n",
              "            color:  #000000;\n",
              "        }#T_64faff1e_12a0_11ec_886b_0242ac1c0002row16_col0{\n",
              "            background-color:  #cad8ef;\n",
              "            color:  #000000;\n",
              "        }#T_64faff1e_12a0_11ec_886b_0242ac1c0002row17_col0{\n",
              "            background-color:  #bed2f6;\n",
              "            color:  #000000;\n",
              "        }#T_64faff1e_12a0_11ec_886b_0242ac1c0002row18_col0{\n",
              "            background-color:  #b9d0f9;\n",
              "            color:  #000000;\n",
              "        }#T_64faff1e_12a0_11ec_886b_0242ac1c0002row19_col0{\n",
              "            background-color:  #a7c5fe;\n",
              "            color:  #000000;\n",
              "        }#T_64faff1e_12a0_11ec_886b_0242ac1c0002row20_col0{\n",
              "            background-color:  #93b5fe;\n",
              "            color:  #000000;\n",
              "        }#T_64faff1e_12a0_11ec_886b_0242ac1c0002row21_col0{\n",
              "            background-color:  #8caffe;\n",
              "            color:  #000000;\n",
              "        }#T_64faff1e_12a0_11ec_886b_0242ac1c0002row22_col0{\n",
              "            background-color:  #7a9df8;\n",
              "            color:  #000000;\n",
              "        }#T_64faff1e_12a0_11ec_886b_0242ac1c0002row23_col0{\n",
              "            background-color:  #799cf8;\n",
              "            color:  #000000;\n",
              "        }#T_64faff1e_12a0_11ec_886b_0242ac1c0002row24_col0{\n",
              "            background-color:  #6485ec;\n",
              "            color:  #000000;\n",
              "        }#T_64faff1e_12a0_11ec_886b_0242ac1c0002row25_col0{\n",
              "            background-color:  #6282ea;\n",
              "            color:  #000000;\n",
              "        }#T_64faff1e_12a0_11ec_886b_0242ac1c0002row26_col0,#T_64faff1e_12a0_11ec_886b_0242ac1c0002row27_col0{\n",
              "            background-color:  #6180e9;\n",
              "            color:  #000000;\n",
              "        }#T_64faff1e_12a0_11ec_886b_0242ac1c0002row28_col0{\n",
              "            background-color:  #5f7fe8;\n",
              "            color:  #000000;\n",
              "        }#T_64faff1e_12a0_11ec_886b_0242ac1c0002row29_col0{\n",
              "            background-color:  #5e7de7;\n",
              "            color:  #000000;\n",
              "        }#T_64faff1e_12a0_11ec_886b_0242ac1c0002row30_col0{\n",
              "            background-color:  #4e68d8;\n",
              "            color:  #000000;\n",
              "        }#T_64faff1e_12a0_11ec_886b_0242ac1c0002row31_col0{\n",
              "            background-color:  #4b64d5;\n",
              "            color:  #f1f1f1;\n",
              "        }#T_64faff1e_12a0_11ec_886b_0242ac1c0002row32_col0{\n",
              "            background-color:  #3d50c3;\n",
              "            color:  #f1f1f1;\n",
              "        }#T_64faff1e_12a0_11ec_886b_0242ac1c0002row33_col0{\n",
              "            background-color:  #3b4cc0;\n",
              "            color:  #f1f1f1;\n",
              "        }</style><table id=\"T_64faff1e_12a0_11ec_886b_0242ac1c0002\" ><thead>    <tr>        <th class=\"blank level0\" ></th>        <th class=\"col_heading level0 col0\" >SalePrice</th>    </tr></thead><tbody>\n",
              "                <tr>\n",
              "                        <th id=\"T_64faff1e_12a0_11ec_886b_0242ac1c0002level0_row0\" class=\"row_heading level0 row0\" >OverallQual</th>\n",
              "                        <td id=\"T_64faff1e_12a0_11ec_886b_0242ac1c0002row0_col0\" class=\"data row0 col0\" >0.79</td>\n",
              "            </tr>\n",
              "            <tr>\n",
              "                        <th id=\"T_64faff1e_12a0_11ec_886b_0242ac1c0002level0_row1\" class=\"row_heading level0 row1\" >GrLivArea</th>\n",
              "                        <td id=\"T_64faff1e_12a0_11ec_886b_0242ac1c0002row1_col0\" class=\"data row1 col0\" >0.71</td>\n",
              "            </tr>\n",
              "            <tr>\n",
              "                        <th id=\"T_64faff1e_12a0_11ec_886b_0242ac1c0002level0_row2\" class=\"row_heading level0 row2\" >GarageCars</th>\n",
              "                        <td id=\"T_64faff1e_12a0_11ec_886b_0242ac1c0002row2_col0\" class=\"data row2 col0\" >0.64</td>\n",
              "            </tr>\n",
              "            <tr>\n",
              "                        <th id=\"T_64faff1e_12a0_11ec_886b_0242ac1c0002level0_row3\" class=\"row_heading level0 row3\" >GarageArea</th>\n",
              "                        <td id=\"T_64faff1e_12a0_11ec_886b_0242ac1c0002row3_col0\" class=\"data row3 col0\" >0.62</td>\n",
              "            </tr>\n",
              "            <tr>\n",
              "                        <th id=\"T_64faff1e_12a0_11ec_886b_0242ac1c0002level0_row4\" class=\"row_heading level0 row4\" >TotalBsmtSF</th>\n",
              "                        <td id=\"T_64faff1e_12a0_11ec_886b_0242ac1c0002row4_col0\" class=\"data row4 col0\" >0.61</td>\n",
              "            </tr>\n",
              "            <tr>\n",
              "                        <th id=\"T_64faff1e_12a0_11ec_886b_0242ac1c0002level0_row5\" class=\"row_heading level0 row5\" >1stFlrSF</th>\n",
              "                        <td id=\"T_64faff1e_12a0_11ec_886b_0242ac1c0002row5_col0\" class=\"data row5 col0\" >0.61</td>\n",
              "            </tr>\n",
              "            <tr>\n",
              "                        <th id=\"T_64faff1e_12a0_11ec_886b_0242ac1c0002level0_row6\" class=\"row_heading level0 row6\" >FullBath</th>\n",
              "                        <td id=\"T_64faff1e_12a0_11ec_886b_0242ac1c0002row6_col0\" class=\"data row6 col0\" >0.56</td>\n",
              "            </tr>\n",
              "            <tr>\n",
              "                        <th id=\"T_64faff1e_12a0_11ec_886b_0242ac1c0002level0_row7\" class=\"row_heading level0 row7\" >TotRmsAbvGrd</th>\n",
              "                        <td id=\"T_64faff1e_12a0_11ec_886b_0242ac1c0002row7_col0\" class=\"data row7 col0\" >0.53</td>\n",
              "            </tr>\n",
              "            <tr>\n",
              "                        <th id=\"T_64faff1e_12a0_11ec_886b_0242ac1c0002level0_row8\" class=\"row_heading level0 row8\" >YearBuilt</th>\n",
              "                        <td id=\"T_64faff1e_12a0_11ec_886b_0242ac1c0002row8_col0\" class=\"data row8 col0\" >0.52</td>\n",
              "            </tr>\n",
              "            <tr>\n",
              "                        <th id=\"T_64faff1e_12a0_11ec_886b_0242ac1c0002level0_row9\" class=\"row_heading level0 row9\" >YearRemodAdd</th>\n",
              "                        <td id=\"T_64faff1e_12a0_11ec_886b_0242ac1c0002row9_col0\" class=\"data row9 col0\" >0.51</td>\n",
              "            </tr>\n",
              "            <tr>\n",
              "                        <th id=\"T_64faff1e_12a0_11ec_886b_0242ac1c0002level0_row10\" class=\"row_heading level0 row10\" >Fireplaces</th>\n",
              "                        <td id=\"T_64faff1e_12a0_11ec_886b_0242ac1c0002row10_col0\" class=\"data row10 col0\" >0.47</td>\n",
              "            </tr>\n",
              "            <tr>\n",
              "                        <th id=\"T_64faff1e_12a0_11ec_886b_0242ac1c0002level0_row11\" class=\"row_heading level0 row11\" >BsmtFinSF1</th>\n",
              "                        <td id=\"T_64faff1e_12a0_11ec_886b_0242ac1c0002row11_col0\" class=\"data row11 col0\" >0.39</td>\n",
              "            </tr>\n",
              "            <tr>\n",
              "                        <th id=\"T_64faff1e_12a0_11ec_886b_0242ac1c0002level0_row12\" class=\"row_heading level0 row12\" >WoodDeckSF</th>\n",
              "                        <td id=\"T_64faff1e_12a0_11ec_886b_0242ac1c0002row12_col0\" class=\"data row12 col0\" >0.32</td>\n",
              "            </tr>\n",
              "            <tr>\n",
              "                        <th id=\"T_64faff1e_12a0_11ec_886b_0242ac1c0002level0_row13\" class=\"row_heading level0 row13\" >2ndFlrSF</th>\n",
              "                        <td id=\"T_64faff1e_12a0_11ec_886b_0242ac1c0002row13_col0\" class=\"data row13 col0\" >0.32</td>\n",
              "            </tr>\n",
              "            <tr>\n",
              "                        <th id=\"T_64faff1e_12a0_11ec_886b_0242ac1c0002level0_row14\" class=\"row_heading level0 row14\" >OpenPorchSF</th>\n",
              "                        <td id=\"T_64faff1e_12a0_11ec_886b_0242ac1c0002row14_col0\" class=\"data row14 col0\" >0.32</td>\n",
              "            </tr>\n",
              "            <tr>\n",
              "                        <th id=\"T_64faff1e_12a0_11ec_886b_0242ac1c0002level0_row15\" class=\"row_heading level0 row15\" >HalfBath</th>\n",
              "                        <td id=\"T_64faff1e_12a0_11ec_886b_0242ac1c0002row15_col0\" class=\"data row15 col0\" >0.28</td>\n",
              "            </tr>\n",
              "            <tr>\n",
              "                        <th id=\"T_64faff1e_12a0_11ec_886b_0242ac1c0002level0_row16\" class=\"row_heading level0 row16\" >LotArea</th>\n",
              "                        <td id=\"T_64faff1e_12a0_11ec_886b_0242ac1c0002row16_col0\" class=\"data row16 col0\" >0.26</td>\n",
              "            </tr>\n",
              "            <tr>\n",
              "                        <th id=\"T_64faff1e_12a0_11ec_886b_0242ac1c0002level0_row17\" class=\"row_heading level0 row17\" >BsmtFullBath</th>\n",
              "                        <td id=\"T_64faff1e_12a0_11ec_886b_0242ac1c0002row17_col0\" class=\"data row17 col0\" >0.23</td>\n",
              "            </tr>\n",
              "            <tr>\n",
              "                        <th id=\"T_64faff1e_12a0_11ec_886b_0242ac1c0002level0_row18\" class=\"row_heading level0 row18\" >BsmtUnfSF</th>\n",
              "                        <td id=\"T_64faff1e_12a0_11ec_886b_0242ac1c0002row18_col0\" class=\"data row18 col0\" >0.21</td>\n",
              "            </tr>\n",
              "            <tr>\n",
              "                        <th id=\"T_64faff1e_12a0_11ec_886b_0242ac1c0002level0_row19\" class=\"row_heading level0 row19\" >BedroomAbvGr</th>\n",
              "                        <td id=\"T_64faff1e_12a0_11ec_886b_0242ac1c0002row19_col0\" class=\"data row19 col0\" >0.17</td>\n",
              "            </tr>\n",
              "            <tr>\n",
              "                        <th id=\"T_64faff1e_12a0_11ec_886b_0242ac1c0002level0_row20\" class=\"row_heading level0 row20\" >ScreenPorch</th>\n",
              "                        <td id=\"T_64faff1e_12a0_11ec_886b_0242ac1c0002row20_col0\" class=\"data row20 col0\" >0.11</td>\n",
              "            </tr>\n",
              "            <tr>\n",
              "                        <th id=\"T_64faff1e_12a0_11ec_886b_0242ac1c0002level0_row21\" class=\"row_heading level0 row21\" >PoolArea</th>\n",
              "                        <td id=\"T_64faff1e_12a0_11ec_886b_0242ac1c0002row21_col0\" class=\"data row21 col0\" >0.09</td>\n",
              "            </tr>\n",
              "            <tr>\n",
              "                        <th id=\"T_64faff1e_12a0_11ec_886b_0242ac1c0002level0_row22\" class=\"row_heading level0 row22\" >MoSold</th>\n",
              "                        <td id=\"T_64faff1e_12a0_11ec_886b_0242ac1c0002row22_col0\" class=\"data row22 col0\" >0.05</td>\n",
              "            </tr>\n",
              "            <tr>\n",
              "                        <th id=\"T_64faff1e_12a0_11ec_886b_0242ac1c0002level0_row23\" class=\"row_heading level0 row23\" >3SsnPorch</th>\n",
              "                        <td id=\"T_64faff1e_12a0_11ec_886b_0242ac1c0002row23_col0\" class=\"data row23 col0\" >0.04</td>\n",
              "            </tr>\n",
              "            <tr>\n",
              "                        <th id=\"T_64faff1e_12a0_11ec_886b_0242ac1c0002level0_row24\" class=\"row_heading level0 row24\" >BsmtFinSF2</th>\n",
              "                        <td id=\"T_64faff1e_12a0_11ec_886b_0242ac1c0002row24_col0\" class=\"data row24 col0\" >-0.01</td>\n",
              "            </tr>\n",
              "            <tr>\n",
              "                        <th id=\"T_64faff1e_12a0_11ec_886b_0242ac1c0002level0_row25\" class=\"row_heading level0 row25\" >BsmtHalfBath</th>\n",
              "                        <td id=\"T_64faff1e_12a0_11ec_886b_0242ac1c0002row25_col0\" class=\"data row25 col0\" >-0.02</td>\n",
              "            </tr>\n",
              "            <tr>\n",
              "                        <th id=\"T_64faff1e_12a0_11ec_886b_0242ac1c0002level0_row26\" class=\"row_heading level0 row26\" >MiscVal</th>\n",
              "                        <td id=\"T_64faff1e_12a0_11ec_886b_0242ac1c0002row26_col0\" class=\"data row26 col0\" >-0.02</td>\n",
              "            </tr>\n",
              "            <tr>\n",
              "                        <th id=\"T_64faff1e_12a0_11ec_886b_0242ac1c0002level0_row27\" class=\"row_heading level0 row27\" >Id</th>\n",
              "                        <td id=\"T_64faff1e_12a0_11ec_886b_0242ac1c0002row27_col0\" class=\"data row27 col0\" >-0.02</td>\n",
              "            </tr>\n",
              "            <tr>\n",
              "                        <th id=\"T_64faff1e_12a0_11ec_886b_0242ac1c0002level0_row28\" class=\"row_heading level0 row28\" >LowQualFinSF</th>\n",
              "                        <td id=\"T_64faff1e_12a0_11ec_886b_0242ac1c0002row28_col0\" class=\"data row28 col0\" >-0.03</td>\n",
              "            </tr>\n",
              "            <tr>\n",
              "                        <th id=\"T_64faff1e_12a0_11ec_886b_0242ac1c0002level0_row29\" class=\"row_heading level0 row29\" >YrSold</th>\n",
              "                        <td id=\"T_64faff1e_12a0_11ec_886b_0242ac1c0002row29_col0\" class=\"data row29 col0\" >-0.03</td>\n",
              "            </tr>\n",
              "            <tr>\n",
              "                        <th id=\"T_64faff1e_12a0_11ec_886b_0242ac1c0002level0_row30\" class=\"row_heading level0 row30\" >OverallCond</th>\n",
              "                        <td id=\"T_64faff1e_12a0_11ec_886b_0242ac1c0002row30_col0\" class=\"data row30 col0\" >-0.08</td>\n",
              "            </tr>\n",
              "            <tr>\n",
              "                        <th id=\"T_64faff1e_12a0_11ec_886b_0242ac1c0002level0_row31\" class=\"row_heading level0 row31\" >MSSubClass</th>\n",
              "                        <td id=\"T_64faff1e_12a0_11ec_886b_0242ac1c0002row31_col0\" class=\"data row31 col0\" >-0.08</td>\n",
              "            </tr>\n",
              "            <tr>\n",
              "                        <th id=\"T_64faff1e_12a0_11ec_886b_0242ac1c0002level0_row32\" class=\"row_heading level0 row32\" >EnclosedPorch</th>\n",
              "                        <td id=\"T_64faff1e_12a0_11ec_886b_0242ac1c0002row32_col0\" class=\"data row32 col0\" >-0.13</td>\n",
              "            </tr>\n",
              "            <tr>\n",
              "                        <th id=\"T_64faff1e_12a0_11ec_886b_0242ac1c0002level0_row33\" class=\"row_heading level0 row33\" >KitchenAbvGr</th>\n",
              "                        <td id=\"T_64faff1e_12a0_11ec_886b_0242ac1c0002row33_col0\" class=\"data row33 col0\" >-0.14</td>\n",
              "            </tr>\n",
              "    </tbody></table>"
            ],
            "text/plain": [
              "<pandas.io.formats.style.Styler at 0x7fd39d126250>"
            ]
          },
          "metadata": {},
          "execution_count": 11
        }
      ]
    },
    {
      "cell_type": "code",
      "metadata": {
        "id": "mQJLIJl294uH"
      },
      "source": [
        "# Dropping off the Features/Variables with correlation less than 0.3 except 'Id'\n",
        "df2 = df1.drop(['HalfBath','LotArea','BsmtFullBath','BsmtUnfSF','BedroomAbvGr','ScreenPorch','PoolArea','MoSold','3SsnPorch','BsmtFinSF2','BsmtHalfBath','MiscVal','LowQualFinSF','YrSold','OverallCond','MSSubClass','EnclosedPorch','KitchenAbvGr'], axis=1)\n",
        "df_t = df_t.drop(['HalfBath','LotArea','BsmtFullBath','BsmtUnfSF','BedroomAbvGr','ScreenPorch','PoolArea','MoSold','3SsnPorch','BsmtFinSF2','BsmtHalfBath','MiscVal','LowQualFinSF','YrSold','OverallCond','MSSubClass','EnclosedPorch','KitchenAbvGr'], axis=1)"
      ],
      "execution_count": 8,
      "outputs": []
    },
    {
      "cell_type": "code",
      "metadata": {
        "id": "2XyCmxlPB2xQ"
      },
      "source": [
        "# Replacing variable with missing value with 'NONE'\n",
        "df2['Electrical'].fillna('None', inplace= True)"
      ],
      "execution_count": 9,
      "outputs": []
    },
    {
      "cell_type": "code",
      "metadata": {
        "colab": {
          "base_uri": "https://localhost:8080/"
        },
        "id": "6-DbRNcv9kM2",
        "outputId": "241fde6e-bc90-4f7f-86df-07a9358bd9a6"
      },
      "source": [
        "#Verify Number of Features participated in Correlation\n",
        "corr_matrix.shape"
      ],
      "execution_count": 12,
      "outputs": [
        {
          "output_type": "execute_result",
          "data": {
            "text/plain": [
              "(34, 1)"
            ]
          },
          "metadata": {},
          "execution_count": 12
        }
      ]
    },
    {
      "cell_type": "code",
      "metadata": {
        "colab": {
          "base_uri": "https://localhost:8080/"
        },
        "id": "BcJ5xGSO8QXH",
        "outputId": "9c8fa724-fdda-4512-92d6-874353445c21"
      },
      "source": [
        "#Verifying the total number of Features after Data Cleansing Activities\n",
        "df2.shape"
      ],
      "execution_count": 13,
      "outputs": [
        {
          "output_type": "execute_result",
          "data": {
            "text/plain": [
              "(1460, 45)"
            ]
          },
          "metadata": {},
          "execution_count": 13
        }
      ]
    },
    {
      "cell_type": "code",
      "metadata": {
        "id": "GOdgo8Cv8Ud6"
      },
      "source": [
        "#Understanding if any float values and limiting them to 3 decimals if applicable\n",
        "pd.set_option('display.float_format', lambda x: '{:.3f}'.format(x),'display.max_columns', None)"
      ],
      "execution_count": 14,
      "outputs": []
    },
    {
      "cell_type": "code",
      "metadata": {
        "colab": {
          "base_uri": "https://localhost:8080/"
        },
        "id": "GVlyG_NH-20G",
        "outputId": "bb4d32cb-7bc7-40a3-fd1a-04c9cbb23ca3"
      },
      "source": [
        "# Understanding the Data Types after Data Cleansing\n",
        "df2.dtypes"
      ],
      "execution_count": 15,
      "outputs": [
        {
          "output_type": "execute_result",
          "data": {
            "text/plain": [
              "Id                int64\n",
              "MSZoning         object\n",
              "Street           object\n",
              "LotShape         object\n",
              "LandContour      object\n",
              "Utilities        object\n",
              "LotConfig        object\n",
              "LandSlope        object\n",
              "Neighborhood     object\n",
              "Condition1       object\n",
              "Condition2       object\n",
              "BldgType         object\n",
              "HouseStyle       object\n",
              "OverallQual       int64\n",
              "YearBuilt         int64\n",
              "YearRemodAdd      int64\n",
              "RoofStyle        object\n",
              "RoofMatl         object\n",
              "Exterior1st      object\n",
              "Exterior2nd      object\n",
              "ExterQual        object\n",
              "ExterCond        object\n",
              "Foundation       object\n",
              "BsmtFinSF1        int64\n",
              "TotalBsmtSF       int64\n",
              "Heating          object\n",
              "HeatingQC        object\n",
              "CentralAir       object\n",
              "Electrical       object\n",
              "1stFlrSF          int64\n",
              "2ndFlrSF          int64\n",
              "GrLivArea         int64\n",
              "FullBath          int64\n",
              "KitchenQual      object\n",
              "TotRmsAbvGrd      int64\n",
              "Functional       object\n",
              "Fireplaces        int64\n",
              "GarageCars        int64\n",
              "GarageArea        int64\n",
              "PavedDrive       object\n",
              "WoodDeckSF        int64\n",
              "OpenPorchSF       int64\n",
              "SaleType         object\n",
              "SaleCondition    object\n",
              "SalePrice         int64\n",
              "dtype: object"
            ]
          },
          "metadata": {},
          "execution_count": 15
        }
      ]
    },
    {
      "cell_type": "markdown",
      "metadata": {
        "id": "HK9I1lXy_d-L"
      },
      "source": [
        "#Feature Engineering and pipeline building"
      ]
    },
    {
      "cell_type": "code",
      "metadata": {
        "colab": {
          "base_uri": "https://localhost:8080/"
        },
        "id": "OLJFNclO_cFq",
        "outputId": "da15e6ec-2879-4f5a-a234-f32b65938452"
      },
      "source": [
        "#Converting all Integer Data Types into a List to better use of them\n",
        "df2.select_dtypes(include=['int64']).columns.tolist()"
      ],
      "execution_count": 16,
      "outputs": [
        {
          "output_type": "execute_result",
          "data": {
            "text/plain": [
              "['Id',\n",
              " 'OverallQual',\n",
              " 'YearBuilt',\n",
              " 'YearRemodAdd',\n",
              " 'BsmtFinSF1',\n",
              " 'TotalBsmtSF',\n",
              " '1stFlrSF',\n",
              " '2ndFlrSF',\n",
              " 'GrLivArea',\n",
              " 'FullBath',\n",
              " 'TotRmsAbvGrd',\n",
              " 'Fireplaces',\n",
              " 'GarageCars',\n",
              " 'GarageArea',\n",
              " 'WoodDeckSF',\n",
              " 'OpenPorchSF',\n",
              " 'SalePrice']"
            ]
          },
          "metadata": {},
          "execution_count": 16
        }
      ]
    },
    {
      "cell_type": "markdown",
      "metadata": {
        "id": "FmeXz4t_f5N8"
      },
      "source": [
        "**Loading the required Libraries for Feature Engineering**"
      ]
    },
    {
      "cell_type": "code",
      "metadata": {
        "id": "MK2OHCx3-7DL"
      },
      "source": [
        "from sklearn.compose import ColumnTransformer\n",
        "from sklearn.pipeline import Pipeline\n",
        "from sklearn.preprocessing import PolynomialFeatures\n",
        "from sklearn.preprocessing import StandardScaler, OneHotEncoder\n",
        "from sklearn.linear_model import LinearRegression, Ridge, Lasso\n",
        "from sklearn.ensemble import RandomForestRegressor, GradientBoostingRegressor\n",
        "from sklearn.model_selection import train_test_split\n",
        "import numpy as np"
      ],
      "execution_count": 17,
      "outputs": []
    },
    {
      "cell_type": "markdown",
      "metadata": {
        "id": "kJinHfMSw0Wa"
      },
      "source": [
        "**Pipeline Building - Numerical Data**"
      ]
    },
    {
      "cell_type": "code",
      "metadata": {
        "id": "sHGUkF3T_o9V"
      },
      "source": [
        "numeric_features = ['OverallQual',\n",
        " 'YearBuilt',\n",
        " 'YearRemodAdd',\n",
        " 'BsmtFinSF1',\n",
        " 'TotalBsmtSF',\n",
        " '1stFlrSF',\n",
        " '2ndFlrSF',\n",
        " 'GrLivArea',\n",
        " 'FullBath',\n",
        " 'TotRmsAbvGrd',\n",
        " 'Fireplaces',\n",
        " 'GarageCars',\n",
        " 'GarageArea',\n",
        " 'WoodDeckSF',\n",
        " 'OpenPorchSF']\n",
        "                    \n",
        "numeric_transformer = Pipeline(steps=[('scaler', StandardScaler())])"
      ],
      "execution_count": 18,
      "outputs": []
    },
    {
      "cell_type": "markdown",
      "metadata": {
        "id": "2HAIpwZWw51y"
      },
      "source": [
        "**Pipeline Building - Categorical Data**"
      ]
    },
    {
      "cell_type": "code",
      "metadata": {
        "id": "D5qo2_bU_v13"
      },
      "source": [
        "#Performing OneHot Encoding for Categorical Features\n",
        "categorical_features = ['MSZoning',\n",
        " 'Street',\n",
        " 'LotShape',\n",
        " 'LandContour',\n",
        " 'Utilities',\n",
        " 'LotConfig',\n",
        " 'LandSlope',\n",
        " 'Neighborhood',\n",
        " 'Condition1',\n",
        " 'Condition2',\n",
        " 'BldgType',\n",
        " 'HouseStyle',\n",
        " 'RoofStyle',\n",
        " 'RoofMatl',\n",
        " 'Exterior1st',\n",
        " 'Exterior2nd',\n",
        " 'ExterQual',\n",
        " 'ExterCond',\n",
        " 'Foundation',\n",
        " 'Heating',\n",
        " 'HeatingQC',\n",
        " 'CentralAir',\n",
        " 'Electrical',\n",
        " 'KitchenQual',\n",
        " 'Functional',\n",
        " 'PavedDrive',\n",
        " 'SaleType',\n",
        " 'SaleCondition']\n",
        "categorical_transformer = Pipeline(steps=[\n",
        "    ('onehot', OneHotEncoder(handle_unknown='ignore'))])"
      ],
      "execution_count": 19,
      "outputs": []
    },
    {
      "cell_type": "code",
      "metadata": {
        "id": "1W9zNaox_5GR"
      },
      "source": [
        "#Performing Transformations\n",
        "preprocessor = ColumnTransformer(\n",
        "    transformers=[\n",
        "        ('num', numeric_transformer, numeric_features),\n",
        "        ('cat', categorical_transformer, categorical_features)])"
      ],
      "execution_count": 20,
      "outputs": []
    },
    {
      "cell_type": "markdown",
      "metadata": {
        "id": "SwU--rU7ogyP"
      },
      "source": [
        "**Model Implementation**"
      ]
    },
    {
      "cell_type": "code",
      "metadata": {
        "id": "GDrXzzzJ_6Na"
      },
      "source": [
        "#Declaring the Classifier 'Linear Regression'\n",
        "clf_lr = Pipeline(steps=[('preprocessor', preprocessor),\n",
        "                      ('classifier', LinearRegression())])\n",
        "\n",
        "#Declaring the Classifier 'Ridge Regression'\n",
        "clf_rd = Pipeline(steps=[('preprocessor', preprocessor),\n",
        "                      ('classifier', Ridge())])\n",
        "\n",
        "#Declaring the Classifier 'Lasso Regression'\n",
        "clf_ls = Pipeline(steps=[('preprocessor', preprocessor),\n",
        "                      ('classifier', Lasso())])\n",
        "\n",
        "#Declaring the Classifier 'Random Forest Regression'\n",
        "clf_rf = Pipeline(steps=[('preprocessor', preprocessor),\n",
        "                      ('classifier', RandomForestRegressor())])\n",
        "\n",
        "#Declaring the Classifier 'Gradient Boosting Regression'\n",
        "clf_gb = Pipeline(steps=[('preprocessor', preprocessor),\n",
        "                      ('classifier', GradientBoostingRegressor())])"
      ],
      "execution_count": 21,
      "outputs": []
    },
    {
      "cell_type": "markdown",
      "metadata": {
        "id": "mH012BfAg9Im"
      },
      "source": [
        "**Splitting the Cleansed Data into Training & Testing purpose**"
      ]
    },
    {
      "cell_type": "code",
      "metadata": {
        "colab": {
          "base_uri": "https://localhost:8080/"
        },
        "id": "ZBOp7JIt__FW",
        "outputId": "1e88cc32-848d-471f-9d7c-b85c168941ce"
      },
      "source": [
        "#Splitting the Dataset and verify the Training & Testing splitted data\n",
        "X = df2.drop('SalePrice', axis=1)\n",
        "y = df2[['SalePrice']]\n",
        "X_train, X_test, y_train, y_test = train_test_split(X, y, test_size=0.2, random_state=42)\n",
        "\n",
        "print(X_train.shape)\n",
        "print(X_test.shape)\n",
        "print(y_train.shape)\n",
        "print(y_test.shape)"
      ],
      "execution_count": 22,
      "outputs": [
        {
          "output_type": "stream",
          "name": "stdout",
          "text": [
            "(1168, 44)\n",
            "(292, 44)\n",
            "(1168, 1)\n",
            "(292, 1)\n"
          ]
        }
      ]
    },
    {
      "cell_type": "code",
      "metadata": {
        "colab": {
          "base_uri": "https://localhost:8080/"
        },
        "id": "WhJ6lKE_BfGB",
        "outputId": "7da8573a-9310-40da-b34c-e66fffb3b456"
      },
      "source": [
        "#Get the missing variables and their corresponding number of missing values\n",
        "missing_columns = len(df2) - df2.loc[:, np.sum(df2.isnull())>0].count()\n",
        "missing_columns"
      ],
      "execution_count": 23,
      "outputs": [
        {
          "output_type": "execute_result",
          "data": {
            "text/plain": [
              "Series([], dtype: int64)"
            ]
          },
          "metadata": {},
          "execution_count": 23
        }
      ]
    },
    {
      "cell_type": "markdown",
      "metadata": {
        "id": "hu3AfOK_hl48"
      },
      "source": [
        "**Creating the PipeLine**"
      ]
    },
    {
      "cell_type": "code",
      "metadata": {
        "colab": {
          "base_uri": "https://localhost:8080/"
        },
        "id": "7KYrSQ42BJVY",
        "outputId": "0e307da7-eec9-47ae-9f8f-b7b088b2b9d4"
      },
      "source": [
        "clf_lr.fit(X_train, y_train)"
      ],
      "execution_count": 24,
      "outputs": [
        {
          "output_type": "execute_result",
          "data": {
            "text/plain": [
              "Pipeline(memory=None,\n",
              "         steps=[('preprocessor',\n",
              "                 ColumnTransformer(n_jobs=None, remainder='drop',\n",
              "                                   sparse_threshold=0.3,\n",
              "                                   transformer_weights=None,\n",
              "                                   transformers=[('num',\n",
              "                                                  Pipeline(memory=None,\n",
              "                                                           steps=[('scaler',\n",
              "                                                                   StandardScaler(copy=True,\n",
              "                                                                                  with_mean=True,\n",
              "                                                                                  with_std=True))],\n",
              "                                                           verbose=False),\n",
              "                                                  ['OverallQual', 'YearBuilt',\n",
              "                                                   'YearRemodAdd', 'BsmtFinSF1',\n",
              "                                                   'TotalBsmtSF', '1stFlrSF',\n",
              "                                                   '2...\n",
              "                                                   'BldgType', 'HouseStyle',\n",
              "                                                   'RoofStyle', 'RoofMatl',\n",
              "                                                   'Exterior1st', 'Exterior2nd',\n",
              "                                                   'ExterQual', 'ExterCond',\n",
              "                                                   'Foundation', 'Heating',\n",
              "                                                   'HeatingQC', 'CentralAir',\n",
              "                                                   'Electrical', 'KitchenQual',\n",
              "                                                   'Functional', 'PavedDrive',\n",
              "                                                   'SaleType',\n",
              "                                                   'SaleCondition'])],\n",
              "                                   verbose=False)),\n",
              "                ('classifier',\n",
              "                 LinearRegression(copy_X=True, fit_intercept=True, n_jobs=None,\n",
              "                                  normalize=False))],\n",
              "         verbose=False)"
            ]
          },
          "metadata": {},
          "execution_count": 24
        }
      ]
    },
    {
      "cell_type": "code",
      "metadata": {
        "colab": {
          "base_uri": "https://localhost:8080/"
        },
        "id": "bnfVibqxqfs5",
        "outputId": "70618920-cb13-4ffc-83ae-8ee64801c1a8"
      },
      "source": [
        "clf_rd.fit(X_train, y_train)"
      ],
      "execution_count": 25,
      "outputs": [
        {
          "output_type": "execute_result",
          "data": {
            "text/plain": [
              "Pipeline(memory=None,\n",
              "         steps=[('preprocessor',\n",
              "                 ColumnTransformer(n_jobs=None, remainder='drop',\n",
              "                                   sparse_threshold=0.3,\n",
              "                                   transformer_weights=None,\n",
              "                                   transformers=[('num',\n",
              "                                                  Pipeline(memory=None,\n",
              "                                                           steps=[('scaler',\n",
              "                                                                   StandardScaler(copy=True,\n",
              "                                                                                  with_mean=True,\n",
              "                                                                                  with_std=True))],\n",
              "                                                           verbose=False),\n",
              "                                                  ['OverallQual', 'YearBuilt',\n",
              "                                                   'YearRemodAdd', 'BsmtFinSF1',\n",
              "                                                   'TotalBsmtSF', '1stFlrSF',\n",
              "                                                   '2...\n",
              "                                                   'RoofStyle', 'RoofMatl',\n",
              "                                                   'Exterior1st', 'Exterior2nd',\n",
              "                                                   'ExterQual', 'ExterCond',\n",
              "                                                   'Foundation', 'Heating',\n",
              "                                                   'HeatingQC', 'CentralAir',\n",
              "                                                   'Electrical', 'KitchenQual',\n",
              "                                                   'Functional', 'PavedDrive',\n",
              "                                                   'SaleType',\n",
              "                                                   'SaleCondition'])],\n",
              "                                   verbose=False)),\n",
              "                ('classifier',\n",
              "                 Ridge(alpha=1.0, copy_X=True, fit_intercept=True,\n",
              "                       max_iter=None, normalize=False, random_state=None,\n",
              "                       solver='auto', tol=0.001))],\n",
              "         verbose=False)"
            ]
          },
          "metadata": {},
          "execution_count": 25
        }
      ]
    },
    {
      "cell_type": "code",
      "metadata": {
        "colab": {
          "base_uri": "https://localhost:8080/"
        },
        "id": "pefCXe3Bqjz7",
        "outputId": "16223959-e63a-4384-adba-0f71b020afa5"
      },
      "source": [
        "clf_ls.fit(X_train, y_train)"
      ],
      "execution_count": 26,
      "outputs": [
        {
          "output_type": "execute_result",
          "data": {
            "text/plain": [
              "Pipeline(memory=None,\n",
              "         steps=[('preprocessor',\n",
              "                 ColumnTransformer(n_jobs=None, remainder='drop',\n",
              "                                   sparse_threshold=0.3,\n",
              "                                   transformer_weights=None,\n",
              "                                   transformers=[('num',\n",
              "                                                  Pipeline(memory=None,\n",
              "                                                           steps=[('scaler',\n",
              "                                                                   StandardScaler(copy=True,\n",
              "                                                                                  with_mean=True,\n",
              "                                                                                  with_std=True))],\n",
              "                                                           verbose=False),\n",
              "                                                  ['OverallQual', 'YearBuilt',\n",
              "                                                   'YearRemodAdd', 'BsmtFinSF1',\n",
              "                                                   'TotalBsmtSF', '1stFlrSF',\n",
              "                                                   '2...\n",
              "                                                   'Foundation', 'Heating',\n",
              "                                                   'HeatingQC', 'CentralAir',\n",
              "                                                   'Electrical', 'KitchenQual',\n",
              "                                                   'Functional', 'PavedDrive',\n",
              "                                                   'SaleType',\n",
              "                                                   'SaleCondition'])],\n",
              "                                   verbose=False)),\n",
              "                ('classifier',\n",
              "                 Lasso(alpha=1.0, copy_X=True, fit_intercept=True,\n",
              "                       max_iter=1000, normalize=False, positive=False,\n",
              "                       precompute=False, random_state=None, selection='cyclic',\n",
              "                       tol=0.0001, warm_start=False))],\n",
              "         verbose=False)"
            ]
          },
          "metadata": {},
          "execution_count": 26
        }
      ]
    },
    {
      "cell_type": "code",
      "metadata": {
        "colab": {
          "base_uri": "https://localhost:8080/"
        },
        "id": "WwaW4OgKqoId",
        "outputId": "e31835db-15b1-4eeb-d138-e8ffeafbf71c"
      },
      "source": [
        "clf_rf.fit(X_train, y_train)"
      ],
      "execution_count": 27,
      "outputs": [
        {
          "output_type": "execute_result",
          "data": {
            "text/plain": [
              "Pipeline(memory=None,\n",
              "         steps=[('preprocessor',\n",
              "                 ColumnTransformer(n_jobs=None, remainder='drop',\n",
              "                                   sparse_threshold=0.3,\n",
              "                                   transformer_weights=None,\n",
              "                                   transformers=[('num',\n",
              "                                                  Pipeline(memory=None,\n",
              "                                                           steps=[('scaler',\n",
              "                                                                   StandardScaler(copy=True,\n",
              "                                                                                  with_mean=True,\n",
              "                                                                                  with_std=True))],\n",
              "                                                           verbose=False),\n",
              "                                                  ['OverallQual', 'YearBuilt',\n",
              "                                                   'YearRemodAdd', 'BsmtFinSF1',\n",
              "                                                   'TotalBsmtSF', '1stFlrSF',\n",
              "                                                   '2...\n",
              "                 RandomForestRegressor(bootstrap=True, ccp_alpha=0.0,\n",
              "                                       criterion='mse', max_depth=None,\n",
              "                                       max_features='auto', max_leaf_nodes=None,\n",
              "                                       max_samples=None,\n",
              "                                       min_impurity_decrease=0.0,\n",
              "                                       min_impurity_split=None,\n",
              "                                       min_samples_leaf=1, min_samples_split=2,\n",
              "                                       min_weight_fraction_leaf=0.0,\n",
              "                                       n_estimators=100, n_jobs=None,\n",
              "                                       oob_score=False, random_state=None,\n",
              "                                       verbose=0, warm_start=False))],\n",
              "         verbose=False)"
            ]
          },
          "metadata": {},
          "execution_count": 27
        }
      ]
    },
    {
      "cell_type": "code",
      "metadata": {
        "colab": {
          "base_uri": "https://localhost:8080/"
        },
        "id": "mvSmqPi3qp9N",
        "outputId": "6da4c643-54c2-4493-834f-ceb7aa5f1718"
      },
      "source": [
        "clf_gb.fit(X_train, y_train)"
      ],
      "execution_count": 28,
      "outputs": [
        {
          "output_type": "execute_result",
          "data": {
            "text/plain": [
              "Pipeline(memory=None,\n",
              "         steps=[('preprocessor',\n",
              "                 ColumnTransformer(n_jobs=None, remainder='drop',\n",
              "                                   sparse_threshold=0.3,\n",
              "                                   transformer_weights=None,\n",
              "                                   transformers=[('num',\n",
              "                                                  Pipeline(memory=None,\n",
              "                                                           steps=[('scaler',\n",
              "                                                                   StandardScaler(copy=True,\n",
              "                                                                                  with_mean=True,\n",
              "                                                                                  with_std=True))],\n",
              "                                                           verbose=False),\n",
              "                                                  ['OverallQual', 'YearBuilt',\n",
              "                                                   'YearRemodAdd', 'BsmtFinSF1',\n",
              "                                                   'TotalBsmtSF', '1stFlrSF',\n",
              "                                                   '2...\n",
              "                                           learning_rate=0.1, loss='ls',\n",
              "                                           max_depth=3, max_features=None,\n",
              "                                           max_leaf_nodes=None,\n",
              "                                           min_impurity_decrease=0.0,\n",
              "                                           min_impurity_split=None,\n",
              "                                           min_samples_leaf=1,\n",
              "                                           min_samples_split=2,\n",
              "                                           min_weight_fraction_leaf=0.0,\n",
              "                                           n_estimators=100,\n",
              "                                           n_iter_no_change=None,\n",
              "                                           presort='deprecated',\n",
              "                                           random_state=None, subsample=1.0,\n",
              "                                           tol=0.0001, validation_fraction=0.1,\n",
              "                                           verbose=0, warm_start=False))],\n",
              "         verbose=False)"
            ]
          },
          "metadata": {},
          "execution_count": 28
        }
      ]
    },
    {
      "cell_type": "markdown",
      "metadata": {
        "id": "SGA5ryCah0X5"
      },
      "source": [
        "**Model Training against splitted Training Dataset**"
      ]
    },
    {
      "cell_type": "code",
      "metadata": {
        "id": "FHZNsU-LAzvt"
      },
      "source": [
        "#Training & Testing - Linear Regression\n",
        "y_train_pred = clf_lr.predict(X_train)\n",
        "y_test_pred = clf_lr.predict(X_test)\n",
        "\n",
        "#Training & Testing - Ridge Regression\n",
        "y_train_pred = clf_rd.predict(X_train)\n",
        "y_test_pred = clf_rd.predict(X_test)\n",
        "\n",
        "#Training & Testing - Lasso Regression\n",
        "y_train_pred = clf_ls.predict(X_train)\n",
        "y_test_pred = clf_ls.predict(X_test)\n",
        "\n",
        "#Training & Testing - Random Forest Regression\n",
        "y_train_pred = clf_rf.predict(X_train)\n",
        "y_test_pred = clf_rf.predict(X_test)\n",
        "\n",
        "#Training & Testing - Gradient Boosting Regression\n",
        "y_train_pred = clf_gb.predict(X_train)\n",
        "y_test_pred = clf_gb.predict(X_test)"
      ],
      "execution_count": 29,
      "outputs": []
    },
    {
      "cell_type": "markdown",
      "metadata": {
        "id": "8Wq-bIjqiMvc"
      },
      "source": [
        "**Calculating the Metrics**"
      ]
    },
    {
      "cell_type": "markdown",
      "metadata": {
        "id": "PLDtsNrL4bkB"
      },
      "source": [
        "Metrics - Linear Regression"
      ]
    },
    {
      "cell_type": "code",
      "metadata": {
        "colab": {
          "base_uri": "https://localhost:8080/"
        },
        "id": "nkD2HN97A9A6",
        "outputId": "74f474bc-ee3c-4de6-f9a7-1b202187abe1"
      },
      "source": [
        "#Splitted Training Dataset Metrics\n",
        "print(\"train_score of linearReg\",clf_lr.score(X_train, y_train))\n",
        "\n",
        "#Splitted Testing Dataset Metrics\n",
        "print(\"test_score of linearReg\",clf_lr.score(X_test, y_test))"
      ],
      "execution_count": 30,
      "outputs": [
        {
          "output_type": "stream",
          "name": "stdout",
          "text": [
            "train_score of linearReg 0.9151732030274681\n",
            "test_score of linearReg 0.8694631181264455\n"
          ]
        }
      ]
    },
    {
      "cell_type": "markdown",
      "metadata": {
        "id": "L0Lr437A4eL9"
      },
      "source": [
        "Metircs - Ridge Regression"
      ]
    },
    {
      "cell_type": "code",
      "metadata": {
        "colab": {
          "base_uri": "https://localhost:8080/"
        },
        "id": "2tZmtOCeCeY7",
        "outputId": "f2dcbff5-5925-49e7-e513-cd59c1ee89f9"
      },
      "source": [
        "#Splitted Training Dataset Metrics\n",
        "print(\"train_score of ridgeReg\",clf_rd.score(X_train, y_train))\n",
        "\n",
        "#Splitted Testing Dataset Metrics\n",
        "print(\"test_score of ridgeReg\",clf_rd.score(X_test, y_test))"
      ],
      "execution_count": 31,
      "outputs": [
        {
          "output_type": "stream",
          "name": "stdout",
          "text": [
            "train_score of lassoReg 0.9013367395262672\n",
            "test_score of lassoReg 0.8744508652127433\n"
          ]
        }
      ]
    },
    {
      "cell_type": "markdown",
      "metadata": {
        "id": "AqGavRZK4nyI"
      },
      "source": [
        "Metrics - Lasso Regression"
      ]
    },
    {
      "cell_type": "code",
      "metadata": {
        "colab": {
          "base_uri": "https://localhost:8080/"
        },
        "id": "wna_WCiC4qIz",
        "outputId": "ad5090d3-5f54-4a48-90a5-72708a60f5ec"
      },
      "source": [
        "#Splitted Training Dataset Metrics\n",
        "print(\"train_score of lassoReg\",clf_ls.score(X_train, y_train))\n",
        "\n",
        "#Splitted Testing Dataset Metrics\n",
        "print(\"test_score of lassoReg\",clf_ls.score(X_test, y_test))"
      ],
      "execution_count": 34,
      "outputs": [
        {
          "output_type": "stream",
          "name": "stdout",
          "text": [
            "train_score of lassoReg 0.915157637189327\n",
            "test_score of lassoReg 0.8746725651210998\n"
          ]
        }
      ]
    },
    {
      "cell_type": "markdown",
      "metadata": {
        "id": "EuGOKr5n4uIg"
      },
      "source": [
        "Metrics - Random Forest Regression"
      ]
    },
    {
      "cell_type": "code",
      "metadata": {
        "colab": {
          "base_uri": "https://localhost:8080/"
        },
        "id": "LVERdh1l4xyM",
        "outputId": "5b0290d6-90ed-418d-a10b-c1161fbdae64"
      },
      "source": [
        "#Splitted Training Dataset Metrics\n",
        "print(\"train_score of randomReg\",clf_rf.score(X_train, y_train))\n",
        "\n",
        "#Splitted Testing Dataset Metrics\n",
        "print(\"test_score of randomReg\",clf_rf.score(X_test, y_test))"
      ],
      "execution_count": 35,
      "outputs": [
        {
          "output_type": "stream",
          "name": "stdout",
          "text": [
            "train_score of randomReg 0.9771043596306017\n",
            "test_score of randomReg 0.8893355459215446\n"
          ]
        }
      ]
    },
    {
      "cell_type": "markdown",
      "metadata": {
        "id": "uBzL9hjs417C"
      },
      "source": [
        "Metrics - Gradient Boosting Regression"
      ]
    },
    {
      "cell_type": "code",
      "metadata": {
        "colab": {
          "base_uri": "https://localhost:8080/"
        },
        "id": "f8zuFF9547S1",
        "outputId": "dd39fd77-14d4-4830-b9e3-6db0acb3b369"
      },
      "source": [
        "#Splitted Training Dataset Metrics\n",
        "print(\"train_score of gbReg\",clf_gb.score(X_train, y_train))\n",
        "\n",
        "#Splitted Testing Dataset Metrics\n",
        "print(\"test_score of gbReg\",clf_gb.score(X_test, y_test))"
      ],
      "execution_count": 36,
      "outputs": [
        {
          "output_type": "stream",
          "name": "stdout",
          "text": [
            "train_score of gbReg 0.9619955312996029\n",
            "test_score of gbReg 0.8936330739662672\n"
          ]
        }
      ]
    },
    {
      "cell_type": "markdown",
      "metadata": {
        "id": "IhJ5s4WOjdaS"
      },
      "source": [
        "Root Mean Square Error (RMSE)"
      ]
    },
    {
      "cell_type": "code",
      "metadata": {
        "id": "7STWrxXaCuMc"
      },
      "source": [
        "from sklearn.model_selection import cross_val_score, train_test_split\n",
        "from sklearn.metrics import mean_squared_error, make_scorer, accuracy_score\n",
        "from math import sqrt"
      ],
      "execution_count": 37,
      "outputs": []
    },
    {
      "cell_type": "markdown",
      "metadata": {
        "id": "hAl9yItN5zEZ"
      },
      "source": [
        "RMSE - Linear Regression"
      ]
    },
    {
      "cell_type": "code",
      "metadata": {
        "colab": {
          "base_uri": "https://localhost:8080/"
        },
        "id": "xAlclp06CggU",
        "outputId": "8e1b380c-4bdf-472c-c3c6-de3aedb81f98"
      },
      "source": [
        "scorer = make_scorer(mean_squared_error, greater_is_better = False)\n",
        "rmse_train = np.sqrt(-cross_val_score(clf_lr, X_train, y_train, scoring = scorer, cv=10))\n",
        "rmse_test = np.sqrt(-cross_val_score(clf_lr, X_test, y_test, scoring = scorer, cv=10))\n",
        "print ('Mean RMSE for training set is',rmse_train.mean())\n",
        "print ('Mean RMSE for the test set is',rmse_test.mean())"
      ],
      "execution_count": 38,
      "outputs": [
        {
          "output_type": "stream",
          "name": "stdout",
          "text": [
            "Mean RMSE for training set is 33327.76569658233\n",
            "Mean RMSE for the test set is 45397.432229284044\n"
          ]
        }
      ]
    },
    {
      "cell_type": "markdown",
      "metadata": {
        "id": "fRguTWnv525d"
      },
      "source": [
        "RMSE - Ridge Regression"
      ]
    },
    {
      "cell_type": "code",
      "metadata": {
        "colab": {
          "base_uri": "https://localhost:8080/"
        },
        "id": "Vaymb6fy5630",
        "outputId": "9cf7881a-7651-4a8d-da97-78b9bd01c15e"
      },
      "source": [
        "scorer = make_scorer(mean_squared_error, greater_is_better = False)\n",
        "rmse_train = np.sqrt(-cross_val_score(clf_rd, X_train, y_train, scoring = scorer, cv=10))\n",
        "rmse_test = np.sqrt(-cross_val_score(clf_rd, X_test, y_test, scoring = scorer, cv=10))\n",
        "print ('Mean RMSE for training set is',rmse_train.mean())\n",
        "print ('Mean RMSE for the test set is',rmse_test.mean())"
      ],
      "execution_count": 39,
      "outputs": [
        {
          "output_type": "stream",
          "name": "stdout",
          "text": [
            "Mean RMSE for training set is 31723.158871663472\n",
            "Mean RMSE for the test set is 36244.16812972061\n"
          ]
        }
      ]
    },
    {
      "cell_type": "markdown",
      "metadata": {
        "id": "YV4rp2N35_kr"
      },
      "source": [
        "RMSE - Lasso Regression"
      ]
    },
    {
      "cell_type": "code",
      "metadata": {
        "colab": {
          "base_uri": "https://localhost:8080/"
        },
        "id": "AmE64Sx96D5-",
        "outputId": "e2268145-9fed-4856-b2f6-70a7b561a3e1"
      },
      "source": [
        "scorer = make_scorer(mean_squared_error, greater_is_better = False)\n",
        "rmse_train = np.sqrt(-cross_val_score(clf_ls, X_train, y_train, scoring = scorer, cv=10))\n",
        "rmse_test = np.sqrt(-cross_val_score(clf_ls, X_test, y_test, scoring = scorer, cv=10))\n",
        "print ('Mean RMSE for training set is',rmse_train.mean())\n",
        "print ('Mean RMSE for the test set is',rmse_test.mean())"
      ],
      "execution_count": 40,
      "outputs": [
        {
          "output_type": "stream",
          "name": "stdout",
          "text": [
            "Mean RMSE for training set is 32889.94506060355\n",
            "Mean RMSE for the test set is 43995.67823593191\n"
          ]
        }
      ]
    },
    {
      "cell_type": "markdown",
      "metadata": {
        "id": "jSlfZAJe6F-0"
      },
      "source": [
        "RMSE - Random Forest Regression"
      ]
    },
    {
      "cell_type": "code",
      "metadata": {
        "colab": {
          "base_uri": "https://localhost:8080/"
        },
        "id": "vPpKVmWR6OkO",
        "outputId": "c8727da6-c955-46ce-b649-06a0c83ed30b"
      },
      "source": [
        "scorer = make_scorer(mean_squared_error, greater_is_better = False)\n",
        "rmse_train = np.sqrt(-cross_val_score(clf_rf, X_train, y_train, scoring = scorer, cv=10))\n",
        "rmse_test = np.sqrt(-cross_val_score(clf_rf, X_test, y_test, scoring = scorer, cv=10))\n",
        "print ('Mean RMSE for training set is',rmse_train.mean())\n",
        "print ('Mean RMSE for the test set is',rmse_test.mean())"
      ],
      "execution_count": 41,
      "outputs": [
        {
          "output_type": "stream",
          "name": "stdout",
          "text": [
            "Mean RMSE for training set is 29901.530675936425\n",
            "Mean RMSE for the test set is 33107.85983860882\n"
          ]
        }
      ]
    },
    {
      "cell_type": "markdown",
      "metadata": {
        "id": "_mVdRWsL6RiP"
      },
      "source": [
        "RMSE - Gradient Boosting Regression"
      ]
    },
    {
      "cell_type": "code",
      "metadata": {
        "colab": {
          "base_uri": "https://localhost:8080/"
        },
        "id": "FKCHJukd6VSU",
        "outputId": "8ba667d2-5ebe-4fa0-dcf7-0283f2effe2f"
      },
      "source": [
        "scorer = make_scorer(mean_squared_error, greater_is_better = False)\n",
        "rmse_train = np.sqrt(-cross_val_score(clf_gb, X_train, y_train, scoring = scorer, cv=10))\n",
        "rmse_test = np.sqrt(-cross_val_score(clf_gb, X_test, y_test, scoring = scorer, cv=10))\n",
        "print ('Mean RMSE for training set is',rmse_train.mean())\n",
        "print ('Mean RMSE for the test set is',rmse_test.mean())"
      ],
      "execution_count": 42,
      "outputs": [
        {
          "output_type": "stream",
          "name": "stdout",
          "text": [
            "Mean RMSE for training set is 27778.30007336989\n",
            "Mean RMSE for the test set is 32147.53143664005\n"
          ]
        }
      ]
    },
    {
      "cell_type": "markdown",
      "metadata": {
        "id": "11sPJzyFjnB3"
      },
      "source": [
        "**Creating the Pickle File**"
      ]
    },
    {
      "cell_type": "markdown",
      "metadata": {
        "id": "jGZx6o1q6jc1"
      },
      "source": [
        "Pickle File - Linear Regression"
      ]
    },
    {
      "cell_type": "code",
      "metadata": {
        "colab": {
          "base_uri": "https://localhost:8080/"
        },
        "id": "8oulkoEsDL1G",
        "outputId": "7009d018-64b4-46f2-e104-6d91dcf01ebf"
      },
      "source": [
        "import pickle\n",
        "\n",
        "#Pickle implementation for Linear Regression\n",
        "pickle.dump(clf_lr, open('lr_model.pkl','wb'))\n",
        "# Loading model to compare the results\n",
        "model = pickle.load(open('lr_model.pkl','rb'))\n",
        "print(model)"
      ],
      "execution_count": 43,
      "outputs": [
        {
          "output_type": "stream",
          "name": "stdout",
          "text": [
            "Pipeline(memory=None,\n",
            "         steps=[('preprocessor',\n",
            "                 ColumnTransformer(n_jobs=None, remainder='drop',\n",
            "                                   sparse_threshold=0.3,\n",
            "                                   transformer_weights=None,\n",
            "                                   transformers=[('num',\n",
            "                                                  Pipeline(memory=None,\n",
            "                                                           steps=[('scaler',\n",
            "                                                                   StandardScaler(copy=True,\n",
            "                                                                                  with_mean=True,\n",
            "                                                                                  with_std=True))],\n",
            "                                                           verbose=False),\n",
            "                                                  ['OverallQual', 'YearBuilt',\n",
            "                                                   'YearRemodAdd', 'BsmtFinSF1',\n",
            "                                                   'TotalBsmtSF', '1stFlrSF',\n",
            "                                                   '2...\n",
            "                                                   'BldgType', 'HouseStyle',\n",
            "                                                   'RoofStyle', 'RoofMatl',\n",
            "                                                   'Exterior1st', 'Exterior2nd',\n",
            "                                                   'ExterQual', 'ExterCond',\n",
            "                                                   'Foundation', 'Heating',\n",
            "                                                   'HeatingQC', 'CentralAir',\n",
            "                                                   'Electrical', 'KitchenQual',\n",
            "                                                   'Functional', 'PavedDrive',\n",
            "                                                   'SaleType',\n",
            "                                                   'SaleCondition'])],\n",
            "                                   verbose=False)),\n",
            "                ('classifier',\n",
            "                 LinearRegression(copy_X=True, fit_intercept=True, n_jobs=None,\n",
            "                                  normalize=False))],\n",
            "         verbose=False)\n"
          ]
        }
      ]
    },
    {
      "cell_type": "markdown",
      "metadata": {
        "id": "G-ndTD0C6pfI"
      },
      "source": [
        "Pickle File - Ridge Regression"
      ]
    },
    {
      "cell_type": "code",
      "metadata": {
        "colab": {
          "base_uri": "https://localhost:8080/"
        },
        "id": "lOUsFcKQzmEY",
        "outputId": "06454992-ddbd-4f6c-efb3-cc62f05492af"
      },
      "source": [
        "#Pickle implementation for Ridge Regression\n",
        "pickle.dump(clf_rd, open('rd_model.pkl','wb'))\n",
        "# Loading model to compare the results\n",
        "model = pickle.load(open('rd_model.pkl','rb'))\n",
        "print(model)"
      ],
      "execution_count": 44,
      "outputs": [
        {
          "output_type": "stream",
          "name": "stdout",
          "text": [
            "Pipeline(memory=None,\n",
            "         steps=[('preprocessor',\n",
            "                 ColumnTransformer(n_jobs=None, remainder='drop',\n",
            "                                   sparse_threshold=0.3,\n",
            "                                   transformer_weights=None,\n",
            "                                   transformers=[('num',\n",
            "                                                  Pipeline(memory=None,\n",
            "                                                           steps=[('scaler',\n",
            "                                                                   StandardScaler(copy=True,\n",
            "                                                                                  with_mean=True,\n",
            "                                                                                  with_std=True))],\n",
            "                                                           verbose=False),\n",
            "                                                  ['OverallQual', 'YearBuilt',\n",
            "                                                   'YearRemodAdd', 'BsmtFinSF1',\n",
            "                                                   'TotalBsmtSF', '1stFlrSF',\n",
            "                                                   '2...\n",
            "                                                   'RoofStyle', 'RoofMatl',\n",
            "                                                   'Exterior1st', 'Exterior2nd',\n",
            "                                                   'ExterQual', 'ExterCond',\n",
            "                                                   'Foundation', 'Heating',\n",
            "                                                   'HeatingQC', 'CentralAir',\n",
            "                                                   'Electrical', 'KitchenQual',\n",
            "                                                   'Functional', 'PavedDrive',\n",
            "                                                   'SaleType',\n",
            "                                                   'SaleCondition'])],\n",
            "                                   verbose=False)),\n",
            "                ('classifier',\n",
            "                 Ridge(alpha=1.0, copy_X=True, fit_intercept=True,\n",
            "                       max_iter=None, normalize=False, random_state=None,\n",
            "                       solver='auto', tol=0.001))],\n",
            "         verbose=False)\n"
          ]
        }
      ]
    },
    {
      "cell_type": "markdown",
      "metadata": {
        "id": "Y_P0f7H26s7E"
      },
      "source": [
        "Pickle File - Lasso Regression"
      ]
    },
    {
      "cell_type": "code",
      "metadata": {
        "colab": {
          "base_uri": "https://localhost:8080/"
        },
        "id": "1ypGg3NoznDJ",
        "outputId": "57a123ce-8f28-4395-b6f0-bd5f6dde94b7"
      },
      "source": [
        "#Pickle implementation for Lasso Regression\n",
        "pickle.dump(clf_ls, open('ls_model.pkl','wb'))\n",
        "# Loading model to compare the results\n",
        "model = pickle.load(open('ls_model.pkl','rb'))\n",
        "print(model)"
      ],
      "execution_count": 45,
      "outputs": [
        {
          "output_type": "stream",
          "name": "stdout",
          "text": [
            "Pipeline(memory=None,\n",
            "         steps=[('preprocessor',\n",
            "                 ColumnTransformer(n_jobs=None, remainder='drop',\n",
            "                                   sparse_threshold=0.3,\n",
            "                                   transformer_weights=None,\n",
            "                                   transformers=[('num',\n",
            "                                                  Pipeline(memory=None,\n",
            "                                                           steps=[('scaler',\n",
            "                                                                   StandardScaler(copy=True,\n",
            "                                                                                  with_mean=True,\n",
            "                                                                                  with_std=True))],\n",
            "                                                           verbose=False),\n",
            "                                                  ['OverallQual', 'YearBuilt',\n",
            "                                                   'YearRemodAdd', 'BsmtFinSF1',\n",
            "                                                   'TotalBsmtSF', '1stFlrSF',\n",
            "                                                   '2...\n",
            "                                                   'Foundation', 'Heating',\n",
            "                                                   'HeatingQC', 'CentralAir',\n",
            "                                                   'Electrical', 'KitchenQual',\n",
            "                                                   'Functional', 'PavedDrive',\n",
            "                                                   'SaleType',\n",
            "                                                   'SaleCondition'])],\n",
            "                                   verbose=False)),\n",
            "                ('classifier',\n",
            "                 Lasso(alpha=1.0, copy_X=True, fit_intercept=True,\n",
            "                       max_iter=1000, normalize=False, positive=False,\n",
            "                       precompute=False, random_state=None, selection='cyclic',\n",
            "                       tol=0.0001, warm_start=False))],\n",
            "         verbose=False)\n"
          ]
        }
      ]
    },
    {
      "cell_type": "markdown",
      "metadata": {
        "id": "ET9XIR8i6xI_"
      },
      "source": [
        "\n",
        "Pickle File - Random Forest Regression"
      ]
    },
    {
      "cell_type": "code",
      "metadata": {
        "colab": {
          "base_uri": "https://localhost:8080/"
        },
        "id": "AKrsgUr4zost",
        "outputId": "6a27c177-66aa-4bbd-fb19-f5cef06c8f4f"
      },
      "source": [
        "#Pickle implementation for Random Forest Regression\n",
        "pickle.dump(clf_rf, open('rf_model.pkl','wb'))\n",
        "# Loading model to compare the results\n",
        "model = pickle.load(open('rf_model.pkl','rb'))\n",
        "print(model)"
      ],
      "execution_count": 46,
      "outputs": [
        {
          "output_type": "stream",
          "name": "stdout",
          "text": [
            "Pipeline(memory=None,\n",
            "         steps=[('preprocessor',\n",
            "                 ColumnTransformer(n_jobs=None, remainder='drop',\n",
            "                                   sparse_threshold=0.3,\n",
            "                                   transformer_weights=None,\n",
            "                                   transformers=[('num',\n",
            "                                                  Pipeline(memory=None,\n",
            "                                                           steps=[('scaler',\n",
            "                                                                   StandardScaler(copy=True,\n",
            "                                                                                  with_mean=True,\n",
            "                                                                                  with_std=True))],\n",
            "                                                           verbose=False),\n",
            "                                                  ['OverallQual', 'YearBuilt',\n",
            "                                                   'YearRemodAdd', 'BsmtFinSF1',\n",
            "                                                   'TotalBsmtSF', '1stFlrSF',\n",
            "                                                   '2...\n",
            "                 RandomForestRegressor(bootstrap=True, ccp_alpha=0.0,\n",
            "                                       criterion='mse', max_depth=None,\n",
            "                                       max_features='auto', max_leaf_nodes=None,\n",
            "                                       max_samples=None,\n",
            "                                       min_impurity_decrease=0.0,\n",
            "                                       min_impurity_split=None,\n",
            "                                       min_samples_leaf=1, min_samples_split=2,\n",
            "                                       min_weight_fraction_leaf=0.0,\n",
            "                                       n_estimators=100, n_jobs=None,\n",
            "                                       oob_score=False, random_state=None,\n",
            "                                       verbose=0, warm_start=False))],\n",
            "         verbose=False)\n"
          ]
        }
      ]
    },
    {
      "cell_type": "markdown",
      "metadata": {
        "id": "QJMjGuUF60tg"
      },
      "source": [
        "Pickle File - Gradient Boosting Regression"
      ]
    },
    {
      "cell_type": "code",
      "metadata": {
        "colab": {
          "base_uri": "https://localhost:8080/"
        },
        "id": "WSDOxXqMzpXs",
        "outputId": "aa999d84-fa31-48c7-a587-3f8d8c6bc531"
      },
      "source": [
        "#Pickle implementation for Gradient Boosting Regression\n",
        "pickle.dump(clf_gb, open('gb_model.pkl','wb'))\n",
        "# Loading model to compare the results\n",
        "model = pickle.load(open('gb_model.pkl','rb'))\n",
        "print(model)"
      ],
      "execution_count": 47,
      "outputs": [
        {
          "output_type": "stream",
          "name": "stdout",
          "text": [
            "Pipeline(memory=None,\n",
            "         steps=[('preprocessor',\n",
            "                 ColumnTransformer(n_jobs=None, remainder='drop',\n",
            "                                   sparse_threshold=0.3,\n",
            "                                   transformer_weights=None,\n",
            "                                   transformers=[('num',\n",
            "                                                  Pipeline(memory=None,\n",
            "                                                           steps=[('scaler',\n",
            "                                                                   StandardScaler(copy=True,\n",
            "                                                                                  with_mean=True,\n",
            "                                                                                  with_std=True))],\n",
            "                                                           verbose=False),\n",
            "                                                  ['OverallQual', 'YearBuilt',\n",
            "                                                   'YearRemodAdd', 'BsmtFinSF1',\n",
            "                                                   'TotalBsmtSF', '1stFlrSF',\n",
            "                                                   '2...\n",
            "                                           learning_rate=0.1, loss='ls',\n",
            "                                           max_depth=3, max_features=None,\n",
            "                                           max_leaf_nodes=None,\n",
            "                                           min_impurity_decrease=0.0,\n",
            "                                           min_impurity_split=None,\n",
            "                                           min_samples_leaf=1,\n",
            "                                           min_samples_split=2,\n",
            "                                           min_weight_fraction_leaf=0.0,\n",
            "                                           n_estimators=100,\n",
            "                                           n_iter_no_change=None,\n",
            "                                           presort='deprecated',\n",
            "                                           random_state=None, subsample=1.0,\n",
            "                                           tol=0.0001, validation_fraction=0.1,\n",
            "                                           verbose=0, warm_start=False))],\n",
            "         verbose=False)\n"
          ]
        }
      ]
    },
    {
      "cell_type": "markdown",
      "metadata": {
        "id": "8q3iNbxSk_Py"
      },
      "source": [
        "**Ingesting Test Data**"
      ]
    },
    {
      "cell_type": "code",
      "metadata": {
        "id": "x5FP9QPfH18U"
      },
      "source": [
        "df_test = pd.read_csv('test1.csv')"
      ],
      "execution_count": 48,
      "outputs": []
    },
    {
      "cell_type": "code",
      "metadata": {
        "id": "tLe17Q-EIE_b"
      },
      "source": [
        "#Data Cleansing by dropping of Features with missing values\n",
        "df_t = df_test.drop(['PoolQC','MiscFeature','Alley','Fence','FireplaceQu','LotFrontage','GarageCond','GarageType','GarageYrBlt','GarageFinish','GarageQual','BsmtExposure','BsmtFinType2','BsmtFinType1','BsmtCond','BsmtQual','MasVnrArea','MasVnrType',\n",
        "                     'HalfBath','LotArea','BsmtFullBath','BsmtUnfSF','BedroomAbvGr','ScreenPorch','PoolArea','MoSold','3SsnPorch','BsmtFinSF2','BsmtHalfBath','MiscVal','Id','LowQualFinSF','YrSold','OverallCond','MSSubClass','EnclosedPorch','KitchenAbvGr'], axis=1)"
      ],
      "execution_count": 49,
      "outputs": []
    },
    {
      "cell_type": "code",
      "metadata": {
        "colab": {
          "base_uri": "https://localhost:8080/"
        },
        "id": "KbEvQNlcIWvZ",
        "outputId": "0e677948-5cfe-4cce-c198-1107952ff4d8"
      },
      "source": [
        "#Get the missing variables and their corresponding number of missing values\n",
        "missing_columns_t = len(df_t) - df_t.loc[:, np.sum(df_t.isnull())>0].count()\n",
        "missing_columns_t"
      ],
      "execution_count": 50,
      "outputs": [
        {
          "output_type": "execute_result",
          "data": {
            "text/plain": [
              "MSZoning       4\n",
              "Utilities      2\n",
              "Exterior1st    1\n",
              "Exterior2nd    1\n",
              "BsmtFinSF1     1\n",
              "TotalBsmtSF    1\n",
              "KitchenQual    1\n",
              "Functional     2\n",
              "GarageCars     1\n",
              "GarageArea     1\n",
              "SaleType       1\n",
              "dtype: int64"
            ]
          },
          "metadata": {},
          "execution_count": 50
        }
      ]
    },
    {
      "cell_type": "code",
      "metadata": {
        "id": "D8xkMUzYIqw6"
      },
      "source": [
        "# Data Cleansing - Test Data Set - Filling with NONE\n",
        "to_impute_by_none = df_t.loc[:, ['MSZoning','Utilities','Exterior1st','Exterior2nd','BsmtFinSF1','TotalBsmtSF','KitchenQual','Functional','GarageCars','GarageArea']]\n",
        "for i in to_impute_by_none.columns:\n",
        "    df_t[i].fillna('None', inplace = True)"
      ],
      "execution_count": 51,
      "outputs": []
    },
    {
      "cell_type": "markdown",
      "metadata": {
        "id": "Xnl6prD0lyzh"
      },
      "source": [
        "**Predicting the Target/SalePrice against the Test Data Set**"
      ]
    },
    {
      "cell_type": "code",
      "metadata": {
        "id": "gDg6T5gODmps"
      },
      "source": [
        "def predict_with_optimized_models(mdl):\n",
        "    mdl.fit(X_train, y_train)\n",
        "    y_pred = np.expm1(mdl.predict(X_test))\n",
        "    submission = pd.DataFrame()\n",
        "    submission['Id']= X_test.Id\n",
        "    submission['SalePrice'] = y_test_pred\n",
        "    return submission"
      ],
      "execution_count": 52,
      "outputs": []
    },
    {
      "cell_type": "code",
      "metadata": {
        "colab": {
          "base_uri": "https://localhost:8080/"
        },
        "id": "EE6TMXZbFvM-",
        "outputId": "b8e9edfd-3e59-46d0-e2a1-21b95a15ad25"
      },
      "source": [
        "predict_with_optimized_models(clf_lr).to_csv('lin_reg.csv', index = False)\n",
        "predict_with_optimized_models(clf_rd).to_csv('ridge_reg.csv', index = False)\n",
        "predict_with_optimized_models(clf_ls).to_csv('lasso_reg.csv', index = False)\n",
        "predict_with_optimized_models(clf_rf).to_csv('ranfor_reg.csv', index = False)\n",
        "predict_with_optimized_models(clf_gb).to_csv('gradBoost_reg.csv', index = False)"
      ],
      "execution_count": 53,
      "outputs": [
        {
          "output_type": "stream",
          "name": "stderr",
          "text": [
            "/usr/local/lib/python3.7/dist-packages/ipykernel_launcher.py:3: RuntimeWarning: overflow encountered in expm1\n",
            "  This is separate from the ipykernel package so we can avoid doing imports until\n",
            "/usr/local/lib/python3.7/dist-packages/ipykernel_launcher.py:3: RuntimeWarning: overflow encountered in expm1\n",
            "  This is separate from the ipykernel package so we can avoid doing imports until\n",
            "/usr/local/lib/python3.7/dist-packages/ipykernel_launcher.py:3: RuntimeWarning: overflow encountered in expm1\n",
            "  This is separate from the ipykernel package so we can avoid doing imports until\n",
            "/usr/local/lib/python3.7/dist-packages/ipykernel_launcher.py:3: RuntimeWarning: overflow encountered in expm1\n",
            "  This is separate from the ipykernel package so we can avoid doing imports until\n",
            "/usr/local/lib/python3.7/dist-packages/ipykernel_launcher.py:3: RuntimeWarning: overflow encountered in expm1\n",
            "  This is separate from the ipykernel package so we can avoid doing imports until\n"
          ]
        }
      ]
    },
    {
      "cell_type": "markdown",
      "metadata": {
        "id": "by7Rx2TsA42_"
      },
      "source": [
        "# Developing model using spark "
      ]
    },
    {
      "cell_type": "markdown",
      "metadata": {
        "id": "nniVEwdzDu44"
      },
      "source": [
        "Install PySpark"
      ]
    },
    {
      "cell_type": "code",
      "metadata": {
        "id": "9oeHk4tMGRrD",
        "colab": {
          "base_uri": "https://localhost:8080/"
        },
        "outputId": "5f1901fc-90d9-4565-c041-ccf069ac7961"
      },
      "source": [
        "pip install pyspark"
      ],
      "execution_count": 54,
      "outputs": [
        {
          "output_type": "stream",
          "name": "stdout",
          "text": [
            "Collecting pyspark\n",
            "  Downloading pyspark-3.1.2.tar.gz (212.4 MB)\n",
            "\u001b[K     |████████████████████████████████| 212.4 MB 63 kB/s \n",
            "\u001b[?25hCollecting py4j==0.10.9\n",
            "  Downloading py4j-0.10.9-py2.py3-none-any.whl (198 kB)\n",
            "\u001b[K     |████████████████████████████████| 198 kB 64.9 MB/s \n",
            "\u001b[?25hBuilding wheels for collected packages: pyspark\n",
            "  Building wheel for pyspark (setup.py) ... \u001b[?25l\u001b[?25hdone\n",
            "  Created wheel for pyspark: filename=pyspark-3.1.2-py2.py3-none-any.whl size=212880768 sha256=4b582742a5883ac818ccbcd65c19aca63fac86d1deddf4ffd2f52b083e1d670a\n",
            "  Stored in directory: /root/.cache/pip/wheels/a5/0a/c1/9561f6fecb759579a7d863dcd846daaa95f598744e71b02c77\n",
            "Successfully built pyspark\n",
            "Installing collected packages: py4j, pyspark\n",
            "Successfully installed py4j-0.10.9 pyspark-3.1.2\n"
          ]
        }
      ]
    },
    {
      "cell_type": "markdown",
      "metadata": {
        "id": "km9j_0iuDqcF"
      },
      "source": [
        "Install Open JDK"
      ]
    },
    {
      "cell_type": "code",
      "metadata": {
        "id": "3FRj_pDxBKSu"
      },
      "source": [
        "!apt-get install openjdk-8-jdk-headless -qq > /dev/null\n",
        "\n",
        "# !wget -q https://archive.apache.org/dist/spark/spark-3.0.0/spark-3.0.0-bin-hadoop3.2.tgz\n",
        "!wget -q https://archive.apache.org/dist/spark/spark-3.1.2/spark-3.1.2-bin-hadoop3.2.tgz\n",
        "# unzip the spark file to the current folder\n",
        "# !tar xf spark-3.0.0-bin-hadoop3.2.tgz\n",
        "!tar xf spark-3.1.2-bin-hadoop3.2.tgz\n",
        "\n",
        "# set your spark folder to your system path environment. \n",
        "import os\n",
        "os.environ[\"JAVA_HOME\"] = \"/usr/lib/jvm/java-8-openjdk-amd64\"\n",
        "# os.environ[\"SPARK_HOME\"] = \"/content/spark-3.0.0-bin-hadoop3.2\"\n",
        "os.environ[\"SPARK_HOME\"] = \"/content/spark-3.1.2-bin-hadoop3.2\"\n",
        "\n",
        "# install findspark using pip\n",
        "!pip install -q findspark"
      ],
      "execution_count": 55,
      "outputs": []
    },
    {
      "cell_type": "markdown",
      "metadata": {
        "id": "swiQ7LZ-Di8y"
      },
      "source": [
        "Setting the PATH for Spark"
      ]
    },
    {
      "cell_type": "code",
      "metadata": {
        "id": "lkq1X_saBM6V"
      },
      "source": [
        "SPARK_HOME  = '/content/spark-3.1.2-bin-hadoop3.2'\n",
        "PATH = '%SPARK_HOME%/bin;%SPARK_HOME%/python;%PATH%'\n",
        "PYTHONPATH = '%SPARK_HOME%\\python;%SPARK_HOME%\\python\\lib\\py4j-0.10.9-src.zip:%PYTHONPATH%'"
      ],
      "execution_count": 56,
      "outputs": []
    },
    {
      "cell_type": "markdown",
      "metadata": {
        "id": "tfpEWiu0Dzar"
      },
      "source": [
        "**Loading all required Libraries**"
      ]
    },
    {
      "cell_type": "code",
      "metadata": {
        "id": "JpRoJlhWBRtb"
      },
      "source": [
        "from pyspark.context import SparkContext\n",
        "from pyspark.sql.session import SparkSession\n",
        "sc = SparkContext('local')\n",
        "spark = SparkSession(sc)\n"
      ],
      "execution_count": 57,
      "outputs": []
    },
    {
      "cell_type": "code",
      "metadata": {
        "id": "tnBRFnJOWf4O"
      },
      "source": [
        "from pyspark.sql.types import *\n",
        "import pyspark.sql.functions as F\n",
        "from pyspark.sql.functions import udf, col\n",
        "\n",
        "from pyspark.ml.regression import LinearRegression\n",
        "from pyspark.mllib.evaluation import RegressionMetrics\n",
        "\n",
        "from pyspark.ml.tuning import ParamGridBuilder, CrossValidator, CrossValidatorModel\n",
        "from pyspark.ml.evaluation import RegressionEvaluator\n",
        "from pyspark.ml.feature import VectorAssembler,StringIndexer\n",
        "import pyspark\n",
        "from pyspark.ml.feature import OneHotEncoder\n",
        "from pyspark.ml import Pipeline\n",
        "import pyspark.sql.functions as func"
      ],
      "execution_count": 94,
      "outputs": []
    },
    {
      "cell_type": "markdown",
      "metadata": {
        "id": "PRuEPOcyD8FF"
      },
      "source": [
        "**Data Visualization**"
      ]
    },
    {
      "cell_type": "code",
      "metadata": {
        "id": "9THCYi9BBSZ4"
      },
      "source": [
        "# Pandas to Spark\n",
        "train_df = spark.createDataFrame(df2)\n"
      ],
      "execution_count": 59,
      "outputs": []
    },
    {
      "cell_type": "code",
      "metadata": {
        "colab": {
          "base_uri": "https://localhost:8080/"
        },
        "id": "W5VTuQtIBdRL",
        "outputId": "0d234ce9-2c17-4f08-bf1e-b4081d27c4ae"
      },
      "source": [
        "train_df.show()"
      ],
      "execution_count": 63,
      "outputs": [
        {
          "output_type": "stream",
          "name": "stdout",
          "text": [
            "+---+--------+------+--------+-----------+---------+---------+---------+------------+----------+----------+--------+----------+-----------+---------+------------+---------+--------+-----------+-----------+---------+---------+----------+----------+-----------+-------+---------+----------+----------+--------+--------+---------+--------+-----------+------------+----------+----------+----------+----------+----------+----------+-----------+--------+-------------+---------+\n",
            "| Id|MSZoning|Street|LotShape|LandContour|Utilities|LotConfig|LandSlope|Neighborhood|Condition1|Condition2|BldgType|HouseStyle|OverallQual|YearBuilt|YearRemodAdd|RoofStyle|RoofMatl|Exterior1st|Exterior2nd|ExterQual|ExterCond|Foundation|BsmtFinSF1|TotalBsmtSF|Heating|HeatingQC|CentralAir|Electrical|1stFlrSF|2ndFlrSF|GrLivArea|FullBath|KitchenQual|TotRmsAbvGrd|Functional|Fireplaces|GarageCars|GarageArea|PavedDrive|WoodDeckSF|OpenPorchSF|SaleType|SaleCondition|SalePrice|\n",
            "+---+--------+------+--------+-----------+---------+---------+---------+------------+----------+----------+--------+----------+-----------+---------+------------+---------+--------+-----------+-----------+---------+---------+----------+----------+-----------+-------+---------+----------+----------+--------+--------+---------+--------+-----------+------------+----------+----------+----------+----------+----------+----------+-----------+--------+-------------+---------+\n",
            "|  1|      RL|  Pave|     Reg|        Lvl|   AllPub|   Inside|      Gtl|     CollgCr|      Norm|      Norm|    1Fam|    2Story|          7|     2003|        2003|    Gable| CompShg|    VinylSd|    VinylSd|       Gd|       TA|     PConc|       706|        856|   GasA|       Ex|         Y|     SBrkr|     856|     854|     1710|       2|         Gd|           8|       Typ|         0|         2|       548|         Y|         0|         61|      WD|       Normal|   208500|\n",
            "|  2|      RL|  Pave|     Reg|        Lvl|   AllPub|      FR2|      Gtl|     Veenker|     Feedr|      Norm|    1Fam|    1Story|          6|     1976|        1976|    Gable| CompShg|    MetalSd|    MetalSd|       TA|       TA|    CBlock|       978|       1262|   GasA|       Ex|         Y|     SBrkr|    1262|       0|     1262|       2|         TA|           6|       Typ|         1|         2|       460|         Y|       298|          0|      WD|       Normal|   181500|\n",
            "|  3|      RL|  Pave|     IR1|        Lvl|   AllPub|   Inside|      Gtl|     CollgCr|      Norm|      Norm|    1Fam|    2Story|          7|     2001|        2002|    Gable| CompShg|    VinylSd|    VinylSd|       Gd|       TA|     PConc|       486|        920|   GasA|       Ex|         Y|     SBrkr|     920|     866|     1786|       2|         Gd|           6|       Typ|         1|         2|       608|         Y|         0|         42|      WD|       Normal|   223500|\n",
            "|  4|      RL|  Pave|     IR1|        Lvl|   AllPub|   Corner|      Gtl|     Crawfor|      Norm|      Norm|    1Fam|    2Story|          7|     1915|        1970|    Gable| CompShg|    Wd Sdng|    Wd Shng|       TA|       TA|    BrkTil|       216|        756|   GasA|       Gd|         Y|     SBrkr|     961|     756|     1717|       1|         Gd|           7|       Typ|         1|         3|       642|         Y|         0|         35|      WD|      Abnorml|   140000|\n",
            "|  5|      RL|  Pave|     IR1|        Lvl|   AllPub|      FR2|      Gtl|     NoRidge|      Norm|      Norm|    1Fam|    2Story|          8|     2000|        2000|    Gable| CompShg|    VinylSd|    VinylSd|       Gd|       TA|     PConc|       655|       1145|   GasA|       Ex|         Y|     SBrkr|    1145|    1053|     2198|       2|         Gd|           9|       Typ|         1|         3|       836|         Y|       192|         84|      WD|       Normal|   250000|\n",
            "|  6|      RL|  Pave|     IR1|        Lvl|   AllPub|   Inside|      Gtl|     Mitchel|      Norm|      Norm|    1Fam|    1.5Fin|          5|     1993|        1995|    Gable| CompShg|    VinylSd|    VinylSd|       TA|       TA|      Wood|       732|        796|   GasA|       Ex|         Y|     SBrkr|     796|     566|     1362|       1|         TA|           5|       Typ|         0|         2|       480|         Y|        40|         30|      WD|       Normal|   143000|\n",
            "|  7|      RL|  Pave|     Reg|        Lvl|   AllPub|   Inside|      Gtl|     Somerst|      Norm|      Norm|    1Fam|    1Story|          8|     2004|        2005|    Gable| CompShg|    VinylSd|    VinylSd|       Gd|       TA|     PConc|      1369|       1686|   GasA|       Ex|         Y|     SBrkr|    1694|       0|     1694|       2|         Gd|           7|       Typ|         1|         2|       636|         Y|       255|         57|      WD|       Normal|   307000|\n",
            "|  8|      RL|  Pave|     IR1|        Lvl|   AllPub|   Corner|      Gtl|      NWAmes|      PosN|      Norm|    1Fam|    2Story|          7|     1973|        1973|    Gable| CompShg|    HdBoard|    HdBoard|       TA|       TA|    CBlock|       859|       1107|   GasA|       Ex|         Y|     SBrkr|    1107|     983|     2090|       2|         TA|           7|       Typ|         2|         2|       484|         Y|       235|        204|      WD|       Normal|   200000|\n",
            "|  9|      RM|  Pave|     Reg|        Lvl|   AllPub|   Inside|      Gtl|     OldTown|    Artery|      Norm|    1Fam|    1.5Fin|          7|     1931|        1950|    Gable| CompShg|    BrkFace|    Wd Shng|       TA|       TA|    BrkTil|         0|        952|   GasA|       Gd|         Y|     FuseF|    1022|     752|     1774|       2|         TA|           8|      Min1|         2|         2|       468|         Y|        90|          0|      WD|      Abnorml|   129900|\n",
            "| 10|      RL|  Pave|     Reg|        Lvl|   AllPub|   Corner|      Gtl|     BrkSide|    Artery|    Artery|  2fmCon|    1.5Unf|          5|     1939|        1950|    Gable| CompShg|    MetalSd|    MetalSd|       TA|       TA|    BrkTil|       851|        991|   GasA|       Ex|         Y|     SBrkr|    1077|       0|     1077|       1|         TA|           5|       Typ|         2|         1|       205|         Y|         0|          4|      WD|       Normal|   118000|\n",
            "| 11|      RL|  Pave|     Reg|        Lvl|   AllPub|   Inside|      Gtl|      Sawyer|      Norm|      Norm|    1Fam|    1Story|          5|     1965|        1965|      Hip| CompShg|    HdBoard|    HdBoard|       TA|       TA|    CBlock|       906|       1040|   GasA|       Ex|         Y|     SBrkr|    1040|       0|     1040|       1|         TA|           5|       Typ|         0|         1|       384|         Y|         0|          0|      WD|       Normal|   129500|\n",
            "| 12|      RL|  Pave|     IR1|        Lvl|   AllPub|   Inside|      Gtl|     NridgHt|      Norm|      Norm|    1Fam|    2Story|          9|     2005|        2006|      Hip| CompShg|    WdShing|    Wd Shng|       Ex|       TA|     PConc|       998|       1175|   GasA|       Ex|         Y|     SBrkr|    1182|    1142|     2324|       3|         Ex|          11|       Typ|         2|         3|       736|         Y|       147|         21|     New|      Partial|   345000|\n",
            "| 13|      RL|  Pave|     IR2|        Lvl|   AllPub|   Inside|      Gtl|      Sawyer|      Norm|      Norm|    1Fam|    1Story|          5|     1962|        1962|      Hip| CompShg|    HdBoard|    Plywood|       TA|       TA|    CBlock|       737|        912|   GasA|       TA|         Y|     SBrkr|     912|       0|      912|       1|         TA|           4|       Typ|         0|         1|       352|         Y|       140|          0|      WD|       Normal|   144000|\n",
            "| 14|      RL|  Pave|     IR1|        Lvl|   AllPub|   Inside|      Gtl|     CollgCr|      Norm|      Norm|    1Fam|    1Story|          7|     2006|        2007|    Gable| CompShg|    VinylSd|    VinylSd|       Gd|       TA|     PConc|         0|       1494|   GasA|       Ex|         Y|     SBrkr|    1494|       0|     1494|       2|         Gd|           7|       Typ|         1|         3|       840|         Y|       160|         33|     New|      Partial|   279500|\n",
            "| 15|      RL|  Pave|     IR1|        Lvl|   AllPub|   Corner|      Gtl|       NAmes|      Norm|      Norm|    1Fam|    1Story|          6|     1960|        1960|      Hip| CompShg|    MetalSd|    MetalSd|       TA|       TA|    CBlock|       733|       1253|   GasA|       TA|         Y|     SBrkr|    1253|       0|     1253|       1|         TA|           5|       Typ|         1|         1|       352|         Y|         0|        213|      WD|       Normal|   157000|\n",
            "| 16|      RM|  Pave|     Reg|        Lvl|   AllPub|   Corner|      Gtl|     BrkSide|      Norm|      Norm|    1Fam|    1.5Unf|          7|     1929|        2001|    Gable| CompShg|    Wd Sdng|    Wd Sdng|       TA|       TA|    BrkTil|         0|        832|   GasA|       Ex|         Y|     FuseA|     854|       0|      854|       1|         TA|           5|       Typ|         0|         2|       576|         Y|        48|        112|      WD|       Normal|   132000|\n",
            "| 17|      RL|  Pave|     IR1|        Lvl|   AllPub|  CulDSac|      Gtl|       NAmes|      Norm|      Norm|    1Fam|    1Story|          6|     1970|        1970|    Gable| CompShg|    Wd Sdng|    Wd Sdng|       TA|       TA|    CBlock|       578|       1004|   GasA|       Ex|         Y|     SBrkr|    1004|       0|     1004|       1|         TA|           5|       Typ|         1|         2|       480|         Y|         0|          0|      WD|       Normal|   149000|\n",
            "| 18|      RL|  Pave|     Reg|        Lvl|   AllPub|   Inside|      Gtl|      Sawyer|      Norm|      Norm|  Duplex|    1Story|          4|     1967|        1967|    Gable| CompShg|    MetalSd|    MetalSd|       TA|       TA|      Slab|         0|          0|   GasA|       TA|         Y|     SBrkr|    1296|       0|     1296|       2|         TA|           6|       Typ|         0|         2|       516|         Y|         0|          0|      WD|       Normal|    90000|\n",
            "| 19|      RL|  Pave|     Reg|        Lvl|   AllPub|   Inside|      Gtl|     SawyerW|      RRAe|      Norm|    1Fam|    1Story|          5|     2004|        2004|    Gable| CompShg|    VinylSd|    VinylSd|       TA|       TA|     PConc|       646|       1114|   GasA|       Ex|         Y|     SBrkr|    1114|       0|     1114|       1|         Gd|           6|       Typ|         0|         2|       576|         Y|         0|        102|      WD|       Normal|   159000|\n",
            "| 20|      RL|  Pave|     Reg|        Lvl|   AllPub|   Inside|      Gtl|       NAmes|      Norm|      Norm|    1Fam|    1Story|          5|     1958|        1965|      Hip| CompShg|    BrkFace|    Plywood|       TA|       TA|    CBlock|       504|       1029|   GasA|       TA|         Y|     SBrkr|    1339|       0|     1339|       1|         TA|           6|      Min1|         0|         1|       294|         Y|         0|          0|     COD|      Abnorml|   139000|\n",
            "+---+--------+------+--------+-----------+---------+---------+---------+------------+----------+----------+--------+----------+-----------+---------+------------+---------+--------+-----------+-----------+---------+---------+----------+----------+-----------+-------+---------+----------+----------+--------+--------+---------+--------+-----------+------------+----------+----------+----------+----------+----------+----------+-----------+--------+-------------+---------+\n",
            "only showing top 20 rows\n",
            "\n"
          ]
        }
      ]
    },
    {
      "cell_type": "code",
      "metadata": {
        "colab": {
          "base_uri": "https://localhost:8080/"
        },
        "id": "WZZIl519BhzF",
        "outputId": "9d7b319a-63d7-4ef4-ea33-0224bfb3cf73"
      },
      "source": [
        "train_df.dtypes"
      ],
      "execution_count": 64,
      "outputs": [
        {
          "output_type": "execute_result",
          "data": {
            "text/plain": [
              "[('Id', 'bigint'),\n",
              " ('MSZoning', 'string'),\n",
              " ('Street', 'string'),\n",
              " ('LotShape', 'string'),\n",
              " ('LandContour', 'string'),\n",
              " ('Utilities', 'string'),\n",
              " ('LotConfig', 'string'),\n",
              " ('LandSlope', 'string'),\n",
              " ('Neighborhood', 'string'),\n",
              " ('Condition1', 'string'),\n",
              " ('Condition2', 'string'),\n",
              " ('BldgType', 'string'),\n",
              " ('HouseStyle', 'string'),\n",
              " ('OverallQual', 'bigint'),\n",
              " ('YearBuilt', 'bigint'),\n",
              " ('YearRemodAdd', 'bigint'),\n",
              " ('RoofStyle', 'string'),\n",
              " ('RoofMatl', 'string'),\n",
              " ('Exterior1st', 'string'),\n",
              " ('Exterior2nd', 'string'),\n",
              " ('ExterQual', 'string'),\n",
              " ('ExterCond', 'string'),\n",
              " ('Foundation', 'string'),\n",
              " ('BsmtFinSF1', 'bigint'),\n",
              " ('TotalBsmtSF', 'bigint'),\n",
              " ('Heating', 'string'),\n",
              " ('HeatingQC', 'string'),\n",
              " ('CentralAir', 'string'),\n",
              " ('Electrical', 'string'),\n",
              " ('1stFlrSF', 'bigint'),\n",
              " ('2ndFlrSF', 'bigint'),\n",
              " ('GrLivArea', 'bigint'),\n",
              " ('FullBath', 'bigint'),\n",
              " ('KitchenQual', 'string'),\n",
              " ('TotRmsAbvGrd', 'bigint'),\n",
              " ('Functional', 'string'),\n",
              " ('Fireplaces', 'bigint'),\n",
              " ('GarageCars', 'bigint'),\n",
              " ('GarageArea', 'bigint'),\n",
              " ('PavedDrive', 'string'),\n",
              " ('WoodDeckSF', 'bigint'),\n",
              " ('OpenPorchSF', 'bigint'),\n",
              " ('SaleType', 'string'),\n",
              " ('SaleCondition', 'string'),\n",
              " ('SalePrice', 'bigint')]"
            ]
          },
          "metadata": {},
          "execution_count": 64
        }
      ]
    },
    {
      "cell_type": "code",
      "metadata": {
        "colab": {
          "base_uri": "https://localhost:8080/"
        },
        "id": "MVwxqA9SBoAJ",
        "outputId": "fa1cc6db-d2d5-47c5-a7cb-ad7e1a11eb7a"
      },
      "source": [
        "train_df.columns"
      ],
      "execution_count": 67,
      "outputs": [
        {
          "output_type": "execute_result",
          "data": {
            "text/plain": [
              "['Id',\n",
              " 'MSZoning',\n",
              " 'Street',\n",
              " 'LotShape',\n",
              " 'LandContour',\n",
              " 'Utilities',\n",
              " 'LotConfig',\n",
              " 'LandSlope',\n",
              " 'Neighborhood',\n",
              " 'Condition1',\n",
              " 'Condition2',\n",
              " 'BldgType',\n",
              " 'HouseStyle',\n",
              " 'OverallQual',\n",
              " 'YearBuilt',\n",
              " 'YearRemodAdd',\n",
              " 'RoofStyle',\n",
              " 'RoofMatl',\n",
              " 'Exterior1st',\n",
              " 'Exterior2nd',\n",
              " 'ExterQual',\n",
              " 'ExterCond',\n",
              " 'Foundation',\n",
              " 'BsmtFinSF1',\n",
              " 'TotalBsmtSF',\n",
              " 'Heating',\n",
              " 'HeatingQC',\n",
              " 'CentralAir',\n",
              " 'Electrical',\n",
              " '1stFlrSF',\n",
              " '2ndFlrSF',\n",
              " 'GrLivArea',\n",
              " 'FullBath',\n",
              " 'KitchenQual',\n",
              " 'TotRmsAbvGrd',\n",
              " 'Functional',\n",
              " 'Fireplaces',\n",
              " 'GarageCars',\n",
              " 'GarageArea',\n",
              " 'PavedDrive',\n",
              " 'WoodDeckSF',\n",
              " 'OpenPorchSF',\n",
              " 'SaleType',\n",
              " 'SaleCondition',\n",
              " 'SalePrice']"
            ]
          },
          "metadata": {},
          "execution_count": 67
        }
      ]
    },
    {
      "cell_type": "code",
      "metadata": {
        "id": "MuTtVhbYZoJE"
      },
      "source": [
        "na_cols = df2.columns[df2.isna().any()].tolist()"
      ],
      "execution_count": 68,
      "outputs": []
    },
    {
      "cell_type": "code",
      "metadata": {
        "id": "qpPHA6ySY3RQ"
      },
      "source": [
        "train_df = train_df.select([c for c in train_df.columns if c not in na_cols])\n",
        "train_cols = train_df.columns\n",
        "train_cols.remove('SalePrice')"
      ],
      "execution_count": 69,
      "outputs": []
    },
    {
      "cell_type": "code",
      "metadata": {
        "id": "8q6wTcxiZ417"
      },
      "source": [
        "train_string_columns = []\n",
        "\n",
        "for col, dtype in train_df.dtypes:\n",
        "    if dtype == 'string':\n",
        "        train_string_columns.append(col)"
      ],
      "execution_count": 72,
      "outputs": []
    },
    {
      "cell_type": "code",
      "metadata": {
        "id": "0wwOFncBZ87f"
      },
      "source": [
        "indexers = [StringIndexer(inputCol=column, outputCol=column+'_index', handleInvalid='keep').fit(train_df) for column in train_string_columns]\n",
        "\n",
        "\n",
        "pipeline = Pipeline(stages=indexers)\n",
        "train_indexed = pipeline.fit(train_df).transform(train_df)\n"
      ],
      "execution_count": 75,
      "outputs": []
    },
    {
      "cell_type": "code",
      "metadata": {
        "colab": {
          "base_uri": "https://localhost:8080/"
        },
        "id": "yUm7diWVaE0d",
        "outputId": "140c88d6-f406-4e29-ee38-fff998f0797e"
      },
      "source": [
        "print(len(train_indexed.columns))"
      ],
      "execution_count": 76,
      "outputs": [
        {
          "output_type": "stream",
          "name": "stdout",
          "text": [
            "73\n"
          ]
        }
      ]
    },
    {
      "cell_type": "code",
      "metadata": {
        "id": "d1Kkq0dVaK_5"
      },
      "source": [
        "def get_dtype(df,colname):\n",
        "    return [dtype for name, dtype in df.dtypes if name == colname][0]\n",
        "\n",
        "num_cols_train = []\n",
        "for col in train_indexed.columns:\n",
        "    if get_dtype(train_indexed,col) != 'string':\n",
        "        num_cols_train.append(str(col))"
      ],
      "execution_count": 77,
      "outputs": []
    },
    {
      "cell_type": "code",
      "metadata": {
        "id": "ufHAM_2saMqX"
      },
      "source": [
        "train_indexed = train_indexed.select(num_cols_train)"
      ],
      "execution_count": 78,
      "outputs": []
    },
    {
      "cell_type": "code",
      "metadata": {
        "colab": {
          "base_uri": "https://localhost:8080/"
        },
        "id": "0iAiv-KUaRdj",
        "outputId": "a2ed9530-061e-4c6b-d4d1-0f8d6e66cddd"
      },
      "source": [
        "print(len(train_indexed.columns))"
      ],
      "execution_count": 79,
      "outputs": [
        {
          "output_type": "stream",
          "name": "stdout",
          "text": [
            "45\n"
          ]
        }
      ]
    },
    {
      "cell_type": "code",
      "metadata": {
        "id": "zN9tLY8uaWLS"
      },
      "source": [
        "vectorAssembler = VectorAssembler(inputCols = train_indexed.drop(\"SalePrice\").columns, outputCol = 'features').setHandleInvalid(\"keep\")\n",
        "\n",
        "train_vector = vectorAssembler.transform(train_indexed)"
      ],
      "execution_count": 80,
      "outputs": []
    },
    {
      "cell_type": "code",
      "metadata": {
        "id": "L4PA9IY0afdM"
      },
      "source": [
        "splits = train_vector.randomSplit([0.7, 0.3])\n",
        "train = splits[0]\n",
        "val = splits[1]"
      ],
      "execution_count": 81,
      "outputs": []
    },
    {
      "cell_type": "code",
      "metadata": {
        "colab": {
          "base_uri": "https://localhost:8080/"
        },
        "id": "D-u85rcgaoUS",
        "outputId": "3943dcba-7181-409b-9bf8-7548cb19021e"
      },
      "source": [
        "lr = LinearRegression(featuresCol = 'features', labelCol='SalePrice', maxIter=10, \n",
        "                      regParam=0.8, elasticNetParam=0.1) # It is always a good idea to play with hyperparameters.\n",
        "lr_model = lr.fit(train)\n",
        "\n",
        "trainingSummary = lr_model.summary\n",
        "print(\"RMSE: %f\" % trainingSummary.rootMeanSquaredError)\n",
        "print(\"r2: %f\" % trainingSummary.r2)\n",
        "\n",
        "lr_predictions = lr_model.transform(val)\n",
        "lr_predictions = lr_predictions.withColumn(\"prediction\", func.round(lr_predictions[\"prediction\"], 2))\n",
        "lr_predictions.select(\"prediction\",\"SalePrice\",\"features\").show(5)\n",
        "\n",
        "from pyspark.ml.evaluation import RegressionEvaluator\n",
        "lr_evaluator = RegressionEvaluator(predictionCol=\"prediction\", \\\n",
        "                 labelCol=\"SalePrice\",metricName=\"r2\")\n",
        "print(\"R Squared (R2) on val data = %g\" % lr_evaluator.evaluate(lr_predictions))"
      ],
      "execution_count": 95,
      "outputs": [
        {
          "output_type": "stream",
          "name": "stdout",
          "text": [
            "RMSE: 35786.242689\n",
            "r2: 0.809861\n",
            "+----------+---------+--------------------+\n",
            "|prediction|SalePrice|            features|\n",
            "+----------+---------+--------------------+\n",
            "| 201651.69|   181500|(44,[0,1,2,3,4,5,...|\n",
            "| 227495.54|   223500|(44,[0,1,2,3,4,5,...|\n",
            "| 309034.75|   250000|(44,[0,1,2,3,4,5,...|\n",
            "|  71797.18|   118000|(44,[0,1,2,3,4,5,...|\n",
            "| 375266.83|   345000|(44,[0,1,2,3,4,5,...|\n",
            "+----------+---------+--------------------+\n",
            "only showing top 5 rows\n",
            "\n",
            "R Squared (R2) on val data = 0.836549\n"
          ]
        }
      ]
    },
    {
      "cell_type": "code",
      "metadata": {
        "colab": {
          "base_uri": "https://localhost:8080/"
        },
        "id": "Ti9h1vA0atwP",
        "outputId": "9f7dfaf0-c8c2-4e85-dd65-93138a3ee1ef"
      },
      "source": [
        "from pyspark.ml.regression import RandomForestRegressor\n",
        "rf = RandomForestRegressor(featuresCol = 'features', labelCol='SalePrice', \n",
        "                           maxDepth=20, \n",
        "                           minInstancesPerNode=2,\n",
        "                           bootstrap=True\n",
        "                          )\n",
        "rf_model = rf.fit(train)\n",
        "\n",
        "rf_predictions = rf_model.transform(val)\n",
        "rf_predictions = rf_predictions.withColumn(\"prediction\", func.round(rf_predictions[\"prediction\"], 2))\n",
        "rf_predictions.select(\"prediction\",\"SalePrice\",\"features\").show(5)\n",
        "\n",
        "from pyspark.ml.evaluation import RegressionEvaluator\n",
        "rf_evaluator = RegressionEvaluator(predictionCol=\"prediction\", \\\n",
        "                 labelCol=\"SalePrice\",metricName=\"r2\")\n",
        "print(\"R Squared (R2) on val data = %g\" % rf_evaluator.evaluate(rf_predictions))"
      ],
      "execution_count": 96,
      "outputs": [
        {
          "output_type": "stream",
          "name": "stdout",
          "text": [
            "+----------+---------+--------------------+\n",
            "|prediction|SalePrice|            features|\n",
            "+----------+---------+--------------------+\n",
            "| 181420.92|   181500|(44,[0,1,2,3,4,5,...|\n",
            "| 218740.84|   223500|(44,[0,1,2,3,4,5,...|\n",
            "| 292167.92|   250000|(44,[0,1,2,3,4,5,...|\n",
            "| 128906.25|   118000|(44,[0,1,2,3,4,5,...|\n",
            "|  439305.4|   345000|(44,[0,1,2,3,4,5,...|\n",
            "+----------+---------+--------------------+\n",
            "only showing top 5 rows\n",
            "\n",
            "R Squared (R2) on val data = 0.88556\n"
          ]
        }
      ]
    },
    {
      "cell_type": "code",
      "metadata": {
        "id": "Frz9_26Ib8eR"
      },
      "source": [
        ""
      ],
      "execution_count": null,
      "outputs": []
    }
  ]
}